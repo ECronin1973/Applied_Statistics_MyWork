{
 "cells": [
  {
   "cell_type": "markdown",
   "id": "bf22804a",
   "metadata": {},
   "source": [
    "# Project in Applied Statistics Module\n",
    "\n",
    "### Edward Cronin ATU Student G00425645"
   ]
  },
  {
   "cell_type": "markdown",
   "id": "0fa0c529",
   "metadata": {},
   "source": [
    "# PlantGrowth Analysis"
   ]
  },
  {
   "cell_type": "markdown",
   "id": "914a7163",
   "metadata": {},
   "source": [
    "### Steps to complete this project\n",
    "\n",
    "Step 1: Download and Save the Dataset:\n",
    "- The dataset is downloaded from [Vicent Arel-Bundock's Rdatasets page](https://vincentarelbundock.github.io/Rdatasets/datasets.html).\n",
    "- The dataset is saved to Applied_Statistics_MyWork repository.\n",
    "\n",
    "Step 2: Describe the Dataset:\n",
    "- Load the dataset into a pandas DataFrame.\n",
    "- Provide a summary of the dataset, including the number of observations, the variables, and their types.\n",
    "\n",
    "Step 3: Perform t-tests and ANOVA:\n",
    "- Perform a t-test to determine if there is a significant difference between the two treatment groups (trt1 and trt2).\n",
    "- Perform ANOVA to determine if there is a significant difference between the three treatment groups (ctrl, trt1, and trt2).\n",
    "\n",
    "Step 4: Explain my Work:\n",
    "- Describe what a t-test is, how it works, and its assumptions.\n",
    "- Explain why ANOVA is more appropriate than multiple t-tests when analyzing more than two groups."
   ]
  },
  {
   "cell_type": "code",
   "execution_count": null,
   "id": "819632a8",
   "metadata": {},
   "outputs": [],
   "source": [
    "# Import libraries to complete this project\n",
    "import pandas as pd\n",
    "\n",
    "# Step 1\n",
    "# Download the dataset\n",
    "url = 'https://vincentarelbundock.github.io/Rdatasets/csv/datasets/PlantGrowth.csv'\n",
    "# https://pandas.pydata.org/pandas-docs/stable/reference/api/pandas.read_csv.html\n",
    "df = pd.read_csv(url)\n",
    "\n",
    "# Save the dataset to the repository \n",
    "# https://pandas.pydata.org/pandas-docs/stable/reference/api/pandas.DataFrame.to_csv.html\n",
    "df.to_csv('PlantGrowth.csv', index=False)"
   ]
  },
  {
   "cell_type": "code",
   "execution_count": null,
   "id": "25f07ec0",
   "metadata": {},
   "outputs": [
    {
     "name": "stdout",
     "output_type": "stream",
     "text": [
      "   rownames  weight group\n",
      "0         1    4.17  ctrl\n",
      "1         2    5.58  ctrl\n",
      "2         3    5.18  ctrl\n",
      "3         4    6.11  ctrl\n",
      "4         5    4.50  ctrl\n",
      "        rownames     weight\n",
      "count  30.000000  30.000000\n",
      "mean   15.500000   5.073000\n",
      "std     8.803408   0.701192\n",
      "min     1.000000   3.590000\n",
      "25%     8.250000   4.550000\n",
      "50%    15.500000   5.155000\n",
      "75%    22.750000   5.530000\n",
      "max    30.000000   6.310000\n"
     ]
    }
   ],
   "source": [
    "# Step 2\n",
    "# Describe the dataset\n",
    "# # To get an initial look at the dataset, we can display the first few rows using the head() method. This gives us a quick overview of the data.\n",
    "# https://pandas.pydata.org/pandas-docs/stable/reference/api/pandas.DataFrame.html\n",
    "print(df.head())\n",
    "\n",
    "# Print the summary statistics of the dataset\n",
    "# We provide a summary of the dataset using the describe() method. \n",
    "# This method gives us important statistical information about the numerical columns \n",
    "# in the dataset, such as the count, mean, standard deviation, minimum, and maximum values.\n",
    "# https://pandas.pydata.org/pandas-docs/stable/reference/api/pandas.DataFrame.describe.html\n",
    "print(df.describe())"
   ]
  }
 ],
 "metadata": {
  "kernelspec": {
   "display_name": "base",
   "language": "python",
   "name": "python3"
  },
  "language_info": {
   "codemirror_mode": {
    "name": "ipython",
    "version": 3
   },
   "file_extension": ".py",
   "mimetype": "text/x-python",
   "name": "python",
   "nbconvert_exporter": "python",
   "pygments_lexer": "ipython3",
   "version": "3.12.4"
  }
 },
 "nbformat": 4,
 "nbformat_minor": 5
}
