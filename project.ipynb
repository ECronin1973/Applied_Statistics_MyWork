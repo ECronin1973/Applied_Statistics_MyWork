{
 "cells": [
  {
   "cell_type": "markdown",
   "id": "bf22804a",
   "metadata": {},
   "source": [
    "# Project in Applied Statistics Module\n",
    "\n",
    "### Edward Cronin ATU Student G00425645"
   ]
  },
  {
   "cell_type": "markdown",
   "id": "0fa0c529",
   "metadata": {},
   "source": [
    "# PlantGrowth Analysis"
   ]
  },
  {
   "cell_type": "markdown",
   "id": "c0692921",
   "metadata": {},
   "source": [
    "## Overview\n",
    "\n",
    "This project analyzes the PlantGrowth dataset from Vicent Arel-Bundock's Rdatasets page. The dataset contains two main variables: a treatment group and the weight of plants within those groups. The project objective is to perform t-tests and ANOVA on this dataset while describing and explaining the work."
   ]
  },
  {
   "cell_type": "markdown",
   "id": "0963c5c8",
   "metadata": {},
   "source": [
    "## Objectives"
   ]
  },
  {
   "cell_type": "markdown",
   "id": "306732d9",
   "metadata": {},
   "source": [
    "1. Download and Save the Dataset: Download the dataset from Vicent Arel-Bundock's Rdatasets page and save it to your repository.\n",
    "\n",
    "2. Describe the Dataset: Load the dataset into a pandas DataFrame and provide a detailed description in your notebook. This includes summarizing the dataset, displaying the first few rows, and providing statistical information about the variables.\n",
    "\n",
    "3. Describe the t-test: Explain what a t-test is, how it works, and what the assumptions are.\n",
    "\n",
    "4. Perform a t-test: Conduct a t-test to determine whether there is a significant difference between the two treatment groups trt1 and trt2.\n",
    "\n",
    "5. Perform ANOVA: Conduct an ANOVA to determine whether there is a significant difference between the three treatment groups ctrl, trt1, and trt2.\n",
    "\n",
    "6. Explain the Use of ANOVA: Discuss why it is more appropriate to apply ANOVA rather than several t-tests when analyzing more than two groups"
   ]
  },
  {
   "cell_type": "markdown",
   "id": "914a7163",
   "metadata": {},
   "source": [
    "### Steps to complete this project\n",
    "\n",
    "Step 1: Download and Save the Dataset:\n",
    "- The dataset is downloaded from [Vicent Arel-Bundock's Rdatasets page](https://vincentarelbundock.github.io/Rdatasets/datasets.html).\n",
    "- The dataset is saved to Applied_Statistics_MyWork repository.\n",
    "\n",
    "Step 2: Describe the Dataset:\n",
    "- Load the dataset into a pandas DataFrame.\n",
    "- Provide a summary of the dataset, including the number of observations, the variables, and their types.\n",
    "\n",
    "Step 3: Perform t-tests and ANOVA:\n",
    "- Describe what a t-test is, how it works, and its assumptions.\n",
    "- Perform a t-test to determine if there is a significant difference between the two treatment groups (trt1 and trt2).\n",
    "- Perform ANOVA to determine if there is a significant difference between the three treatment groups (ctrl, trt1, and trt2).\n",
    "\n",
    "Step 4: Explain my Work:\n",
    "- Explain why ANOVA is more appropriate than multiple t-tests when analyzing more than two groups."
   ]
  },
  {
   "cell_type": "markdown",
   "id": "0595e7d4",
   "metadata": {},
   "source": [
    "## Download and Save the Dataset"
   ]
  },
  {
   "cell_type": "markdown",
   "id": "009f4deb",
   "metadata": {},
   "source": [
    "The dataset was downloaded from the Vicent Arel-Bundock's Rdatasets page and saved to the repository. The following code was used to complete this task:"
   ]
  },
  {
   "cell_type": "code",
   "execution_count": 1,
   "id": "819632a8",
   "metadata": {},
   "outputs": [],
   "source": [
    "# Import libraries to complete this project\n",
    "import pandas as pd\n",
    "from scipy.stats import ttest_ind\n",
    "import matplotlib.pyplot as plt\n",
    "import seaborn as sns\n",
    "from scipy.stats import f_oneway\n",
    "import numpy as np\n",
    "import statsmodels.api as sm\n",
    "from statsmodels.formula.api import ols\n",
    "from scipy.stats import levene\n",
    "from statsmodels.stats.multicomp import pairwise_tukeyhsd\n",
    "\n",
    "# Download the dataset\n",
    "url = 'https://vincentarelbundock.github.io/Rdatasets/csv/datasets/PlantGrowth.csv'\n",
    "# https://pandas.pydata.org/pandas-docs/stable/reference/api/pandas.read_csv.html\n",
    "df = pd.read_csv(url)\n",
    "\n",
    "# Save the dataset to the repository \n",
    "# https://pandas.pydata.org/pandas-docs/stable/reference/api/pandas.DataFrame.to_csv.html\n",
    "df.to_csv('data/plantgrowth.csv', index=False)"
   ]
  },
  {
   "cell_type": "markdown",
   "id": "ce2689ed",
   "metadata": {},
   "source": [
    "# Step 2: Describe the Dataset"
   ]
  },
  {
   "cell_type": "markdown",
   "id": "117b6a7c",
   "metadata": {},
   "source": [
    "The dataset was loaded into a pandas DataFrame as it is a common practice in data analysis for several reasons:\n",
    "\n",
    "__Ease of Data Manipulation__\n",
    "\n",
    "DataFrames provide a powerful and flexible way to manipulate and analyze data. They allow you to quickly filter, sort, and transform data using intuitive syntax. For example, you can quickly select specific rows or columns, apply functions to the data, and perform aggregations.\n",
    "\n",
    "__Integration with Other Libraries__\n",
    "\n",
    "pandas integrates seamlessly with other Python libraries commonly used in data analysis, such as NumPy, SciPy, Matplotlib, and Seaborn. This integration makes it easy to perform complex statistical analyses, create visualizations, and conduct machine learning tasks.\n",
    "\n",
    "__Handling Missing Data__\n",
    "DataFrames provide robust methods for handling missing data. You can quickly identify, fill, or drop missing values, ensuring your analysis is accurate and reliable.\n",
    "\n",
    "__Data Cleaning and Preparation__\n",
    "Pandas offer a wide range of functions for cleaning and preparing data. You can easily remove duplicates, convert data types, and handle categorical data which is crucial for ensuring that your data is in the correct format for analysis.\n",
    "\n",
    "__Descriptive Statistics and Summarization__\n",
    "DataFrames make it easy to generate descriptive statistics and summaries of your data. You can quickly calculate measures such as mean, median, standard deviation, and more.\n",
    "\n",
    "__Data Visualization__\n",
    "Pandas work well with visualization libraries like Matplotlib and Seaborn. You can create various plots and charts to visualize your data and gain insights. Visualizations are essential for communicating your findings and making data-driven decisions.\n",
    "\n",
    "__Exploration of Dataset__\n",
    "The first few rows of the dataset were displayed using the head() method, which gives a quick overview of the data. Next, we summarize the dataset using the describe() method. This method gives us crucial statistical information about the numerical columns in the dataset, such as the count, mean, standard deviation, minimum, and maximum values. To get information on the dataset, such as the number of observations, the info() method is used. The following code was used to complete this task:"
   ]
  },
  {
   "cell_type": "markdown",
   "id": "09faef0a",
   "metadata": {},
   "source": [
    "## Describe the Dataset"
   ]
  },
  {
   "cell_type": "code",
   "execution_count": 2,
   "id": "edc12dd8",
   "metadata": {},
   "outputs": [
    {
     "name": "stdout",
     "output_type": "stream",
     "text": [
      "   ctrl  trt1  trt2\n",
      "0  4.17   NaN   NaN\n",
      "1  5.58   NaN   NaN\n",
      "2  5.18   NaN   NaN\n",
      "3  6.11   NaN   NaN\n",
      "4  4.50   NaN   NaN\n"
     ]
    }
   ],
   "source": [
    "# # To get an initial look at the dataset, we can display the first few rows using the head() method. This gives us a quick overview of the data.\n",
    "# https://pandas.pydata.org/pandas-docs/stable/reference/api/pandas.DataFrame.html\n",
    "\n",
    "# Extract the treatment groups\n",
    "ctrl = df[df['group'] == 'ctrl']['weight']\n",
    "trt1 = df[df['group'] == 'trt1']['weight']\n",
    "trt2 = df[df['group'] == 'trt2']['weight']\n",
    "\n",
    "df = pd.DataFrame({'ctrl': ctrl, 'trt1': trt1, 'trt2': trt2})\n",
    "print(df.head())"
   ]
  },
  {
   "cell_type": "code",
   "execution_count": 3,
   "metadata": {},
   "outputs": [
    {
     "data": {
      "text/html": [
       "<div>\n",
       "<style scoped>\n",
       "    .dataframe tbody tr th:only-of-type {\n",
       "        vertical-align: middle;\n",
       "    }\n",
       "\n",
       "    .dataframe tbody tr th {\n",
       "        vertical-align: top;\n",
       "    }\n",
       "\n",
       "    .dataframe thead th {\n",
       "        text-align: right;\n",
       "    }\n",
       "</style>\n",
       "<table border=\"1\" class=\"dataframe\">\n",
       "  <thead>\n",
       "    <tr style=\"text-align: right;\">\n",
       "      <th></th>\n",
       "      <th>ctrl</th>\n",
       "      <th>trt1</th>\n",
       "      <th>trt2</th>\n",
       "    </tr>\n",
       "  </thead>\n",
       "  <tbody>\n",
       "    <tr>\n",
       "      <th>0</th>\n",
       "      <td>4.17</td>\n",
       "      <td>NaN</td>\n",
       "      <td>NaN</td>\n",
       "    </tr>\n",
       "    <tr>\n",
       "      <th>1</th>\n",
       "      <td>5.58</td>\n",
       "      <td>NaN</td>\n",
       "      <td>NaN</td>\n",
       "    </tr>\n",
       "    <tr>\n",
       "      <th>2</th>\n",
       "      <td>5.18</td>\n",
       "      <td>NaN</td>\n",
       "      <td>NaN</td>\n",
       "    </tr>\n",
       "    <tr>\n",
       "      <th>3</th>\n",
       "      <td>6.11</td>\n",
       "      <td>NaN</td>\n",
       "      <td>NaN</td>\n",
       "    </tr>\n",
       "    <tr>\n",
       "      <th>4</th>\n",
       "      <td>4.50</td>\n",
       "      <td>NaN</td>\n",
       "      <td>NaN</td>\n",
       "    </tr>\n",
       "    <tr>\n",
       "      <th>5</th>\n",
       "      <td>4.61</td>\n",
       "      <td>NaN</td>\n",
       "      <td>NaN</td>\n",
       "    </tr>\n",
       "    <tr>\n",
       "      <th>6</th>\n",
       "      <td>5.17</td>\n",
       "      <td>NaN</td>\n",
       "      <td>NaN</td>\n",
       "    </tr>\n",
       "    <tr>\n",
       "      <th>7</th>\n",
       "      <td>4.53</td>\n",
       "      <td>NaN</td>\n",
       "      <td>NaN</td>\n",
       "    </tr>\n",
       "    <tr>\n",
       "      <th>8</th>\n",
       "      <td>5.33</td>\n",
       "      <td>NaN</td>\n",
       "      <td>NaN</td>\n",
       "    </tr>\n",
       "    <tr>\n",
       "      <th>9</th>\n",
       "      <td>5.14</td>\n",
       "      <td>NaN</td>\n",
       "      <td>NaN</td>\n",
       "    </tr>\n",
       "    <tr>\n",
       "      <th>10</th>\n",
       "      <td>NaN</td>\n",
       "      <td>4.81</td>\n",
       "      <td>NaN</td>\n",
       "    </tr>\n",
       "    <tr>\n",
       "      <th>11</th>\n",
       "      <td>NaN</td>\n",
       "      <td>4.17</td>\n",
       "      <td>NaN</td>\n",
       "    </tr>\n",
       "    <tr>\n",
       "      <th>12</th>\n",
       "      <td>NaN</td>\n",
       "      <td>4.41</td>\n",
       "      <td>NaN</td>\n",
       "    </tr>\n",
       "    <tr>\n",
       "      <th>13</th>\n",
       "      <td>NaN</td>\n",
       "      <td>3.59</td>\n",
       "      <td>NaN</td>\n",
       "    </tr>\n",
       "    <tr>\n",
       "      <th>14</th>\n",
       "      <td>NaN</td>\n",
       "      <td>5.87</td>\n",
       "      <td>NaN</td>\n",
       "    </tr>\n",
       "    <tr>\n",
       "      <th>15</th>\n",
       "      <td>NaN</td>\n",
       "      <td>3.83</td>\n",
       "      <td>NaN</td>\n",
       "    </tr>\n",
       "    <tr>\n",
       "      <th>16</th>\n",
       "      <td>NaN</td>\n",
       "      <td>6.03</td>\n",
       "      <td>NaN</td>\n",
       "    </tr>\n",
       "    <tr>\n",
       "      <th>17</th>\n",
       "      <td>NaN</td>\n",
       "      <td>4.89</td>\n",
       "      <td>NaN</td>\n",
       "    </tr>\n",
       "    <tr>\n",
       "      <th>18</th>\n",
       "      <td>NaN</td>\n",
       "      <td>4.32</td>\n",
       "      <td>NaN</td>\n",
       "    </tr>\n",
       "    <tr>\n",
       "      <th>19</th>\n",
       "      <td>NaN</td>\n",
       "      <td>4.69</td>\n",
       "      <td>NaN</td>\n",
       "    </tr>\n",
       "    <tr>\n",
       "      <th>20</th>\n",
       "      <td>NaN</td>\n",
       "      <td>NaN</td>\n",
       "      <td>6.31</td>\n",
       "    </tr>\n",
       "    <tr>\n",
       "      <th>21</th>\n",
       "      <td>NaN</td>\n",
       "      <td>NaN</td>\n",
       "      <td>5.12</td>\n",
       "    </tr>\n",
       "    <tr>\n",
       "      <th>22</th>\n",
       "      <td>NaN</td>\n",
       "      <td>NaN</td>\n",
       "      <td>5.54</td>\n",
       "    </tr>\n",
       "    <tr>\n",
       "      <th>23</th>\n",
       "      <td>NaN</td>\n",
       "      <td>NaN</td>\n",
       "      <td>5.50</td>\n",
       "    </tr>\n",
       "    <tr>\n",
       "      <th>24</th>\n",
       "      <td>NaN</td>\n",
       "      <td>NaN</td>\n",
       "      <td>5.37</td>\n",
       "    </tr>\n",
       "    <tr>\n",
       "      <th>25</th>\n",
       "      <td>NaN</td>\n",
       "      <td>NaN</td>\n",
       "      <td>5.29</td>\n",
       "    </tr>\n",
       "    <tr>\n",
       "      <th>26</th>\n",
       "      <td>NaN</td>\n",
       "      <td>NaN</td>\n",
       "      <td>4.92</td>\n",
       "    </tr>\n",
       "    <tr>\n",
       "      <th>27</th>\n",
       "      <td>NaN</td>\n",
       "      <td>NaN</td>\n",
       "      <td>6.15</td>\n",
       "    </tr>\n",
       "    <tr>\n",
       "      <th>28</th>\n",
       "      <td>NaN</td>\n",
       "      <td>NaN</td>\n",
       "      <td>5.80</td>\n",
       "    </tr>\n",
       "    <tr>\n",
       "      <th>29</th>\n",
       "      <td>NaN</td>\n",
       "      <td>NaN</td>\n",
       "      <td>5.26</td>\n",
       "    </tr>\n",
       "  </tbody>\n",
       "</table>\n",
       "</div>"
      ],
      "text/plain": [
       "    ctrl  trt1  trt2\n",
       "0   4.17   NaN   NaN\n",
       "1   5.58   NaN   NaN\n",
       "2   5.18   NaN   NaN\n",
       "3   6.11   NaN   NaN\n",
       "4   4.50   NaN   NaN\n",
       "5   4.61   NaN   NaN\n",
       "6   5.17   NaN   NaN\n",
       "7   4.53   NaN   NaN\n",
       "8   5.33   NaN   NaN\n",
       "9   5.14   NaN   NaN\n",
       "10   NaN  4.81   NaN\n",
       "11   NaN  4.17   NaN\n",
       "12   NaN  4.41   NaN\n",
       "13   NaN  3.59   NaN\n",
       "14   NaN  5.87   NaN\n",
       "15   NaN  3.83   NaN\n",
       "16   NaN  6.03   NaN\n",
       "17   NaN  4.89   NaN\n",
       "18   NaN  4.32   NaN\n",
       "19   NaN  4.69   NaN\n",
       "20   NaN   NaN  6.31\n",
       "21   NaN   NaN  5.12\n",
       "22   NaN   NaN  5.54\n",
       "23   NaN   NaN  5.50\n",
       "24   NaN   NaN  5.37\n",
       "25   NaN   NaN  5.29\n",
       "26   NaN   NaN  4.92\n",
       "27   NaN   NaN  6.15\n",
       "28   NaN   NaN  5.80\n",
       "29   NaN   NaN  5.26"
      ]
     },
     "execution_count": 3,
     "metadata": {},
     "output_type": "execute_result"
    }
   ],
   "source": [
    "# Show full dataframe output.\n",
    "df"
   ]
  },
  {
   "cell_type": "markdown",
   "id": "d8ed6ffc",
   "metadata": {},
   "source": [
    "### Data Frame Output Explained\n",
    "\n",
    "The values in each row represent the weight of the plants in each group. In row 1:\n",
    "\n",
    "The weight of the plant in the control group (ctrl) is 4.17.\n",
    "\n",
    "The weight of the plant in the first treatment group (trt1) is not available (represented by NaN, which stands for \"Not a Number\").\n",
    "\n",
    "The weight of the plant in the second treatment group (trt2) is also not available (NaN).\n",
    "\n",
    "This indicates that for this particular observation, only the weight of the plant in the control group was recorded, while the weights for the treatment groups were not recorded or are missing."
   ]
  },
  {
   "cell_type": "code",
   "execution_count": 4,
   "id": "626ea781",
   "metadata": {},
   "outputs": [
    {
     "data": {
      "text/html": [
       "<div>\n",
       "<style scoped>\n",
       "    .dataframe tbody tr th:only-of-type {\n",
       "        vertical-align: middle;\n",
       "    }\n",
       "\n",
       "    .dataframe tbody tr th {\n",
       "        vertical-align: top;\n",
       "    }\n",
       "\n",
       "    .dataframe thead th {\n",
       "        text-align: right;\n",
       "    }\n",
       "</style>\n",
       "<table border=\"1\" class=\"dataframe\">\n",
       "  <thead>\n",
       "    <tr style=\"text-align: right;\">\n",
       "      <th></th>\n",
       "      <th>ctrl</th>\n",
       "      <th>trt1</th>\n",
       "      <th>trt2</th>\n",
       "    </tr>\n",
       "  </thead>\n",
       "  <tbody>\n",
       "    <tr>\n",
       "      <th>count</th>\n",
       "      <td>10.000000</td>\n",
       "      <td>10.000000</td>\n",
       "      <td>10.000000</td>\n",
       "    </tr>\n",
       "    <tr>\n",
       "      <th>mean</th>\n",
       "      <td>5.032000</td>\n",
       "      <td>4.661000</td>\n",
       "      <td>5.526000</td>\n",
       "    </tr>\n",
       "    <tr>\n",
       "      <th>std</th>\n",
       "      <td>0.583091</td>\n",
       "      <td>0.793676</td>\n",
       "      <td>0.442573</td>\n",
       "    </tr>\n",
       "    <tr>\n",
       "      <th>min</th>\n",
       "      <td>4.170000</td>\n",
       "      <td>3.590000</td>\n",
       "      <td>4.920000</td>\n",
       "    </tr>\n",
       "    <tr>\n",
       "      <th>25%</th>\n",
       "      <td>4.550000</td>\n",
       "      <td>4.207500</td>\n",
       "      <td>5.267500</td>\n",
       "    </tr>\n",
       "    <tr>\n",
       "      <th>50%</th>\n",
       "      <td>5.155000</td>\n",
       "      <td>4.550000</td>\n",
       "      <td>5.435000</td>\n",
       "    </tr>\n",
       "    <tr>\n",
       "      <th>75%</th>\n",
       "      <td>5.292500</td>\n",
       "      <td>4.870000</td>\n",
       "      <td>5.735000</td>\n",
       "    </tr>\n",
       "    <tr>\n",
       "      <th>max</th>\n",
       "      <td>6.110000</td>\n",
       "      <td>6.030000</td>\n",
       "      <td>6.310000</td>\n",
       "    </tr>\n",
       "  </tbody>\n",
       "</table>\n",
       "</div>"
      ],
      "text/plain": [
       "            ctrl       trt1       trt2\n",
       "count  10.000000  10.000000  10.000000\n",
       "mean    5.032000   4.661000   5.526000\n",
       "std     0.583091   0.793676   0.442573\n",
       "min     4.170000   3.590000   4.920000\n",
       "25%     4.550000   4.207500   5.267500\n",
       "50%     5.155000   4.550000   5.435000\n",
       "75%     5.292500   4.870000   5.735000\n",
       "max     6.110000   6.030000   6.310000"
      ]
     },
     "execution_count": 4,
     "metadata": {},
     "output_type": "execute_result"
    }
   ],
   "source": [
    "# Describe the dataset\n",
    "# We provide a summary of the dataset using the describe() method. \n",
    "# This method gives us important statistical information about the numerical columns \n",
    "# in the dataset, such as the count, mean, standard deviation, minimum, and maximum values.\n",
    "# https://pandas.pydata.org/pandas-docs/stable/reference/api/pandas.DataFrame.describe.html\n",
    "df.describe()"
   ]
  },
  {
   "cell_type": "markdown",
   "id": "1ca6f336",
   "metadata": {},
   "source": [
    "## Information about the dataset "
   ]
  },
  {
   "cell_type": "code",
   "execution_count": 5,
   "id": "32debb9b",
   "metadata": {},
   "outputs": [
    {
     "name": "stdout",
     "output_type": "stream",
     "text": [
      "<class 'pandas.core.frame.DataFrame'>\n",
      "Index: 30 entries, 0 to 29\n",
      "Data columns (total 3 columns):\n",
      " #   Column  Non-Null Count  Dtype  \n",
      "---  ------  --------------  -----  \n",
      " 0   ctrl    10 non-null     float64\n",
      " 1   trt1    10 non-null     float64\n",
      " 2   trt2    10 non-null     float64\n",
      "dtypes: float64(3)\n",
      "memory usage: 960.0 bytes\n",
      "None\n"
     ]
    }
   ],
   "source": [
    "# The info() method provides a concise summary of the dataset\n",
    "# https://pandas.pydata.org/pandas-docs/stable/reference/api/pandas.DataFrame.info.html\n",
    "print(df.info())"
   ]
  },
  {
   "cell_type": "markdown",
   "id": "826cbf2f",
   "metadata": {},
   "source": [
    "# Step 3: Perform T-Test"
   ]
  },
  {
   "cell_type": "markdown",
   "id": "cce05add",
   "metadata": {},
   "source": [
    "https://www.scribbr.com/statistics/t-test/\n",
    "\n",
    "https://www.statisticshowto.com/probability-and-statistics/t-test/\n",
    "\n",
    "A t-test is a statistical test used to compare the means of two groups to determine if they are significantly different from each other. It is a fundamental method in hypothesis testing to assess the differences between groups. Here’s a detailed explanation:\n",
    "\n",
    "### What is a t-test?\n",
    "\n",
    "A t-test evaluates whether the means of two groups are statistically different from each other. It is based on the t-distribution and is commonly used when the sample sizes are small and the population standard deviations are unknown. There are different types of t-tests, including:\n",
    "\n",
    "__Independent Samples t-test:__ Compares the means of two independent groups (e.g., treatment vs. control).\n",
    "\n",
    "__Paired Samples t-test:__ Compares the means of the same group at different times (e.g., before and after treatment).\n",
    "\n",
    "__One-Sample t-test:__ Compares the mean of a single group to a known value or population mean.\n",
    "\n",
    "### Why is it important?\n",
    "\n",
    "The t-test is important for several reasons:\n",
    "\n",
    "__Hypothesis Testing:__ It helps in testing hypotheses about the population means. For example, it can determine if a new treatment is more effective than an existing one.\n",
    "\n",
    "__Decision Making:__ It provides a basis for making decisions based on data. For instance, businesses can use t-tests to compare the performance of two products.\n",
    "\n",
    "__Scientific Research:__ It is widely used in scientific research to validate experimental results and ensure that observed differences are not due to random chance.\n",
    "\n",
    "__Simplicity and Efficiency:__ The t-test is relatively simple to perform and interpret, making it accessible for researchers and analysts."
   ]
  },
  {
   "cell_type": "markdown",
   "id": "c2bc8d90",
   "metadata": {},
   "source": [
    "### Load the Data and Seperate the Groups"
   ]
  },
  {
   "cell_type": "code",
   "execution_count": 6,
   "id": "3cc27563",
   "metadata": {},
   "outputs": [],
   "source": [
    "# Data was loaded successully in Step 1\n",
    "\n",
    "# Filter the dataset to include only trt1 and trt2 groups\n",
    "df_original = pd.read_csv(url)\n",
    "df_filtered = df_original[df_original['group'].isin(['trt1', 'trt2'])]\n",
    "\n",
    "# Extract the treatment groups\n",
    "trt1 = df_filtered[df_filtered['group'] == 'trt1']['weight']\n",
    "trt2 = df_filtered[df_filtered['group'] == 'trt2']['weight']\n",
    "\n"
   ]
  },
  {
   "cell_type": "markdown",
   "id": "4d667d41",
   "metadata": {},
   "source": [
    "### Calculate the Means and Standard Deviations"
   ]
  },
  {
   "cell_type": "code",
   "execution_count": 7,
   "id": "ab9fdcfb",
   "metadata": {},
   "outputs": [
    {
     "name": "stdout",
     "output_type": "stream",
     "text": [
      "Mean of trt1: 4.661, Standard Deviation of trt1: 0.7936756964347034\n",
      "Mean of trt2: 5.526, Standard Deviation of trt2: 0.44257328332278606\n"
     ]
    }
   ],
   "source": [
    "# Calculate means and standard deviations\n",
    "mean_trt1 = trt1.mean()\n",
    "mean_trt2 = trt2.mean()\n",
    "std_trt1 = trt1.std()\n",
    "std_trt2 = trt2.std()\n",
    "\n",
    "print(f\"Mean of trt1: {mean_trt1}, Standard Deviation of trt1: {std_trt1}\")\n",
    "print(f\"Mean of trt2: {mean_trt2}, Standard Deviation of trt2: {std_trt2}\")"
   ]
  },
  {
   "cell_type": "markdown",
   "id": "09284226",
   "metadata": {},
   "source": [
    "### Interpretation of Output of Mean and Standard Deviations"
   ]
  },
  {
   "cell_type": "markdown",
   "id": "138e8607",
   "metadata": {},
   "source": [
    "__Mean of trt1: 4.661__\n",
    "\n",
    "Mean: The mean (average) weight of plants in the treatment group trt1 is 4.661. This value represents the central tendency of the plant weights in this group.\n",
    "\n",
    "__Standard Deviation of trt1: 0.7936756964347034__\n",
    "\n",
    "Standard Deviation: The standard deviation of 0.7936756964347034 indicates the amount of variation or dispersion of plant weights around the mean in the trt1 group. A lower standard deviation means the weights are closer to the mean, while a higher standard deviation indicates more spread out weights.\n",
    "\n",
    "__Mean of trt2: 5.526__\n",
    "\n",
    "Mean: The mean (average) weight of plants in the treatment group trt2 is 5.526. This value represents the central tendency of the plant weights in this group.\n",
    "\n",
    "__Standard Deviation of trt2: 0.44257328332278606__\n",
    "\n",
    "Standard Deviation: The standard deviation of 0.44257328332278606 indicates the amount of variation or dispersion of plant weights around the mean in the trt2 group. A lower standard deviation means the weights are closer to the mean, while a higher standard deviation indicates more spread out weights.\n",
    "\n",
    "__Practical Implications__\n",
    "\n",
    "Comparison of Means: The mean weight of plants in trt2 (5.526) is higher than in trt1 (4.661), suggesting that the treatment trt2 might be more effective in increasing plant weight.\n",
    "\n",
    "__Comparison of Standard Deviations:__\n",
    "\n",
    "The standard deviation in trt2 (0.44257328332278606) is lower than in trt1 (0.7936756964347034), indicating that the weights in trt2 are more consistently close to the mean compared to trt1.\n",
    "\n",
    "These statistics provide insights into the effectiveness and consistency of the treatments applied to the plants."
   ]
  },
  {
   "cell_type": "markdown",
   "id": "27d83c83",
   "metadata": {},
   "source": [
    "## T-Test Assumptions"
   ]
  },
  {
   "cell_type": "markdown",
   "id": "4c574f8c",
   "metadata": {},
   "source": [
    "  ### What are the assumptions of a t-test?\n",
    " \n",
    " __Normality:__ \n",
    "\n",
    " https://statisticsbyjim.com/hypothesis-testing/t-test/\n",
    "\n",
    " - The data should be approximately normally distributed. This is especially important for small sample sizes\n",
    " - In the context of the PlantGrowth dataset, we need to check if the weights of the plants within each treatment group (ctrl, trt1, trt2) are normally distributed. This can be done using visual methods like histograms or Q-Q plots, or statistical tests like the Shapiro-Wilk test.\n",
    " \n",
    " __Homogeneity of Variances:__ \n",
    "\n",
    " https://www.statisticshowto.com/probability-and-statistics/hypothesis-testing/anova/homogeneity-tests/\n",
    "\n",
    " - The variances of the two groups should be equal. This assumption can be tested using tests such as Levene's test\n",
    " - For the PlantGrowth dataset, we need to ensure that the variances of the plant weights across the different treatment groups are equal. If the variances are not equal, the t-test results may not be valid.\n",
    "\n",
    " c. __Independence:__ \n",
    "\n",
    " https://www.statisticshowto.com/probability-and-statistics/statistics-definitions/independence-statistics/\n",
    "\n",
    " -The observations within each group should be independent of each other. \n",
    " - In the PlantGrowth dataset, one plant's weight should not influence another plant's weight when it is within the same group. This assumption is crucial to ensure that the t-test results are valid.\n",
    "\n",
    " d. __Random sampling:__ \n",
    "\n",
    " https://www.statology.org/t-test-assumptions/\n",
    "\n",
    " - Both samples should be obtained using a random sampling method.\n",
    " - For the PlantGrowth dataset, the plants should have been randomly assigned to the different treatment groups. Random sampling helps ensure that the samples are representative of the population and that the t-test results are generalisable.\n",
    " -  By ensuring that these assumptions are met, we can confidently perform t-tests on the PlantGrowth dataset to determine if there are significant differences in plant weights between the treatment groups.  It is important to note however, that if one or more of these assumptions are violated, then the results of the two-sample t-test may be unreliable or even misleading."
   ]
  },
  {
   "cell_type": "markdown",
   "id": "a6abe8f1",
   "metadata": {},
   "source": [
    "## Perform T-Test"
   ]
  },
  {
   "cell_type": "code",
   "execution_count": 8,
   "id": "bc7d5842",
   "metadata": {},
   "outputs": [
    {
     "name": "stdout",
     "output_type": "stream",
     "text": [
      "t-statistic: -3.0100985421243616, p-value: 0.0075184261182198574\n"
     ]
    }
   ],
   "source": [
    "# Perform the t-test\n",
    "t_statistic, p_value = ttest_ind(trt1, trt2)\n",
    "\n",
    "print(f\"t-statistic: {t_statistic}, p-value: {p_value}\")\n"
   ]
  },
  {
   "cell_type": "markdown",
   "id": "e70bae8a",
   "metadata": {},
   "source": [
    "## Use scipy.stats to verify the t-statistic\n",
    "\n",
    "In this step, we will use the scipy.stats module to verify the t-statistic. This verification ensures the accuracy of our calculations and provides a reliable method to cross-check our results."
   ]
  },
  {
   "cell_type": "code",
   "execution_count": 9,
   "id": "7b73b2fc",
   "metadata": {},
   "outputs": [
    {
     "name": "stdout",
     "output_type": "stream",
     "text": [
      "scipy.stats t-statistic: -3.0100985421243616, p-value: 0.0075184261182198574\n"
     ]
    }
   ],
   "source": [
    "# Use scipy.stats to verify the t-statistic\n",
    "# https://docs.scipy.org/doc/scipy/reference/generated/scipy.stats.ttest_rel.html\n",
    "t_statistic_scipy, p_value = ttest_ind(trt1, trt2)\n",
    "print(f\"scipy.stats t-statistic: {t_statistic_scipy}, p-value: {p_value}\")"
   ]
  },
  {
   "cell_type": "markdown",
   "id": "613e079f",
   "metadata": {},
   "source": [
    "## Statistical Significance of T-Test output"
   ]
  },
  {
   "cell_type": "markdown",
   "id": "27235d68",
   "metadata": {},
   "source": [
    "Since the p-value is less than 0.05, we reject the null hypothesis that there is no difference between the means of the two treatment groups. This means that the observed difference in plant weights between trt1 and trt2 is unlikely to have occurred by chance.\n",
    "\n",
    "Effectiveness of Treatments: The significant difference suggests that the treatment trt2 is more effective in increasing plant weight compared to trt1.\n",
    "\n",
    "These results provide strong evidence that the treatment trt2 has a significant impact on plant growth compared to trt1, which can inform future agricultural practices or experimental designs."
   ]
  },
  {
   "cell_type": "markdown",
   "id": "b7624881",
   "metadata": {},
   "source": [
    "## Further Analysis of t-test using Plots"
   ]
  },
  {
   "cell_type": "markdown",
   "id": "ddb4b63f",
   "metadata": {},
   "source": [
    "### Box plot\n",
    "\n",
    "https://seaborn.pydata.org/generated/seaborn.boxplot.html\n",
    "\n"
   ]
  },
  {
   "cell_type": "code",
   "execution_count": 10,
   "id": "2894d255",
   "metadata": {},
   "outputs": [
    {
     "data": {
      "image/png": "[encoded data removed]",
      "text/plain": [
       "<Figure size 1000x600 with 1 Axes>"
      ]
     },
     "metadata": {},
     "output_type": "display_data"
    }
   ],
   "source": [
    "# Set the style of the visualization\n",
    "sns.set_theme(style=\"whitegrid\")\n",
    "\n",
    "# Create the box plot\n",
    "plt.figure(figsize=(10, 6)) \n",
    "sns.boxplot(x='group', y='weight', data=df_filtered) \n",
    "plt.title('Plant Weights by Treatment Group (trt1 vs trt2)') \n",
    "plt.xlabel('Treatment Group') \n",
    "plt.ylabel('Weight') \n",
    "\n",
    "# Save the Box Plot as an image file \n",
    "plt.savefig('images/plant_weights_by_treatment_group.png') \n",
    "\n",
    "# Show the plot\n",
    "plt.show()"
   ]
  },
  {
   "cell_type": "markdown",
   "id": "c291d881",
   "metadata": {},
   "source": [
    "### Swarm Plot\n",
    "https://seaborn.pydata.org/generated/seaborn.swarmplot.html\n",
    "\n",
    "A swarm plot shows individual data points along with their distribution. This helps visualize the spread of data and identify any patterns or outliers."
   ]
  },
  {
   "cell_type": "code",
   "execution_count": 11,
   "id": "aa719109",
   "metadata": {},
   "outputs": [
    {
     "data": {
      "image/png": "[encoded data removed]",
      "text/plain": [
       "<Figure size 1000x600 with 1 Axes>"
      ]
     },
     "metadata": {},
     "output_type": "display_data"
    }
   ],
   "source": [
    "# Filter the dataframe for the two treatment groups\n",
    "df_filtered = df_original[df_original['group'].isin(['trt1', 'trt2'])]\n",
    "\n",
    "# Set the style of the visualization \n",
    "sns.set_theme(style=\"whitegrid\") \n",
    "\n",
    "# Create the swarm plot \n",
    "plt.figure(figsize=(10, 6)) \n",
    "sns.swarmplot(x='group', y='weight', data=df_filtered, hue='group', palette=\"muted\", size=8, legend=True) \n",
    "plt.title('Plant Weights by Treatment Group (trt1 vs trt2)') \n",
    "plt.xlabel('Treatment Group') \n",
    "plt.ylabel('Weight') \n",
    "\n",
    "# Save the Swarm Plot as an image file \n",
    "plt.savefig('images/plant_weights_swarmplot_trt1_vs_trt2.png') \n",
    "\n",
    "# Show the plot\n",
    "plt.show()"
   ]
  },
  {
   "cell_type": "markdown",
   "id": "3e1fbae0",
   "metadata": {},
   "source": [
    "### Violin Plot\n",
    "https://seaborn.pydata.org/generated/seaborn.violinplot.html\n",
    "\n",
    "A violin plot combines aspects of a box plot and a density plot, showing the distribution of the data across different treatment groups, and indicating where data points are concentrated."
   ]
  },
  {
   "cell_type": "code",
   "execution_count": 12,
   "id": "5a72a7a1",
   "metadata": {},
   "outputs": [
    {
     "data": {
      "image/png": "[encoded data removed]",
      "text/plain": [
       "<Figure size 1000x600 with 1 Axes>"
      ]
     },
     "metadata": {},
     "output_type": "display_data"
    }
   ],
   "source": [
    "# Filter the dataset to include only trt1 and trt2 groups \n",
    "df_filtered = df_original[df_original['group'].isin(['trt1', 'trt2'])] \n",
    "\n",
    "# Set the style of the visualization \n",
    "sns.set_theme(style=\"whitegrid\") \n",
    "\n",
    "# Create the violin plot \n",
    "plt.figure(figsize=(10, 6)) \n",
    "sns.violinplot(x='group', y='weight', data=df_filtered, hue='group', palette=\"muted\", legend=True) \n",
    "plt.title('Plant Weights by Treatment Group (trt1 vs trt2)') \n",
    "plt.xlabel('Treatment Group') \n",
    "plt.ylabel('Weight') \n",
    "\n",
    "# Save the Violin Plot as an image file \n",
    "plt.savefig('images/plant_weights_violinplot_trt1_vs_trt2.png') \n",
    "\n",
    "# Show the plot\n",
    "plt.show()"
   ]
  },
  {
   "cell_type": "markdown",
   "id": "e62f4c48",
   "metadata": {},
   "source": [
    "## How the Charts Add to Our Initial Analysis\n",
    "\n",
    "By using these various charts, we gained a comprehensive understanding of the data, allowing us to:\n",
    "\n",
    "Identify Anomalies: Swarm plots, violin plots, and box plots help us spot any outliers or unusual data points that deviate significantly from the rest of the data. For example, in a swarm plot, any data points that are significantly distant from the rest of the group could be potential outliers [IBM](https://www.ibm.com/topics/anomaly-detection).   In a violin plot, unusual peaks or dips in the density could indicate anomalies [statology.org](https://www.statology.org/violin-plot-in-r/). Box plots show anomalies as separate points outside the whiskers [otexts.com](https://otexts.com/weird/05-boxplots.html).\n",
    "\n",
    "Visualize Distribution: These plots provide a clear visual representation of the distribution of plant weights within each treatment group. Swarm plots show the spread and density of individual data points, violin plots display the distribution and density, and box plots summarize the central tendency, spread, and potential outliers.\n",
    "\n",
    "Compare Groups: By comparing the plots of different treatment groups (trt1 and trt2), we can visually assess the differences in distributions, central tendencies, and variances. This helps us understand how the treatments affect plant weights and identify any significant differences between the groups.\n",
    "\n",
    "Support Statistical Analysis: These visualizations complement the t-test results by providing a visual context for the statistical findings. They help validate and interpret the results, making it easier to communicate the insights gained from the analysis.\n",
    "\n",
    "By leveraging these charts, we can gain a more comprehensive understanding of the data, identify patterns and anomalies, and support our statistical analysis with clear visual evidence."
   ]
  },
  {
   "cell_type": "markdown",
   "id": "f9b2e418",
   "metadata": {},
   "source": [
    "# Step 4 Perform ANOVA Test\n",
    "\n",
    "\n",
    "https://docs.scipy.org/doc/scipy/reference/generated/scipy.stats.f_oneway.html  \n",
    "\n",
    "https://statistics.laerd.com/spss-tutorials/one-way-anova-using-spss-statistics.php  \n",
    "\n",
    "Since the output of Levene's test is greater than 0.05 p-value (0.3412266241254737),  we failed to reject the null hypothesis. This means that the variances are equal across the treatment groups, confirming the assumption of homogeneity of variances. In other words, the variability in plant weights is consistent across the different treatment groups (ctrl, trt1, and trt2).\n",
    "\n",
    "This result is important because it validates the use of ANOVA, which assumes that the variances of the groups being compared are equal."
   ]
  },
  {
   "cell_type": "markdown",
   "id": "1492f448",
   "metadata": {},
   "source": [
    "## Levene's test\n",
    "\n",
    "\n",
    "According to [Laerd Statistics](https://statistics.laerd.com/spss-tutorials/one-way-anova-using-spss-statistics.php) to confirm the assumption of homogeneity of variances in our data, we should use Levene's test. Levene's test checks whether the variances across different groups are equal, which is a crucial assumption for performing a one-way ANOVA. If Levene's test indicates that the variances are not equal, we may need to use an alternative test, such as the Welch ANOVA, which does not assume equal variances."
   ]
  },
  {
   "cell_type": "code",
   "execution_count": 13,
   "id": "24518596",
   "metadata": {},
   "outputs": [
    {
     "name": "stdout",
     "output_type": "stream",
     "text": [
      "Levene's Test: Stat=1.1191856948703909, p-value=0.3412266241254737\n",
      "The variances are equal (homogeneity of variances).\n",
      "ANOVA F-statistic: 4.846087862380136, p-value: 0.0159099583256229\n"
     ]
    }
   ],
   "source": [
    "# Perform Levene's test\n",
    "levene_stat, levene_p_value = levene(ctrl, trt1, trt2)\n",
    "\n",
    "print(f\"Levene's Test: Stat={levene_stat}, p-value={levene_p_value}\")\n",
    "\n",
    "# Interpret Levene's test results\n",
    "if levene_p_value > 0.05:\n",
    "    print(\"The variances are equal (homogeneity of variances).\")\n",
    "else:\n",
    "    print(\"The variances are not equal (heterogeneity of variances).\")\n",
    "\n",
    "# Perform ANOVA\n",
    "anova_stat, anova_p_value = f_oneway(ctrl, trt1, trt2)\n",
    "\n",
    "print(f\"ANOVA F-statistic: {anova_stat}, p-value: {anova_p_value}\")\n"
   ]
  },
  {
   "cell_type": "markdown",
   "id": "dc5591a7",
   "metadata": {},
   "source": [
    "## Interpretation of Levene's test"
   ]
  },
  {
   "cell_type": "markdown",
   "id": "af328eef",
   "metadata": {},
   "source": [
    "Since the p-value (0.3412266241254737) is greater than 0.05, we fail to reject the null hypothesis. This means that the variances are equal across the treatment groups, confirming the assumption of homogeneity of variances. In other words, the variability in plant weights is consistent across the different treatment groups (ctrl, trt1, and trt2)."
   ]
  },
  {
   "cell_type": "markdown",
   "id": "b537242c",
   "metadata": {},
   "source": [
    "## Tukey HSD Test\n",
    "\n",
    "[Wikipedia](https://en.wikipedia.org/wiki/Tukey%27s_range_test): Provides a comprehensive overview of the Tukey HSD test, its development, and its applications.\n",
    "\n",
    "[Oxford Reference](https://www.oxfordreference.com/display/10.1093/oi/authority.20110803110053894): Offers a quick reference and explanation of the Tukey HSD test, including its comparison with other multiple comparison methods.\n",
    "\n",
    "[Statistics How To](https://www.statisticshowto.com/probability-and-statistics/statistics-definitions/post-hoc/tukey-test-honest-significant-difference/): Explains the Tukey HSD test, its assumptions, and step-by-step calculations.\n",
    "\n",
    "According to [Statistics How To](https://www.statisticshowto.com/probability-and-statistics/statistics-definitions/post-hoc/tukey-test-honest-significant-difference/) \"the Tukey Test (or Tukey procedure), also called Tukey’s Honest Significant Difference test, is a post-hoc test based on the studentized range distribution. An ANOVA test can tell you if your results are significant overall, but it won’t tell you exactly where those differences lie. After you have run an ANOVA and found significant results, then you can run Tukey’s HSD to find out which specific groups’s means (compared with each other) are different. The test compares all possible pairs of means.\""
   ]
  },
  {
   "cell_type": "code",
   "execution_count": 14,
   "id": "fdf940e2",
   "metadata": {},
   "outputs": [
    {
     "name": "stdout",
     "output_type": "stream",
     "text": [
      "Multiple Comparison of Means - Tukey HSD, FWER=0.05\n",
      "===================================================\n",
      "group1 group2 meandiff p-adj   lower  upper  reject\n",
      "---------------------------------------------------\n",
      "  ctrl   trt1   -0.371 0.3909 -1.0622 0.3202  False\n",
      "  ctrl   trt2    0.494  0.198 -0.1972 1.1852  False\n",
      "  trt1   trt2    0.865  0.012  0.1738 1.5562   True\n",
      "---------------------------------------------------\n"
     ]
    }
   ],
   "source": [
    "# Combine the data into a single array and create a corresponding array of group labels\n",
    "data = np.concatenate([ctrl, trt1, trt2])\n",
    "labels = ['ctrl'] * len(ctrl) + ['trt1'] * len(trt1) + ['trt2'] * len(trt2)\n",
    "\n",
    "# Perform Tukey's HSD test\n",
    "tukey_result = pairwise_tukeyhsd(data, labels)\n",
    "\n",
    "# Show the result\n",
    "print(tukey_result)"
   ]
  },
  {
   "cell_type": "markdown",
   "id": "33c2a196",
   "metadata": {},
   "source": [
    "### Analysis of Tukey HSD Test Results"
   ]
  },
  {
   "cell_type": "markdown",
   "id": "d39f2aed",
   "metadata": {},
   "source": [
    "#### ctrl vs. trt1:\n",
    "\n",
    "| **Statistic**       | **Value**   |\n",
    "|---------------------|-------------|\n",
    "| Mean Difference     | -0.371      |\n",
    "| p-adj               | 0.3909      |\n",
    "| Lower Bound         | -1.0622     |\n",
    "| Upper Bound         | 0.3202      |\n",
    "| Reject              | False       |\n",
    "\n",
    "\n",
    "**Summary:**  The mean difference between the control group (ctrl) and the first treatment group (trt1) is -0.371. The p-value (0.3909) is greater than 0.05, indicating that the difference is not statistically significant. Therefore, we do not reject the null hypothesis, meaning there is no significant difference between ctrl and trt1\n",
    "\n",
    "#### ctrl vs. trt2:\n",
    "\n",
    "| **Statistic**       | **Value**   |\n",
    "|---------------------|-------------|\n",
    "| Mean Difference     | 0.494       |\n",
    "| p-adj               | 0.198       |\n",
    "| Lower Bound         | -0.1972     |\n",
    "| Upper Bound         | 1.1852      |\n",
    "| Reject              | False       |\n",
    "\n",
    "\n",
    "**Summary:**  The mean difference between the control group (ctrl) and the second treatment group (trt2) is 0.494. The p-value (0.198) is greater than 0.05, indicating that the difference is not statistically significant. Therefore, we do not reject the null hypothesis, meaning there is no significant difference between ctrl and trt2.\n",
    "\n",
    "#### trt1 vs. trt2:\n",
    "\n",
    "| **Statistic**       | **Value**   |\n",
    "|---------------------|-------------|\n",
    "| Mean Difference     | 0.865       |\n",
    "| p-adj               | 0.012       |\n",
    "| Lower Bound         | 0.1738      |\n",
    "| Upper Bound         | 1.5562      |\n",
    "| Reject              | True        |\n",
    "\n",
    "\n",
    "**Summary:** The mean difference between the first treatment group (trt1) and the second treatment group (trt2) is 0.865. The p-value (0.012) is less than 0.05, indicating that the difference is statistically significant. Therefore, we reject the null hypothesis, meaning there is a significant difference between trt1 and trt2."
   ]
  },
  {
   "cell_type": "markdown",
   "id": "5d11c5e1",
   "metadata": {},
   "source": [
    "### Assumptions for Tukey-HSD test\n",
    "\n",
    "https://www.statisticshowto.com/probability-and-statistics/statistics-definitions/post-hoc/tukey-test-honest-significant-difference/\n",
    "\n",
    "- Observations are independent within and among groups.\n",
    "\n",
    "- The groups for each mean in the test are normally distributed.\n",
    "\n",
    "- There is equal within-group variance across the groups associated with each mean in the test (homogeneity of variance).\n",
    "\n",
    "These assumptons have all been met throughout this project."
   ]
  },
  {
   "cell_type": "markdown",
   "id": "56d31ea2",
   "metadata": {},
   "source": [
    "## Further Analysis of ANOVA test using Scatter Plot"
   ]
  },
  {
   "cell_type": "markdown",
   "id": "4efcb7c7",
   "metadata": {},
   "source": [
    "### Scatter Plot\n",
    "\n",
    "https:www.geeksforgeeks.org/how-to-make-a-scatter-plot-in-python-using-seaborn/"
   ]
  },
  {
   "cell_type": "code",
   "execution_count": 15,
   "id": "73488458",
   "metadata": {},
   "outputs": [
    {
     "data": {
      "image/png": "[encoded data removed]",
      "text/plain": [
       "<Figure size 1000x600 with 1 Axes>"
      ]
     },
     "metadata": {},
     "output_type": "display_data"
    }
   ],
   "source": [
    "# Set the style of the visualization\n",
    "sns.set_theme(style=\"whitegrid\")\n",
    "\n",
    "# Create the scatter plot\n",
    "plt.figure(figsize=(10, 6))\n",
    "sns.scatterplot(x='group', y='weight', data=df_filtered, hue='group', palette=\"muted\", s=100, legend=True)\n",
    "plt.title('Plant Weights by Treatment Group')\n",
    "plt.xlabel('Treatment Group')\n",
    "plt.ylabel('Weight')\n",
    "\n",
    "# Save the Scatter Plot as an image file \n",
    "plt.savefig('images/plant_weights_scatterplot.png') \n",
    "\n",
    "# Show the plot\n",
    "plt.show()"
   ]
  },
  {
   "cell_type": "markdown",
   "id": "83bfdeee",
   "metadata": {},
   "source": [
    "## Effect Size\n",
    "\n",
    "According to [Statology.org](https://www.statology.org/understanding-anova-when-and-how-to-use-it-in-your-research/) two effect's are relevant to this project.  Cohen's d Effect is relevant to the t-test, Eta Squared (η²) Effect is relevant to ANOVA test.\n"
   ]
  },
  {
   "cell_type": "code",
   "execution_count": 18,
   "id": "90b3f688",
   "metadata": {},
   "outputs": [
    {
     "name": "stdout",
     "output_type": "stream",
     "text": [
      "Cohen's d: -1.346156991832617\n",
      "Eta Squared (η²): 0.2641482968321197\n",
      "            sum_sq    df         F   PR(>F)\n",
      "C(group)   3.76634   2.0  4.846088  0.01591\n",
      "Residual  10.49209  27.0       NaN      NaN\n"
     ]
    }
   ],
   "source": [
    "# Filter the dataset to include only ctrl, trt1, and trt2 groups\n",
    "df_filtered = df_original[df_original['group'].isin(['ctrl', 'trt1', 'trt2'])]\n",
    "\n",
    "# Extract the treatment groups\n",
    "ctrl = df_filtered[df_filtered['group'] == 'ctrl']['weight']\n",
    "trt1 = df_filtered[df_filtered['group'] == 'trt1']['weight']\n",
    "trt2 = df_filtered[df_filtered['group'] == 'trt2']['weight']\n",
    "\n",
    "# Calculate Cohen's d for the t-test between trt1 and trt2\n",
    "group1 = trt1\n",
    "group2 = trt2\n",
    "\n",
    "# Calculate the means and pooled standard deviation\n",
    "mean1, mean2 = np.mean(group1), np.mean(group2)\n",
    "std1, std2 = np.std(group1, ddof=1), np.std(group2, ddof=1)\n",
    "pooled_std = np.sqrt((std1**2 + std2**2) / 2)\n",
    "\n",
    "# Calculate Cohen's d\n",
    "cohens_d = (mean1 - mean2) / pooled_std\n",
    "print(f\"Cohen's d: {cohens_d}\")\n",
    "\n",
    "# Perform ANOVA and calculate eta squared (η²)\n",
    "model = ols('weight ~ C(group)', data=df_filtered).fit()\n",
    "anova_table = sm.stats.anova_lm(model, typ=2)\n",
    "\n",
    "# Calculate eta squared\n",
    "eta_squared = anova_table['sum_sq']['C(group)'] / anova_table['sum_sq'].sum()\n",
    "print(f\"Eta Squared (η²): {eta_squared}\")\n",
    "\n",
    "# Display the ANOVA table\n",
    "print(anova_table)"
   ]
  },
  {
   "cell_type": "markdown",
   "id": "9fea6782",
   "metadata": {},
   "source": [
    "## Interpretation of Effect Size"
   ]
  },
  {
   "cell_type": "markdown",
   "id": "cb36457b",
   "metadata": {},
   "source": [
    "__Cohen's d Calculation:__\n",
    "\n",
    "Cohen's d is a measure of effect size used to indicate the standardized difference between two means. In this case, the negative value of -1.346156991832617 suggests that the mean weight of plants in one treatment group is significantly lower than the mean weight in the other group. The magnitude of this value indicates a large effect size, meaning there is a substantial difference between the two groups.\n",
    "\n",
    "__Eta Squared (η²):__\n",
    "\n",
    "Eta squared (η²) is a measure of effect size used in the context of ANOVA to indicate the proportion of total variance that is attributed to an effect. An η² value of 0.2641482968321197 means that approximately 26.4% of the total variance in plant weights is due to the differences between the treatment groups. This indicates a large effect size, suggesting that the treatment groups have a significant impact on plant weights.\n",
    "\n",
    "__C(group):__\n",
    "\n",
    " This row represents the variation between the treatment groups.\n",
    "- sum_sq: 3.76634, which is the sum of squares between the groups.\n",
    "- df: 2.0, which is the degrees of freedom for the groups.\n",
    "- F: 4.846088, which is the F-statistic.\n",
    "- PR(>F): 0.01591, which is the p-value. \n",
    "\n",
    "Since this p-value is less than 0.05, it indicates that there are significant differences between the treatment groups.\n",
    "\n",
    "__Residual:__\n",
    "\n",
    "This row represents the variation within the groups (random noise).\n",
    "\n",
    "sum_sq: 10.49209, which is the sum of squares within the groups.\n",
    "\n",
    "df: 27.0, which is the degrees of freedom for the residuals."
   ]
  },
  {
   "cell_type": "markdown",
   "id": "faf82563",
   "metadata": {},
   "source": [
    "## ANOVA -v- T-Tests\n",
    "\n",
    "Reason why applying ANOVA rather than several t-tests is more appropriate when analysing more than two groups are as follows:"
   ]
  },
  {
   "cell_type": "markdown",
   "id": "d36798a5",
   "metadata": {},
   "source": [
    " ### 1. Reducing the risk of Type I Errors\n",
    "\n",
    " The first consideration is control Type 1 Error Rates in t-tests and ANOVA tests. The following compares both groups \n",
    "\n",
    "  __Single Test for Multiple Comparisons__\n",
    "\n",
    " https://www.datacamp.com/tutorial/anova-test\n",
    "\n",
    " - When comparing more than two groups, performing multiple t-tests increases the risk of Type I errors because each test carries its own probability of error. For example, if you perform three t-tests, each with a significance level of 0.05, the cumulative probability of making at least one Type I error is higher than 0.05.\n",
    " - ANOVA, on the other hand, conducts a single test to compare the means of all groups simultaneously. This single test maintains the overall significance level (e.g., 0.05), thereby controlling the risk of Type I errors.\n",
    "\n",
    " __Control of Familywise Error Rate__\n",
    "\n",
    "  https://www.datacamp.com/tutorial/anova-test\n",
    "\n",
    "  - The familywise error rate is the probability of making one or more Type I errors across a set of comparisons. ANOVA controls this rate by using a single F-test to assess the overall differences among group means.\n",
    "  -  By doing so, ANOVA ensures that the likelihood of incorrectly rejecting the null hypothesis (i.e., concluding that there is a difference when there isn't) remains at the desired significance level\n",
    "\n",
    " ### 2. Efficiency\n",
    "\n",
    " According to [Laerd Statistics](https://statistics.laerd.com/statistical-guides/one-way-anova-statistical-guide-2.php) ANOVA is preferred over multiple t-tests because it controls the Type I error rate, is more efficient by comparing all groups in a single test, and reduces the complexity and time required for analysis.\n",
    "\n",
    " ### 3. Comprehensive Analysis\n",
    "\n",
    " [Statology.org](https://www.statology.org/understanding-anova-when-and-how-to-use-it-in-your-research/) explains that ANOVA is a statistical method used to compare the means across three or more groups, providing a single overall test to determine if there are significant differences among the groups. This approach allows for a more holistic understanding of the data, identifying whether at least one group mean is different from the others without needing to perform numerous individual tests.\n",
    "\n",
    "### 4. Post-Hoc Tests\n",
    "\n",
    " https://www.datacamp.com/tutorial/anova-test\n",
    " https://www.statology.org/understanding-anova-when-and-how-to-use-it-in-your-research/\n",
    "\n",
    " [Statology.org](https://www.statology.org/understanding-anova-when-and-how-to-use-it-in-your-research/) explains that ANOVA is used to determine if there are significant differences among group means and that post-hoc tests, such as Tukey's HSD, can be performed to identify which specific groups differ from each other\n",
    " - These post-hoc tests are designed to control the Type I error rate while making multiple comparisons, further reducing the risk of false positives.\n",
    " - In the PlantGrowth dataset, if we were to compare the weights of plants across three treatment groups (ctrl, trt1, and trt2) using multiple t-tests, we would increase the risk of Type I errors. Instead, by using ANOVA, we perform a single test to determine if there are any significant differences among the groups, thereby controlling the overall error rate\n",
    "\n",
    " ### 5. Consideration of Effect Sizes\n",
    "\n",
    " https://www.datacamp.com/tutorial/anova-test\n",
    "\n",
    " Effect Sizes are a crucial metric in statistical analysis that measures the magnitude of the difference between groups. Unlike p-values, which only tell us whether a difference exists, effect size quantifies the size of that difference, providing more context on the practical significance of the findings. Effect size helps in understanding how large or small the observed effect is, beyond just knowing that it is statistically significant. Effect size complements p-values by providing additional information, helping in understanding the strength and importance of the findings.\n",
    "\n",
    " #### Types of Effect Size\n",
    "\n",
    " According to [Statology.org](https://www.statology.org/understanding-anova-when-and-how-to-use-it-in-your-research/) two effect's are of relevance to this project.  \n",
    " \n",
    " - Cohen's d Effect is relevant to the t-test\n",
    " - Eta Squared (η²) Effect is relevant to ANOVA test.\n",
    "\n",
    " #### Cohen's d Effect\n",
    "\n",
    " https://www.statology.org/interpret-cohens-d/\n",
    "\n",
    " Cohen's d is a measure of effect size used to indicate the standardized difference between two means. It is calculated as the difference between two means divided by the pooled standard deviation. In this case, the negative value of -1.346156991832617 suggests that the mean weight of plants in one treatment group is significantly lower than the mean weight in the other group. The magnitude of this value indicates a large effect size, meaning there is a substantial difference between the two groups.\n",
    "\n",
    " #### Eta Squared (η²) Effect\n",
    "\n",
    " https://www.statology.org/eta-squared/\n",
    "\n",
    " Eta squared is used in the context of ANOVA to measure the proportion of total variance that is attributed to an effect. It ranges from 0 to 1, with higher values indicating a larger effect size. An η² value of 0.2641482968321197 means that approximately 26.4% of the total variance in plant weights is due to the differences between the treatment groups. This indicates a large effect size, suggesting that the treatment groups have a significant impact on plant weights.\n",
    " \n",
    " #### Applying Effect Size to t-test and ANOVA test results\n",
    " \n",
    " In the context of the PlantGrowth dataset, the ANOVA results indicate that there are significant differences between the treatment groups, and the effect sizes (Cohen's d and eta squared) suggest that these differences are substantial. This means that the treatment groups have a significant impact on the plant weights, and the differences are not just statistically significant but also practically meaningful.\n",
    "\n",
    " "
   ]
  },
  {
   "cell_type": "markdown",
   "id": "84e25a7c",
   "metadata": {},
   "source": [
    "## Conclusion \n",
    "\n",
    " __Type I errors:__ \n",
    " \n",
    " Based on the analysis, the ANOVA test is better as it reduces Type I errors. The t-test, however, only looked at two groups, whereas the ANOVA test looked at three. Further tests would need to be carried out to examine what the outcome of a t-test would be for the Ctrl v trt1 groups and ctrl v trt2 groups and then compare this to the initial test carried out.\n",
    "\n",
    " __Statistical Significance:__\n",
    " \n",
    "  The ANOVA test showed a statistically significant difference between the three treatment groups (ctrl, trt1, and trt2) with a p-value of 0.0159. This indicates that at least one of the group means is significantly different from the others.  The t-test however only examined two groups.\n",
    "\n",
    " __Effect Size:__ \n",
    " \n",
    " Cohen's d or Eta Squared (η²) effect both showed a high effect on treatments on plant growth.\n",
    "\n",
    " __Post-Hoc Analysis__\n",
    "\n",
    " There is a need for post-hoc tests (such as Tukey's HSD) to identify which specific groups differ from each other. This is necessary to pinpoint where the significant differences lie.\n",
    "\n",
    " __Assumptions Check__\n",
    "\n",
    " When conducting these tests, it is important to check the t-test and ANOVA's assumptions, such as normality, homogeneity of variances, and independence of observations. Ensuring these assumptions are met is crucial for the validity of the test results.  I must also be conscious that Tukey's HSD test has its own assumptions which muct be adhered to.\n",
    "\n",
    " __Visualizations__\n",
    "\n",
    " It cannot be underestimated how useful the plots in this project (such as scatter plots, box plots, swarm plots, and violin plots) were in understanding and communicating the differences between groups. These plots provided a clear, visual summary of the data and supported the statistical findings. They also helped identify where code had to be modified when completing the t-test."
   ]
  },
  {
   "cell_type": "markdown",
   "id": "0114925a",
   "metadata": {},
   "source": [
    "## Note"
   ]
  },
  {
   "cell_type": "markdown",
   "id": "6c622f39",
   "metadata": {},
   "source": [
    "### The code for this project was generated with the help of an AI tool, and subsequently reviewed and verified for accuracy and functionality."
   ]
  }
 ],
 "metadata": {
  "kernelspec": {
   "display_name": "base",
   "language": "python",
   "name": "python3"
  },
  "language_info": {
   "codemirror_mode": {
    "name": "ipython",
    "version": 3
   },
   "file_extension": ".py",
   "mimetype": "text/x-python",
   "name": "python",
   "nbconvert_exporter": "python",
   "pygments_lexer": "ipython3",
   "version": "3.12.4"
  }
 },
 "nbformat": 4,
 "nbformat_minor": 5
}
