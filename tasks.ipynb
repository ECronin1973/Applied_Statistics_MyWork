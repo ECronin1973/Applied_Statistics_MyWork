{
 "cells": [
  {
   "cell_type": "markdown",
   "id": "bf22804a",
   "metadata": {},
   "source": [
    "Tasks in Applied Statistics Module"
   ]
  },
  {
   "cell_type": "markdown",
   "id": "b9dd353f",
   "metadata": {},
   "source": [
    "# Task One\n",
    "\n",
    "Lady Tasting Tea"
   ]
  },
  {
   "cell_type": "code",
   "execution_count": null,
   "id": "4666fa4c",
   "metadata": {},
   "outputs": [],
   "source": [
    "## Importing Relevant Libaries for completion of Task One\n",
    "\n",
    "# Mathematical functions from the standard library.  This tool provides mathematical functions. Great for basic calculations like square roots, trigonometry, logarithms, etc.\n",
    "# https://docs.python.org/3/library/math.html\n",
    "import math\n",
    "\n",
    "# Permutations and combinations. Offers tools for creating iterators for efficient looping. Useful for permutations and combinations, creating complex iterators, and more\n",
    "# https://docs.python.org/3/library/itertools.html\n",
    "import itertools\n",
    "\n",
    "# Random selections.  This tool generates pseudo-random numbers for various distributions. Handy for simulations, random sampling, etc.\n",
    "# https://docs.python.org/3/library/random.html\n",
    "import random\n",
    "\n",
    "# Numerical structures and operations.  This tool is essential for numerical computing. It supports arrays, matrices, and functions for high-level mathematical operations\n",
    "# https://numpy.org/doc/stable/reference/index.html#reference\n",
    "import numpy as np\n",
    "\n",
    "\n",
    "# Plotting.  This is a 2D plotting library that is a great tool for plotting graohs and visualisation of data.\n",
    "# https://matplotlib.org/stable/contents.html\n",
    "import %pip install matplotlib.pyplot as plt"
   ]
  }
 ],
 "metadata": {
  "language_info": {
   "name": "python"
  }
 },
 "nbformat": 4,
 "nbformat_minor": 5
}
