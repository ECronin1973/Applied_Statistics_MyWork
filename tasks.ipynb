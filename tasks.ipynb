{
 "cells": [
  {
   "cell_type": "markdown",
   "id": "bf22804a",
   "metadata": {},
   "source": [
    "Tasks in Applied Statistics Module"
   ]
  },
  {
   "cell_type": "markdown",
   "id": "b9dd353f",
   "metadata": {},
   "source": [
    "# Task One Person Tasting Tea"
   ]
  },
  {
   "cell_type": "code",
   "execution_count": 1,
   "id": "4666fa4c",
   "metadata": {},
   "outputs": [],
   "source": [
    "## Importing Relevant Libaries for completion of Task One\n",
    "\n",
    "# Mathematical functions from the standard library.  This tool provides mathematical functions. Great for basic calculations like square roots, trigonometry, logarithms, etc.\n",
    "# https://docs.python.org/3/library/math.html\n",
    "import math\n",
    "\n",
    "# Permutations and combinations. Offers tools for creating iterators for efficient looping. Useful for permutations and combinations, creating complex iterators, and more\n",
    "# https://docs.python.org/3/library/itertools.html\n",
    "import itertools\n",
    "\n",
    "# Random selections.  This tool generates pseudo-random numbers for various distributions. Handy for simulations, random sampling, etc.\n",
    "# https://docs.python.org/3/library/random.html\n",
    "import random\n",
    "\n",
    "# Numerical structures and operations.  This tool is essential for numerical computing. It supports arrays, matrices, and functions for high-level mathematical operations\n",
    "# https://numpy.org/doc/stable/reference/index.html#reference\n",
    "import numpy as np \n",
    "\n",
    "# Plotting.  This is a 2D plotting library that is a great tool for plotting graohs and visualisation of data.\n",
    "# https://matplotlib.org/stable/contents.html\n",
    "import matplotlib.pyplot as plt"
   ]
  },
  {
   "cell_type": "markdown",
   "id": "cb977e2a",
   "metadata": {},
   "source": [
    "## The Design of Experiments"
   ]
  },
  {
   "cell_type": "markdown",
   "id": "54bf294f",
   "metadata": {},
   "source": [
    "<img src=\"Ronald A. Fisher.png\" alt=\"Ronald A. Fisher\" style=\"float:right; height:120px\\n\">\n",
    "This experiment, inspired by Ronald Fisher's Design of Experiments, involves mixing twelve cups of tea.  Six with milk poured first and six with tea poured first. These cups are then presented to a subject in random order for judgment. A person claims they can discern whether milk or tea was poured first by tasting the cup. Their claim will be accepted, if they accurately identify which six cups had the milk poured first.\n",
    "\n",
    "This experiment will test this assertion, considering its limitations and characteristics. Using Python, the probability will be calculated on whether they select the correct six cups, assuming they are just guessing.\n",
    "\n",
    "**Willing to Accept One Error**: Once they select the six cups they think had the milk poured first, The benefit of the doubt will be given to them, if they correctly identify at least five cups. The probability of them making at most one error will be calculated, assuming they have no special powers.\n",
    "\n",
    "*The Design of Experiments By Ronald A. Fisher*"
   ]
  },
  {
   "cell_type": "markdown",
   "id": "c5f1c945",
   "metadata": {},
   "source": [
    "## Permutations and Combinations ##"
   ]
  },
  {
   "cell_type": "markdown",
   "id": "ef6446e5",
   "metadata": {},
   "source": [
    "### Permutations ###\n",
    "A permutation is an ordering of its elements.  Each unique sequence is a permutation. \n",
    "\n",
    "For instance the set {a, b, c,} has permutations abc, acb, bac, bca, cab, and cba."
   ]
  },
  {
   "cell_type": "markdown",
   "id": "36403520",
   "metadata": {},
   "source": [
    "### Combinations ###"
   ]
  },
  {
   "cell_type": "markdown",
   "id": "05ebaeac",
   "metadata": {},
   "source": [
    "A combination is a selection of k elements from a set of size n.\n",
    "\n",
    "In combinations, order does not matter and the same element cannot be selected twice.\n",
    "\n",
    "The combinations of size 2 from the set {a, b, c} are {a, b}, {a, c}, and {b, c}."
   ]
  },
  {
   "cell_type": "markdown",
   "id": "ba9acdac",
   "metadata": {},
   "source": [
    "### Cups of Tea ###"
   ]
  },
  {
   "cell_type": "code",
   "execution_count": 2,
   "id": "18d5b7f6",
   "metadata": {},
   "outputs": [],
   "source": [
    "# Number of cups of tea in total.\n",
    "no_cups = 12\n",
    "\n",
    "# Number of cups of tea with milk in first.\n",
    "no_cups_milk_first = 6\n",
    "\n",
    "# Number of cups of tea with tea in first.\n",
    "no_cups_tea_first = 6"
   ]
  },
  {
   "cell_type": "markdown",
   "id": "a5a92317",
   "metadata": {},
   "source": [
    "### math.comb(n, k) ###"
   ]
  },
  {
   "cell_type": "markdown",
   "id": "3400604f",
   "metadata": {},
   "source": [
    "https://docs.python.org/3/library/math.html#math.comb\n",
    "\n",
    "Calculate the number of ways to choose k elements from a set of n elements where the order of the chosen elements does not matter and no element is selected more than once"
   ]
  },
  {
   "cell_type": "code",
   "execution_count": 3,
   "id": "53183c3d",
   "metadata": {},
   "outputs": [
    {
     "data": {
      "text/plain": [
       "924"
      ]
     },
     "execution_count": 3,
     "metadata": {},
     "output_type": "execute_result"
    }
   ],
   "source": [
    "# Number of ways of selecting six cups from twelve.\n",
    "ways = math.comb(no_cups, no_cups_milk_first)\n",
    "\n",
    "# Show.\n",
    "ways"
   ]
  }
 ],
 "metadata": {
  "kernelspec": {
   "display_name": "base",
   "language": "python",
   "name": "python3"
  },
  "language_info": {
   "codemirror_mode": {
    "name": "ipython",
    "version": 3
   },
   "file_extension": ".py",
   "mimetype": "text/x-python",
   "name": "python",
   "nbconvert_exporter": "python",
   "pygments_lexer": "ipython3",
   "version": "3.12.4"
  }
 },
 "nbformat": 4,
 "nbformat_minor": 5
}
