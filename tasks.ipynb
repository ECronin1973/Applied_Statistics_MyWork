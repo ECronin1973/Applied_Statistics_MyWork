{
 "cells": [
  {
   "cell_type": "markdown",
   "id": "bf22804a",
   "metadata": {},
   "source": [
    "# Applied Statistics Tasks 2024/2025\n",
    "\n",
    "### Edward Cronin ATU Student G00425645\n",
    "\n",
    "____"
   ]
  },
  {
   "cell_type": "markdown",
   "id": "b9dd353f",
   "metadata": {},
   "source": [
    "# Task 1 Permutations and Combinations"
   ]
  },
  {
   "cell_type": "markdown",
   "id": "2e301ce4",
   "metadata": {},
   "source": [
    "<img src=\"images\\ronald.a.fisher.png\" alt=\"Ronald.A.Fisher_img\" style=\"float: right; height: 240px;\">\n",
    " Suppose we alter the Lady Tasting Tea experiment to involve twelve cups of tea. Six have the milk in first and the other six having tea in first. A person claims they have the special power of being able to tell whether the tea or the milk went into a cup first upon tasting it. You agree to accept their claim if they can tell which of the six cups in your experiment had the milk in first.\n",
    "\n",
    " Calculate, using Python, the probability that they select the correct six cups. Here you should assume that they have no special powers in figuring it out, that they are just guessing. Remember to show and justify your workings in code and MarkDown cells.\n",
    "\n",
    " Suppose, now, you are willing to accept one error. Once they select the six cups they think had the milk in first, you will give them the benefit of the doubt should they have selected at least five of the correct cups. Calculate the probability, assuming they have no special powers, that the person makes at most one error.\n",
    "\n",
    " Would you accept two errors? Explain.\n",
    "\n",
    " *The Design of Experiments By Ronald A. Fisher*\n",
    "\n",
    " ____"
   ]
  },
  {
   "cell_type": "markdown",
   "metadata": {},
   "source": [
    "This task aims to calculate the probability that an individual can correctly select the six cups. The approach will follow a methodology similar to that used by Ronald A. Fisher in his \"Design of Experiments.\" The task is divided into three parts:\n",
    "\n",
    "__Part A: Calculation of Combinations__\n",
    "\n",
    "Calculate the number of ways to select six cups from a total of twelve.\n",
    "\n",
    "__Part B: Examination of Overlaps__\n",
    "\n",
    "Analyze overlaps between one of the variables in the experiment (e.g., cups with tea added first) and the overall number of combinations.\n",
    "\n",
    "Count the number of times each overlap occurs.\n",
    "\n",
    "__Part C: Error Acceptance Analysis__\n",
    "\n",
    "Examine the acceptance of errors in selecting the correct six cups.\n",
    "\n",
    "By following these steps, we will determine the probability of correctly selecting the six cups and understand the impact of potential errors in the selection process.\n",
    "\n",
    "\n",
    "### The code for this task was generated with the help of an AI tool, and subsequently reviewed and verified for accuracy and functionality."
   ]
  },
  {
   "cell_type": "markdown",
   "id": "b1c2be0d",
   "metadata": {},
   "source": [
    "## Part A: Calculation of Combinations"
   ]
  },
  {
   "cell_type": "markdown",
   "id": "a242b2b5",
   "metadata": {},
   "source": [
    "To begin this task, we need to import the relevant libraries. We will then outline permutations and combinations to explain the ordering and selection of variables. Next, we will define the total number of cups and the two variables: cups with tea first and cups with milk first. Using Python, we will calculate the number of ways to select six cups from twelve."
   ]
  },
  {
   "cell_type": "markdown",
   "id": "94f19f5e",
   "metadata": {},
   "source": [
    "## Importing Relevant Libraries for Completion of Task One"
   ]
  },
  {
   "cell_type": "code",
   "execution_count": 1,
   "id": "4666fa4c",
   "metadata": {},
   "outputs": [],
   "source": [
    "# Mathematical functions from the standard library.  This tool provides mathematical functions. \n",
    "# Great for basic calculations like square roots, trigonometry, logarithms, etc.\n",
    "# https://docs.python.org/3/library/math.html\n",
    "import math\n",
    "\n",
    "# Permutations and combinations. Offers tools for creating iterators for efficient looping. \n",
    "# Useful for permutations and combinations, creating complex iterators, and more\n",
    "# https://docs.python.org/3/library/itertools.html\n",
    "import itertools\n",
    "\n",
    "# Random selections.  This tool generates pseudo-random numbers for various distributions. \n",
    "# Handy for simulations, random sampling, etc.\n",
    "# https://docs.python.org/3/library/random.html\n",
    "import random\n",
    "\n",
    "# Numerical structures and operations.  This tool is essential for numerical computing. \n",
    "# It supports arrays, matrices, and functions for high-level mathematical operations\n",
    "# https://numpy.org/doc/stable/reference/index.html#reference\n",
    "import numpy as np \n",
    "\n",
    "# Plotting.  This is a 2D plotting library that is a great tool for plotting graohs and visualisation of data.\n",
    "# https://matplotlib.org/stable/contents.html\n",
    "import matplotlib.pyplot as plt\n",
    "\n",
    "# Data structures and analysis.  This tool is essential for data manipulation and analysis.\n",
    "# https://pandas.pydata.org/docs/user_guide/index.html#user-guide\n",
    "import pandas as pd\n",
    "\n",
    "# CSV Files. The csv module provides functionality for reading from and writing to CSV (Comma-Separated Values) files.\n",
    "# https://docs.python.org/3/library/csv.html\n",
    "import csv\n",
    "\n",
    "# stats module.  This module contains a large number of probability distributions as well as a growing library of statistical functions.\n",
    "# https://docs.scipy.org/doc/scipy/reference/stats.html\n",
    "import scipy.stats as stats\n"
   ]
  },
  {
   "cell_type": "markdown",
   "id": "c5f1c945",
   "metadata": {},
   "source": [
    "### Permutations and Combinations ###\n",
    "\n",
    "In the context of this variation of Ronald A. Fisher's Lady Tasting Tea experiment, we can use combinations to calculate the probability of selecting the correct cups. Here's a breakdown of the permutations and combinations involved:"
   ]
  },
  {
   "cell_type": "markdown",
   "id": "ef6446e5",
   "metadata": {},
   "source": [
    "__Permutations__\n",
    "\n",
    "Permutations are used when the order of selection matters. Each unique sequence is a permutation. However, in this experiment, we are not concerned with the order in which the cups are selected, so permutations are not directly applicable.  \n",
    "\n",
    "For instance a set {a, b, c,} has permutations abc, acb, bac, bca, cab, and cba.\n",
    "\n",
    "You can read more about permutations and the Lady Tasting Tea experiment on [Wikipedia](https://en.wikipedia.org/wiki/Lady_tasting_tea) and [Learn Statistics Easily](https://statisticseasily.com/lady-tasting-tea/)\n"
   ]
  },
  {
   "cell_type": "markdown",
   "id": "36403520",
   "metadata": {},
   "source": [
    "__Combinations__"
   ]
  },
  {
   "cell_type": "markdown",
   "id": "05ebaeac",
   "metadata": {},
   "source": [
    "Combinations are used when the order of selection does not matter. In this experiment, we are interested in the number of ways to choose 6 cups out of 12, where the order of selection is irrelevant. It is important, however, that the same element cannot be selected twice.\n",
    "\n",
    "The formula for combinations is given by:\n",
    "\n",
    "$$ C(n, k) = \\frac{n!}{k!(n-k)!} $$\n",
    "\n",
    "\n",
    "\n",
    "Where:\n",
    "\n",
    "\\( n \\) is the total number of items (in this case, 12 cups).\n",
    "\n",
    "\\( k \\) is the number of items to choose (in this case, 6 cups).\n",
    "\n",
    "Using this formula, we can calculate the number of ways to choose 6 cups out of 12:\n",
    "\n",
    "\n",
    "You can read more about combinations and the Lady Tasting Tea experiment on [Wikipedia](https://en.wikipedia.org/wiki/Lady_tasting_tea) and [Learn Statistics Easily](https://statisticseasily.com/lady-tasting-tea/)"
   ]
  },
  {
   "cell_type": "markdown",
   "id": "ba9acdac",
   "metadata": {},
   "source": [
    "### Cups of Tea ###\n",
    "\n",
    "Next, we define the relevant variables in the experiment. In Ronald A. Fisher's Lady Tasting Tea experiment, we have a total of twelve cups of tea. These cups are divided into two groups based on the order in which the milk and tea were added:\n",
    "\n",
    "Cups with Milk First: Six cups have the milk poured in first, followed by the tea.\n",
    "\n",
    "Cups with Tea First: The remaining six cups have the tea poured in first, followed by the milk.\n",
    "\n",
    "The objective of the experiment is to test whether a person can correctly identify which cups had the milk poured in first and which had the tea poured in first, purely by tasting. The person claims to have the ability to distinguish between the two based on taste alone.\n",
    "\n",
    "To evaluate this claim, we will calculate the probability of the person correctly identifying the six cups with milk first by random guessing. This involves using combinations to determine the number of ways to choose six cups out of twelve, as the order of selection does not matter in this context.\n",
    "\n",
    "By defining these variables and using combinatorial analysis, we can quantify the likelihood of the person making the correct selections by chance. This forms the basis for assessing the statistical significance of their claim."
   ]
  },
  {
   "cell_type": "code",
   "execution_count": 2,
   "id": "18d5b7f6",
   "metadata": {},
   "outputs": [],
   "source": [
    "# Number of cups of tea in total.\n",
    "no_cups = 12\n",
    "\n",
    "# Number of cups of tea with milk in first.\n",
    "no_cups_milk_first = 6\n",
    "\n",
    "# Number of cups of tea with tea in first.\n",
    "no_cups_tea_first = 6"
   ]
  },
  {
   "cell_type": "markdown",
   "id": "a5a92317",
   "metadata": {},
   "source": [
    "### Adaption of Fisher's Table\n",
    "\n",
    "https://lisds.github.io/textbook/wild-pandas/fishers_tea.html\n",
    "\n",
    "This section adapts Fisher's table, which outlines four possible categories that the results would fit into. These categories formed the basis of the original test and serve as a model for our current experiment, where we require an individual to correctly identify six cups out of twelve.\n",
    "\n",
    "In Fisher's original experiment, the results were categorized into four distinct groups based on the number of correct and incorrect identifications made by the participant. These categories help us understand the likelihood of the participant's success purely by chance and provide a framework for evaluating their performance."
   ]
  },
  {
   "cell_type": "code",
   "execution_count": 3,
   "id": "c2e72cdd",
   "metadata": {},
   "outputs": [],
   "source": [
    "# Initialize a numpy random number generator\n",
    "rng = np.random.default_rng()\n",
    "\n",
    "# Enable safe settings for Pandas to avoid SettingWithCopyWarning. Requires Pandas version >= 1.5.\n",
    "pd.set_option('mode.copy_on_write', True)\n",
    "\n",
    "# Set the plotting style to 'fivethirtyeight' for better visual aesthetics\n",
    "plt.style.use('fivethirtyeight')"
   ]
  },
  {
   "cell_type": "markdown",
   "id": "8495b0d4",
   "metadata": {},
   "source": [
    "### Building the Data Table for the 12 Cups"
   ]
  },
  {
   "cell_type": "markdown",
   "id": "ba3e87fe",
   "metadata": {},
   "source": [
    "We’ll build a data table for the 12 cups similar to the one that Fisher would have been looking at when he did his analysis. This table will help us categorize the results into four distinct groups: True Positives (TP), False Positives (FP), True Negatives (TN), and False Negatives (FN).\n",
    "\n",
    "- True Positives (TP): These are the cups that were correctly identified as having milk poured first.\n",
    "- False Positives (FP): These are the cups that were incorrectly identified as having milk poured first.\n",
    "- True Negatives (TN): These are the cups that were correctly identified as having tea poured first.\n",
    "- False Negatives (FN): These are the cups that were incorrectly identified as having tea poured first.\n",
    "\n",
    "By categorizing the results in this manner, we can better understand the participant's ability to distinguish between the cups based on taste alone. The data table will include columns for the actual order of pouring (milk first or tea first) and the participant's guesses. This structured approach allows us to calculate the probability of the participant making correct identifications purely by chance and to evaluate the statistical significance of their claim.\n",
    "\n",
    "Creating this data table and categorizing the results will provide a clear visual representation of the experiment, making it easier to analyze and interpret the outcomes. This method aligns with Fisher's original approach and ensures that our analysis is grounded in a robust statistical framework."
   ]
  },
  {
   "cell_type": "code",
   "execution_count": 4,
   "id": "d426edd5",
   "metadata": {},
   "outputs": [
    {
     "name": "stdout",
     "output_type": "stream",
     "text": [
      "True Positives: 6\n",
      "False Positives: 0\n",
      "True Negatives: 6\n",
      "False Negatives: 0\n"
     ]
    },
    {
     "data": {
      "image/png": "[encoded data removed]",
      "text/plain": [
       "<Figure size 800x400 with 1 Axes>"
      ]
     },
     "metadata": {},
     "output_type": "display_data"
    }
   ],
   "source": [
    "# Make an empty DataFrame to store the twelve cups\n",
    "tea_df = pd.DataFrame()\n",
    "\n",
    "# Insert a column that records whether the milk is poured before the tea, into that cup\n",
    "tea_df['milk_first'] = np.repeat(['yes', 'no'], [6, 6])\n",
    "\n",
    "# Add a column recording the guesses for the cups where milk was poured first\n",
    "tea_df['says_milk_first'] = np.repeat(['yes', 'no'], [6, 6])\n",
    "\n",
    "# Take a sample (without replacement) of 12 rows\n",
    "tea_df = tea_df.sample(12, replace=False)\n",
    "\n",
    "# Reset the row labels to throw away the labels showing the original order\n",
    "tea_df = tea_df.reset_index(drop=True)\n",
    "\n",
    "# Add an index column to display row numbers\n",
    "tea_df.index.name = 'Guess No.'\n",
    "\n",
    "# Calculate the four categories\n",
    "true_positives = ((tea_df['milk_first'] == 'yes') & (tea_df['says_milk_first'] == 'yes')).sum()\n",
    "false_positives = ((tea_df['milk_first'] == 'no') & (tea_df['says_milk_first'] == 'yes')).sum()\n",
    "true_negatives = ((tea_df['milk_first'] == 'no') & (tea_df['says_milk_first'] == 'no')).sum()\n",
    "false_negatives = ((tea_df['milk_first'] == 'yes') & (tea_df['says_milk_first'] == 'no')).sum()\n",
    "\n",
    "# Print the results\n",
    "print(f\"True Positives: {true_positives}\")\n",
    "print(f\"False Positives: {false_positives}\")\n",
    "print(f\"True Negatives: {true_negatives}\")\n",
    "print(f\"False Negatives: {false_negatives}\")\n",
    "\n",
    "# Create a figure and axis\n",
    "fig, ax = plt.subplots(figsize=(8, 4))\n",
    "\n",
    "# Hide the axes\n",
    "ax.xaxis.set_visible(False)\n",
    "ax.yaxis.set_visible(False)\n",
    "ax.set_frame_on(False)\n",
    "\n",
    "# Create the table\n",
    "table = ax.table(cellText=tea_df.values, colLabels=tea_df.columns, rowLabels=tea_df.index, cellLoc='center', loc='center')\n",
    "\n",
    "# Style the table\n",
    "table.auto_set_font_size(False)\n",
    "table.set_fontsize(12)\n",
    "table.scale(1.2, 1.2)\n",
    "\n",
    "# Save the table as an image\n",
    "plt.savefig('images/tea_df_table.png', bbox_inches='tight', pad_inches=0)\n",
    "\n",
    "# Show our reconstruction of Fisher's table based on 12 random guesses\n",
    "plt.show()\n"
   ]
  },
  {
   "cell_type": "markdown",
   "id": "2b86e9b6",
   "metadata": {},
   "source": [
    "### Cross Tabulation"
   ]
  },
  {
   "cell_type": "markdown",
   "id": "9da83225",
   "metadata": {},
   "source": [
    "It is often useful to cross-tabulate the rows of the data frame by giving counts in each category. By using the pd.crosstab function, we can easily summarize the results and categorize them into these four groups. This helps us understand the participant's ability to distinguish between the cups based on taste alone.\n",
    "\n",
    "We will focus on the ‘yes’, ‘yes’ combination. If the person correctly identifies all six of the milk-first cups, it means they got every cup correct — because they must identify six as milk-first and six as tea-first.\n",
    "\n",
    "In other words, if they got all milk-first cups right (‘yes’, ‘yes’), then they necessarily got all six tea-first cups right (‘no’, ‘no’)."
   ]
  },
  {
   "cell_type": "code",
   "execution_count": 5,
   "id": "6e689c6d",
   "metadata": {},
   "outputs": [
    {
     "data": {
      "text/html": [
       "<div>\n",
       "<style scoped>\n",
       "    .dataframe tbody tr th:only-of-type {\n",
       "        vertical-align: middle;\n",
       "    }\n",
       "\n",
       "    .dataframe tbody tr th {\n",
       "        vertical-align: top;\n",
       "    }\n",
       "\n",
       "    .dataframe thead th {\n",
       "        text-align: right;\n",
       "    }\n",
       "</style>\n",
       "<table border=\"1\" class=\"dataframe\">\n",
       "  <thead>\n",
       "    <tr style=\"text-align: right;\">\n",
       "      <th>says_milk_first</th>\n",
       "      <th>no</th>\n",
       "      <th>yes</th>\n",
       "    </tr>\n",
       "    <tr>\n",
       "      <th>milk_first</th>\n",
       "      <th></th>\n",
       "      <th></th>\n",
       "    </tr>\n",
       "  </thead>\n",
       "  <tbody>\n",
       "    <tr>\n",
       "      <th>no</th>\n",
       "      <td>6</td>\n",
       "      <td>0</td>\n",
       "    </tr>\n",
       "    <tr>\n",
       "      <th>yes</th>\n",
       "      <td>0</td>\n",
       "      <td>6</td>\n",
       "    </tr>\n",
       "  </tbody>\n",
       "</table>\n",
       "</div>"
      ],
      "text/plain": [
       "says_milk_first  no  yes\n",
       "milk_first              \n",
       "no                6    0\n",
       "yes               0    6"
      ]
     },
     "execution_count": 5,
     "metadata": {},
     "output_type": "execute_result"
    }
   ],
   "source": [
    "milk_first = tea_df['milk_first']\n",
    "says_milk_first = tea_df['says_milk_first']\n",
    "counts_tab = pd.crosstab(milk_first, says_milk_first)\n",
    "counts_tab"
   ]
  },
  {
   "cell_type": "markdown",
   "id": "26022662",
   "metadata": {},
   "source": [
    "### Extracting and Displaying the Count of Correct Identifications\n",
    "\n",
    "The following code snippet is used to extract and display the count of cups that were correctly identified as having milk poured first"
   ]
  },
  {
   "cell_type": "code",
   "execution_count": 6,
   "id": "5f29d8df",
   "metadata": {},
   "outputs": [
    {
     "data": {
      "text/plain": [
       "6"
      ]
     },
     "execution_count": 6,
     "metadata": {},
     "output_type": "execute_result"
    }
   ],
   "source": [
    "# Extract the count of cups correctly identified as having milk poured first\n",
    "milk_first_correct = counts_tab.loc['yes', 'yes']\n",
    "\n",
    "# Display the count\n",
    "milk_first_correct\n"
   ]
  },
  {
   "cell_type": "markdown",
   "id": "bbc5913b",
   "metadata": {},
   "source": [
    "### Exploring the Selection of Six Cups from Twelve"
   ]
  },
  {
   "cell_type": "markdown",
   "id": "3e91545c",
   "metadata": {},
   "source": [
    "In the test by Ronald A. Fisher, Muriel guessed correctly for each of the eight cups, and so correctly identified all four milk-first cups. Individuals would need to correctly identify all six cups in this experiment. So, how many ways are there to select six cups from twelve? The next section explores this aspect."
   ]
  },
  {
   "cell_type": "markdown",
   "id": "9debf532",
   "metadata": {},
   "source": [
    "### Using math.comb(n, k) for Combinations"
   ]
  },
  {
   "cell_type": "markdown",
   "id": "3400604f",
   "metadata": {},
   "source": [
    "https://docs.python.org/3/library/math.html#math.comb\n",
    "\n",
    "https://www.w3schools.com/python/ref_math_comb.asp \n",
    "\n",
    "The `math.comb()` method is a function in Python's `math` module that returns the number of ways to pick \\( k \\) unordered outcomes from \\( n \\) possibilities, without repetition. This concept is known as combinations.\n",
    "\n",
    "In combinatorial mathematics, combinations are used when the order of selection does not matter. For example, if you have a set of 12 cups and you want to select 6 of them, the number of possible combinations can be calculated using the `math.comb()` method. This method is particularly useful in statistical experiments, such as Ronald A. Fisher's Lady Tasting Tea experiment, where we need to determine the number of ways to select a subset of items from a larger set.\n",
    "\n",
    "As previously outlined, the formula for combinations is given by:\n",
    "\n",
    "\n",
    "\n",
    "$$\n",
    "C(n, k) = \\frac{n!}{k!(n-k)!}\n",
    "$$\n",
    "\n",
    "\n",
    "\n",
    "Where:\n",
    "\n",
    "\\( n \\) is the total number of items (in this case, 12 cups).\n",
    "\n",
    "\\( k \\) is the number of items to choose (in this case, 6 cups).\n",
    "\n",
    "\n",
    "Using the `math.comb()` method, we can easily calculate the number of combinations without manually computing the factorials. This method simplifies the process and ensures accurate results.\n",
    "\n",
    "You can read more about combinations and the Lady Tasting Tea experiment on [Wikipedia](https://en.wikipedia.org/wiki/Lady_tasting_tea) and [Learn Statistics Easily](https://statisticseasily.com/lady-tasting-tea/)\n"
   ]
  },
  {
   "cell_type": "code",
   "execution_count": 7,
   "id": "53183c3d",
   "metadata": {},
   "outputs": [
    {
     "data": {
      "text/plain": [
       "924"
      ]
     },
     "execution_count": 7,
     "metadata": {},
     "output_type": "execute_result"
    }
   ],
   "source": [
    "# Calculate the number of ways to select six cups from twelve\n",
    "ways = math.comb(no_cups, no_cups_milk_first)\n",
    "\n",
    "# Display the calculated number of combinations\n",
    "ways\n"
   ]
  },
  {
   "cell_type": "markdown",
   "id": "9dcee679",
   "metadata": {},
   "source": [
    "As calculated above, the total number of ways to select six cups from a set of twelve is 924. This means that there are 924 unique combinations in which six cups can be chosen from twelve, without considering the order of selection. This calculation is crucial for understanding the probability of correctly identifying the cups by random guessing in the context of the Lady Tasting Tea experiment. By knowing the total number of possible combinations, we can better assess the likelihood of the participant's success purely by chance.\n"
   ]
  },
  {
   "cell_type": "markdown",
   "id": "99536547",
   "metadata": {},
   "source": [
    "### Calculating the Number of Ordered Selections"
   ]
  },
  {
   "cell_type": "markdown",
   "id": "388d1f67",
   "metadata": {},
   "source": [
    "If we label the twelve cups of tea as 1, 2, 3, 4, 5, 6, 7, 8, 9, 10, 11, and 12, we can then select six cups to have milk poured in first. For example, we might select cups 2, 4, 5, 8, 10, and 12.\n",
    "\n",
    "Visualize having six placeholders where we place the labels of the selected cups. The question then becomes: how many ways are there to select six cups from twelve?\n",
    "\n",
    "Cups: 1 2 3 4 5 6 7 8 9 10 11 12\n",
    "\n",
    "Placeholders: _ _ _ _ _ _"
   ]
  },
  {
   "cell_type": "code",
   "execution_count": 8,
   "id": "71247ced",
   "metadata": {},
   "outputs": [
    {
     "data": {
      "text/plain": [
       "665280"
      ]
     },
     "execution_count": 8,
     "metadata": {},
     "output_type": "execute_result"
    }
   ],
   "source": [
    "# Total number of ways of selecting six cups from twelve, keeping them in order.  \n",
    "# This is the number of ways of selecting the first cup, then the second, then the third, etc.\n",
    "ways_ordered = 12 * 11 * 10 * 9 * 8 * 7\n",
    "\n",
    "# Show.\n",
    "ways_ordered"
   ]
  },
  {
   "cell_type": "markdown",
   "id": "29ae9222",
   "metadata": {},
   "source": [
    "The result 665280 represents the total number of ways to select six cups from twelve, considering the order of selection. This means that if you were to pick the first cup, then the second, and so on, there are 665280 unique sequences in which you can choose six cups out of twelve. This calculation is crucial for understanding the complexity and the vast number of possible ordered selections in the context of the Lady Tasting Tea experiment."
   ]
  },
  {
   "cell_type": "markdown",
   "id": "5ccce2d3",
   "metadata": {},
   "source": [
    "### Ignoring the Order of Selection"
   ]
  },
  {
   "cell_type": "markdown",
   "id": "b20ad55f",
   "metadata": {},
   "source": [
    "In this task, we ignore order. If cups 1, 2, 4, 5, 8, and 12 are selected in order it is the same result as if 2, 12, 8, 1, 4, and 5 were selected, or any other permutation.  \n",
    "\n",
    "4 8 6 5 11 2\n",
    "\n",
    "2 8 6 11 4 5\n"
   ]
  },
  {
   "cell_type": "markdown",
   "id": "b9d8a2fa",
   "metadata": {},
   "source": [
    "### Calculating the Number of Ways to Shuffle Six Cups"
   ]
  },
  {
   "cell_type": "code",
   "execution_count": 9,
   "id": "9d8866f9",
   "metadata": {},
   "outputs": [
    {
     "data": {
      "text/plain": [
       "720"
      ]
     },
     "execution_count": 9,
     "metadata": {},
     "output_type": "execute_result"
    }
   ],
   "source": [
    "# Calculate the number of ways to shuffle six cups\n",
    "no_shuffles = 6 * 5 * 4 * 3 * 2 * 1\n",
    "\n",
    "# Display the calculated number of shuffles\n",
    "no_shuffles\n"
   ]
  },
  {
   "cell_type": "markdown",
   "id": "52d4e756",
   "metadata": {},
   "source": [
    "The results show there are 720 different ways to arrange or shuffle six cups."
   ]
  },
  {
   "cell_type": "markdown",
   "id": "4c8af897",
   "metadata": {},
   "source": [
    "### Calculating the Number of Combinations"
   ]
  },
  {
   "cell_type": "code",
   "execution_count": 10,
   "id": "9b2f4430",
   "metadata": {},
   "outputs": [
    {
     "data": {
      "text/plain": [
       "924"
      ]
     },
     "execution_count": 10,
     "metadata": {},
     "output_type": "execute_result"
    }
   ],
   "source": [
    "# Calculate the number of combinations by dividing the number of ordered selections by the number of shuffles\n",
    "no_combs = ways_ordered // no_shuffles\n",
    "\n",
    "# Display the calculated number of combinations\n",
    "no_combs\n"
   ]
  },
  {
   "cell_type": "markdown",
   "id": "9f1dfb79",
   "metadata": {},
   "source": [
    "The output 924 is the total number of ways to choose 6 cups out of 12, calculated using the combination formula \n",
    "_𝐶\n",
    "(\n",
    "12\n",
    ",\n",
    "6\n",
    ")\n",
    "._"
   ]
  },
  {
   "cell_type": "markdown",
   "id": "92c5f605",
   "metadata": {},
   "source": [
    "### Binomial Coefficient ###\n",
    "\n",
    "https://www.w3schools.com/python/numpy/numpy_random_binomial.asp\n",
    "\n",
    "The concept of the binomial coefficient and binomial distribution is relevant to the Lady Tasting Tea experiment as it helps us understand the probability of certain outcomes in experiments with two possible results. In this experiment, the participant must identify whether milk or tea was poured first in each cup, which is a binary scenario (milk-first or tea-first).\n",
    "\n",
    "__Binomial Coefficient__\n",
    "The binomial coefficient is used to calculate the number of ways to choose \n",
    "𝑘\n",
    " successes (e.g., correctly identifying milk-first cups) out of \n",
    "𝑛\n",
    " trials (e.g., total cups), where the order of selection does not matter. This is directly related to the combinations we discussed earlier.\n",
    "\n",
    "__Binomial Distribution__\n",
    "The binomial distribution models the number of positive outcomes (successes) in a fixed number of trials, where each trial has only two possible outcomes (success or failure). In the context of the Lady Tasting Tea experiment, it can be used to model the probability of the participant correctly identifying a certain number of milk-first cups out of the total number of cups.\n",
    "\n",
    "By understanding the binomial coefficient and binomial distribution, we can analyze better the statistical significance of the participant's performance and determine whether their ability to distinguish between the cups is genuine or due to chance. You can find more information about the binomial distribution [here](https://www.geeksforgeeks.org/binomial-coefficient-dp-9/?ref=header_outind)."
   ]
  },
  {
   "cell_type": "markdown",
   "id": "646dd0ff",
   "metadata": {},
   "source": [
    "### Math.factorial function"
   ]
  },
  {
   "cell_type": "markdown",
   "id": "9b200855",
   "metadata": {},
   "source": [
    "https://docs.python.org/3.12/library/math.html#math.factorial\n",
    "\n",
    "In the context of the Lady Tasting Tea experiment, we use the `math.factorial` function to calculate the number of ways to arrange or shuffle these cups. The factorial of a number \\( n \\) (denoted as \\( n! \\)) is the product of all positive integers from \\( n \\) down to 1. For example, \\( 6! = 6 x 5 x 4 x 3 x 2 x 1 = 720 \\). This calculation helps us understand the different possible arrangements and the probability of correctly identifying the cups by chance. You can find more information about the factorial function [here](https://docs.python.org/3.12/library/math.html#math.factorial).\n"
   ]
  },
  {
   "cell_type": "markdown",
   "id": "2091f93f",
   "metadata": {},
   "source": [
    "In the Lady Tasting Tea experiment, we have a total of 12 cups of tea. This is represented by:\n",
    "\n",
    "$$\n",
    "n = 12\n",
    "$$\n",
    "\n",
    "### Calculating Twelve Factorial\n",
    "\n",
    "To understand the different possible arrangements of these 12 cups, we use the factorial function. The factorial of a number \\( n \\) (denoted as \\( n! \\)) is the product of all positive integers from \\( n \\) down to 1. This calculation helps us determine the total number of ways to arrange the cups.\n",
    "\n",
    "For \\( n = 12 \\), the factorial is calculated as:\n",
    "\n",
    "\\( 12! = 12 x 11 x 10 x 9 x 8 x 7 x 6 x 5 x 4 x 3 x 2 x 1 = 479001600 \\)\n",
    "\n"
   ]
  },
  {
   "cell_type": "code",
   "execution_count": 11,
   "id": "512baa8d",
   "metadata": {},
   "outputs": [
    {
     "name": "stdout",
     "output_type": "stream",
     "text": [
      "Twelve factorial (12!) is: 479001600\n"
     ]
    }
   ],
   "source": [
    "# Total number of cups\n",
    "n = 12\n",
    "\n",
    "# Calculate twelve factorial\n",
    "twelve_factorial = math.factorial(n)\n",
    "\n",
    "print(f\"Twelve factorial (12!) is: {twelve_factorial}\")\n"
   ]
  },
  {
   "cell_type": "markdown",
   "id": "85e4a5bd",
   "metadata": {},
   "source": [
    "This means there are 479001600 different ways to arrange the 12 cups of tea. This calculation is crucial for understanding the complexity and the vast number of possible arrangements in the context of the Lady Tasting Tea experiment. By knowing the total number of possible arrangements, we can better assess the likelihood of the participant's success purely by chance."
   ]
  },
  {
   "cell_type": "markdown",
   "id": "52b6596c",
   "metadata": {},
   "source": [
    "### Calculating Six Factorial"
   ]
  },
  {
   "cell_type": "markdown",
   "id": "765a4eb7",
   "metadata": {},
   "source": [
    "In the Lady Tasting Tea experiment, we calculate the six factorial (\\(6!\\)) after calculating the twelve factorial (\\(12!\\)) to determine the number of ways to choose and arrange the cups. Here's why each step is important:\n",
    "\n",
    "1. **Calculating Twelve Factorial (\\(12!\\))**:\n",
    "   - As previously stated, the twelve factorial (\\(12!\\)) represented the total number of ways to arrange all twelve cups. This calculation gives us the total number of permutations of the twelve cups.\n",
    "\n",
    "2. **Calculating Six Factorial (\\(6!\\))**:\n",
    "   - The six factorial (\\(6!\\)) represents the number of ways to arrange six cups. This calculation is crucial for determining the number of permutations of the six cups that are selected.\n",
    "   - Mathematically, \\(6! = 6 x 5 x 4 x 3 x 2 x 1 = 720\\).\n",
    "\n"
   ]
  },
  {
   "cell_type": "code",
   "execution_count": 12,
   "id": "e3e82629",
   "metadata": {},
   "outputs": [
    {
     "data": {
      "text/plain": [
       "720"
      ]
     },
     "execution_count": 12,
     "metadata": {},
     "output_type": "execute_result"
    }
   ],
   "source": [
    "# Define the number of cups with milk first\n",
    "k = 6\n",
    "\n",
    "# Calculating Six factorial.\n",
    "math.factorial(n - k)"
   ]
  },
  {
   "cell_type": "markdown",
   "id": "e912f2d9",
   "metadata": {},
   "source": [
    "### Combining the Calculations"
   ]
  },
  {
   "cell_type": "markdown",
   "id": "2162be66",
   "metadata": {},
   "source": [
    "To find the number of ways to choose six cups out of twelve without considering the order, we use the combination formula:\n",
    "\n",
    "\n",
    "$$\n",
    "C(n, k) = \\frac{n!}{k!(n-k)!}\n",
    "$$\n",
    "\n",
    "\n",
    "In this case, \\( n = 12 \\) and \\( k = 6 \\), so the formula becomes:\n",
    "\n",
    "\n",
    "$$\n",
    "C(12, 6) = \\frac{12!}{6!(12-6)!} = \\frac{12!}{6! \\times 6!}\n",
    "$$\n",
    "\n",
    "By dividing \\( 12! \\) by \\( 6! x 6! \\), we get:\n",
    "\n",
    "\n",
    "$$\n",
    "\\frac{479001600}{720 \\times 720} = 924\n",
    "$$\n",
    "\n"
   ]
  },
  {
   "cell_type": "markdown",
   "id": "afa72460",
   "metadata": {},
   "source": [
    "### Calculating Combinations: Selecting \\( k \\)  Objects from \\( n \\)  Without Replacement and Without Order"
   ]
  },
  {
   "cell_type": "code",
   "execution_count": 13,
   "id": "a4a0a9b3",
   "metadata": {},
   "outputs": [
    {
     "data": {
      "text/plain": [
       "924"
      ]
     },
     "execution_count": 13,
     "metadata": {},
     "output_type": "execute_result"
    }
   ],
   "source": [
    "# No of ways of selecting k objects from n without replacement and without order.\n",
    "math.factorial(n) // (math.factorial(k) * math.factorial(n - k))"
   ]
  },
  {
   "cell_type": "markdown",
   "id": "c69ae2bc",
   "metadata": {},
   "source": [
    "This formula works by dividing the factorial of the total number of objects (\n",
    "𝑛\n",
    "!\n",
    ") by the product of the factorial of the number of objects to select (\n",
    "𝑘\n",
    "!\n",
    ") and the factorial of the difference between the total number of objects and the number of objects to select (\n",
    "(\n",
    "𝑛\n",
    "−\n",
    "𝑘\n",
    ")\n",
    "!\n",
    "). This calculation ensures that we account for all possible ways to choose the subset without considering the order of selection.\n",
    "\n",
    "The total combinations is calculated as 924.  This is the number of ways of selecting six cups from twelve, without a need to order the selection."
   ]
  },
  {
   "cell_type": "markdown",
   "id": "fd0bd8b6",
   "metadata": {},
   "source": [
    "____"
   ]
  },
  {
   "cell_type": "markdown",
   "id": "c2084e1a",
   "metadata": {},
   "source": [
    "## Part B: Examination of Overlaps"
   ]
  },
  {
   "cell_type": "markdown",
   "id": "6d6c5598",
   "metadata": {},
   "source": [
    "This section will begin by listing the labels used in the experiment. It will then demonstrate the various ways to select no_cups_milk_first out of no_cups cups of tea. Following this, we will randomly select six cups to add milk to first. The number of combinations, as previously calculated in Part A, will be documented. We will then identify and count the overlaps, displaying the frequency of each overlap on a bar chart. The total number of overlaps, when summed, will equal the number of combinations."
   ]
  },
  {
   "cell_type": "markdown",
   "id": "a39a7b69",
   "metadata": {},
   "source": [
    "### Assign Labels to Cups"
   ]
  },
  {
   "cell_type": "code",
   "execution_count": 14,
   "id": "fce355da",
   "metadata": {},
   "outputs": [
    {
     "name": "stdout",
     "output_type": "stream",
     "text": [
      "Cup labels: [0, 1, 2, 3, 4, 5, 6, 7, 8, 9, 10, 11]\n"
     ]
    }
   ],
   "source": [
    "# Define the number of cups\n",
    "no_cups = 12\n",
    "\n",
    "# The cup labels\n",
    "labels = list(range(no_cups))\n",
    "print(\"Cup labels:\", labels)\n"
   ]
  },
  {
   "cell_type": "markdown",
   "id": "2049361a",
   "metadata": {},
   "source": [
    "### Selecting Six Cups at Random"
   ]
  },
  {
   "cell_type": "code",
   "execution_count": 15,
   "id": "1e494ace",
   "metadata": {},
   "outputs": [
    {
     "data": {
      "text/plain": [
       "[1, 4, 5, 6, 7, 11]"
      ]
     },
     "execution_count": 15,
     "metadata": {},
     "output_type": "execute_result"
    }
   ],
   "source": [
    "# Select six cups at random to put milk in first.\n",
    "# https://docs.python.org/3/library/random.html#random.sample\n",
    "labels_milk = random.sample(labels, 6)\n",
    "\n",
    "# Sort, inplace.\n",
    "labels_milk.sort()\n",
    "\n",
    "# Show.\n",
    "labels_milk"
   ]
  },
  {
   "cell_type": "code",
   "execution_count": 16,
   "id": "2d4a3de0",
   "metadata": {},
   "outputs": [
    {
     "data": {
      "text/plain": [
       "{0, 1, 2, 5, 6, 10}"
      ]
     },
     "execution_count": 16,
     "metadata": {},
     "output_type": "execute_result"
    }
   ],
   "source": [
    "# Ensure the variable is defined\n",
    "labels_milk = random.sample(labels, 6)\n",
    "labels_milk.sort()\n",
    "\n",
    "# Turn labels_milk into a set.\n",
    "# Uses: https://docs.python.org/3/tutorial/datastructures.html#sets\n",
    "set(labels_milk)"
   ]
  },
  {
   "cell_type": "markdown",
   "id": "9abb20a0",
   "metadata": {},
   "source": [
    "### Calculating Number Of Combinations"
   ]
  },
  {
   "cell_type": "code",
   "execution_count": 17,
   "id": "b264a1cd",
   "metadata": {},
   "outputs": [
    {
     "name": "stdout",
     "output_type": "stream",
     "text": [
      "Number of combinations: 924\n"
     ]
    }
   ],
   "source": [
    "# Ensure the variable is defined\n",
    "no_cups_milk_first = 6\n",
    "\n",
    "# Generate the combinations\n",
    "combs = list(itertools.combinations(labels, no_cups_milk_first))\n",
    "\n",
    "# Write the combinations to a CSV file\n",
    "with open('data/combinations.csv', 'w', newline='') as csvfile:\n",
    "    writer = csv.writer(csvfile)\n",
    "    writer.writerow(['Combination'])\n",
    "    for comb in combs:\n",
    "        writer.writerow([', '.join(map(str, comb))])\n",
    "\n",
    "# Display the number of combinations\n",
    "print(f\"Number of combinations: {len(combs)}\")"
   ]
  },
  {
   "cell_type": "markdown",
   "metadata": {},
   "source": [
    "### Calculating Overlaps"
   ]
  },
  {
   "cell_type": "code",
   "execution_count": 18,
   "id": "9d2b9450",
   "metadata": {},
   "outputs": [
    {
     "name": "stdout",
     "output_type": "stream",
     "text": [
      "[4, 4, 3, 3, 3, 4, 3, 5, 4, 4, 4, 5, 4, 4, 4, 4, 5, 4, 3, 3, 4, 3, 3, 4, 3, 4, 3, 4, 5, 4, 4, 4, 5, 4, 4, 4, 4, 5, 4, 3, 3, 4, 3, 3, 4, 3, 4, 3, 4, 5, 5, 5, 6, 5, 4, 4, 5, 4, 4, 5, 4, 5, 4, 5, 4, 4, 5, 4, 4, 5, 4, 5, 4, 5, 3, 4, 3, 4, 3, 4, 4, 3, 4, 4, 4, 3, 3, 3, 4, 3, 3, 3, 3, 4, 3, 2, 2, 3, 2, 2, 3, 2, 3, 2, 3, 4, 4, 4, 5, 4, 3, 3, 4, 3, 3, 4, 3, 4, 3, 4, 3, 3, 4, 3, 3, 4, 3, 4, 3, 4, 2, 3, 2, 3, 2, 3, 3, 2, 3, 3, 4, 4, 4, 5, 4, 3, 3, 4, 3, 3, 4, 3, 4, 3, 4, 3, 3, 4, 3, 3, 4, 3, 4, 3, 4, 2, 3, 2, 3, 2, 3, 3, 2, 3, 3, 4, 4, 5, 4, 4, 5, 4, 5, 4, 5, 3, 4, 3, 4, 3, 4, 4, 3, 4, 4, 3, 4, 3, 4, 3, 4, 4, 3, 4, 4, 3, 2, 3, 3, 3, 4, 3, 3, 3, 4, 3, 3, 3, 3, 4, 3, 2, 2, 3, 2, 2, 3, 2, 3, 2, 3, 4, 4, 4, 5, 4, 3, 3, 4, 3, 3, 4, 3, 4, 3, 4, 3, 3, 4, 3, 3, 4, 3, 4, 3, 4, 2, 3, 2, 3, 2, 3, 3, 2, 3, 3, 4, 4, 4, 5, 4, 3, 3, 4, 3, 3, 4, 3, 4, 3, 4, 3, 3, 4, 3, 3, 4, 3, 4, 3, 4, 2, 3, 2, 3, 2, 3, 3, 2, 3, 3, 4, 4, 5, 4, 4, 5, 4, 5, 4, 5, 3, 4, 3, 4, 3, 4, 4, 3, 4, 4, 3, 4, 3, 4, 3, 4, 4, 3, 4, 4, 3, 2, 3, 3, 3, 3, 3, 3, 4, 3, 2, 2, 3, 2, 2, 3, 2, 3, 2, 3, 2, 2, 3, 2, 2, 3, 2, 3, 2, 3, 1, 2, 1, 2, 1, 2, 2, 1, 2, 2, 3, 3, 4, 3, 3, 4, 3, 4, 3, 4, 2, 3, 2, 3, 2, 3, 3, 2, 3, 3, 2, 3, 2, 3, 2, 3, 3, 2, 3, 3, 2, 1, 2, 2, 2, 3, 3, 4, 3, 3, 4, 3, 4, 3, 4, 2, 3, 2, 3, 2, 3, 3, 2, 3, 3, 2, 3, 2, 3, 2, 3, 3, 2, 3, 3, 2, 1, 2, 2, 2, 3, 4, 3, 4, 3, 4, 4, 3, 4, 4, 3, 2, 3, 3, 3, 3, 2, 3, 3, 3, 2, 4, 3, 3, 3, 4, 3, 3, 3, 3, 4, 3, 2, 2, 3, 2, 2, 3, 2, 3, 2, 3, 4, 4, 4, 5, 4, 3, 3, 4, 3, 3, 4, 3, 4, 3, 4, 3, 3, 4, 3, 3, 4, 3, 4, 3, 4, 2, 3, 2, 3, 2, 3, 3, 2, 3, 3, 4, 4, 4, 5, 4, 3, 3, 4, 3, 3, 4, 3, 4, 3, 4, 3, 3, 4, 3, 3, 4, 3, 4, 3, 4, 2, 3, 2, 3, 2, 3, 3, 2, 3, 3, 4, 4, 5, 4, 4, 5, 4, 5, 4, 5, 3, 4, 3, 4, 3, 4, 4, 3, 4, 4, 3, 4, 3, 4, 3, 4, 4, 3, 4, 4, 3, 2, 3, 3, 3, 3, 3, 3, 4, 3, 2, 2, 3, 2, 2, 3, 2, 3, 2, 3, 2, 2, 3, 2, 2, 3, 2, 3, 2, 3, 1, 2, 1, 2, 1, 2, 2, 1, 2, 2, 3, 3, 4, 3, 3, 4, 3, 4, 3, 4, 2, 3, 2, 3, 2, 3, 3, 2, 3, 3, 2, 3, 2, 3, 2, 3, 3, 2, 3, 3, 2, 1, 2, 2, 2, 3, 3, 4, 3, 3, 4, 3, 4, 3, 4, 2, 3, 2, 3, 2, 3, 3, 2, 3, 3, 2, 3, 2, 3, 2, 3, 3, 2, 3, 3, 2, 1, 2, 2, 2, 3, 4, 3, 4, 3, 4, 4, 3, 4, 4, 3, 2, 3, 3, 3, 3, 2, 3, 3, 3, 2, 3, 3, 3, 4, 3, 2, 2, 3, 2, 2, 3, 2, 3, 2, 3, 2, 2, 3, 2, 2, 3, 2, 3, 2, 3, 1, 2, 1, 2, 1, 2, 2, 1, 2, 2, 3, 3, 4, 3, 3, 4, 3, 4, 3, 4, 2, 3, 2, 3, 2, 3, 3, 2, 3, 3, 2, 3, 2, 3, 2, 3, 3, 2, 3, 3, 2, 1, 2, 2, 2, 3, 3, 4, 3, 3, 4, 3, 4, 3, 4, 2, 3, 2, 3, 2, 3, 3, 2, 3, 3, 2, 3, 2, 3, 2, 3, 3, 2, 3, 3, 2, 1, 2, 2, 2, 3, 4, 3, 4, 3, 4, 4, 3, 4, 4, 3, 2, 3, 3, 3, 3, 2, 3, 3, 3, 2, 2, 2, 3, 2, 2, 3, 2, 3, 2, 3, 1, 2, 1, 2, 1, 2, 2, 1, 2, 2, 1, 2, 1, 2, 1, 2, 2, 1, 2, 2, 1, 0, 1, 1, 1, 2, 3, 2, 3, 2, 3, 3, 2, 3, 3, 2, 1, 2, 2, 2, 2, 1, 2, 2, 2, 1, 2, 3, 2, 3, 2, 3, 3, 2, 3, 3, 2, 1, 2, 2, 2, 2, 1, 2, 2, 2, 1, 3, 2, 3, 3, 3, 2, 2]\n"
     ]
    }
   ],
   "source": [
    "# Calculate the overlap between each element of combs and labels_milk.\n",
    "# Uses: https://docs.python.org/3/library/stdtypes.html#set\n",
    "\n",
    "no_overlaps = []\n",
    "\n",
    "# Open a CSV file to write the results\n",
    "with open('data/overlaps.csv', 'w', newline='') as csvfile:\n",
    "    writer = csv.writer(csvfile)\n",
    "    writer.writerow(['Combination', 'Overlap', 'Length of Overlap'])\n",
    "    \n",
    "    for comb in combs:\n",
    "        # Turn comb into a set\n",
    "        s1 = set(comb)\n",
    "        \n",
    "        # Turn labels_milk into a set\n",
    "        s2 = set(labels_milk)\n",
    "        \n",
    "        # Figure out where they overlap\n",
    "        overlap = s1.intersection(s2)\n",
    "        \n",
    "        # Append overlap to no_overlaps\n",
    "        no_overlaps.append(len(overlap))\n",
    "        \n",
    "        # Write the combination, overlap, and length of overlap to the CSV file.  View results in this file.\n",
    "        writer.writerow([comb, list(overlap), len(overlap)])\n",
    "\n",
    "# Show the overlaps from the extracted file\n",
    "print(no_overlaps)\n"
   ]
  },
  {
   "cell_type": "code",
   "execution_count": 19,
   "id": "030759bb",
   "metadata": {},
   "outputs": [
    {
     "data": {
      "text/plain": [
       "(array([0, 1, 2, 3, 4, 5, 6]),\n",
       " array([  1,  36, 225, 400, 225,  36,   1], dtype=int64))"
      ]
     },
     "execution_count": 19,
     "metadata": {},
     "output_type": "execute_result"
    }
   ],
   "source": [
    "# Count the number of times each overlap occurs.\n",
    "counts = np.unique(no_overlaps, return_counts=True)\n",
    "\n",
    "# Show.\n",
    "counts"
   ]
  },
  {
   "cell_type": "markdown",
   "id": "5209c8ff",
   "metadata": {},
   "source": [
    "### Generate a Bar Chart"
   ]
  },
  {
   "cell_type": "markdown",
   "id": "5d9d74be",
   "metadata": {},
   "source": [
    "The code will generate a bar chart to visually represent how often each number of overlaps occurs, with the height of each bar indicating the frequency of that overlap count.  Bar totals are also displayed."
   ]
  },
  {
   "cell_type": "code",
   "execution_count": 20,
   "id": "aa4a2cb4",
   "metadata": {},
   "outputs": [
    {
     "data": {
      "image/png": "[encoded data removed]",
      "text/plain": [
       "<Figure size 600x600 with 1 Axes>"
      ]
     },
     "metadata": {},
     "output_type": "display_data"
    }
   ],
   "source": [
    "# Count the number of times each overlap occurs.\n",
    "counts = np.unique(no_overlaps, return_counts=True)\n",
    "\n",
    "# Create a figure\n",
    "fig, ax = plt.subplots(figsize=(6, 6))\n",
    "\n",
    "# Create bar chart\n",
    "bars = ax.bar(counts[0], counts[1])\n",
    "\n",
    "# Display values on top of bars\n",
    "for bar in bars:\n",
    "    height = bar.get_height()\n",
    "    ax.text(bar.get_x() + bar.get_width() / 2., height, f'{height}', ha='center', va='bottom')\n",
    "\n",
    "# Set titles and labels\n",
    "ax.set_title('Bar Chart of Overlaps')\n",
    "ax.set_xlabel('Number of Overlaps')\n",
    "ax.set_ylabel('Frequency')\n",
    "\n",
    "# Save the plot as an image in the 'images' directory\n",
    "plt.savefig('images/Overlaps_bar_chart.png', bbox_inches='tight', pad_inches=0)\n",
    "\n",
    "# Show the plot (optional)\n",
    "plt.show()\n",
    "\n"
   ]
  },
  {
   "cell_type": "markdown",
   "id": "7daa5c10",
   "metadata": {},
   "source": [
    "The results above and also presented in the chart state, the chance of a person getting six correct cups is 1 in 924, The chance of getting five correct cups is 36 in 924, The chance of getting four correct cups is 225 in 924.  The chance of getting half the number of cups right is 400 in 924 which interestingly enough in this case is nearly half the time.  The chance of getting all out of six wrong is 1 in 924. It may the case that the person can tell the difference every time, but not know which group a cup belongs to. \n",
    "\n",
    "____"
   ]
  },
  {
   "cell_type": "markdown",
   "id": "611c9cc2",
   "metadata": {},
   "source": [
    "## Part C: Error Acceptance Analysis"
   ]
  },
  {
   "cell_type": "markdown",
   "id": "efaf55dc",
   "metadata": {},
   "source": [
    "This part looks at Hypothesis and Evidence.  Acceptance of results is discussed along with acceptable errors."
   ]
  },
  {
   "cell_type": "markdown",
   "id": "459ea6b1",
   "metadata": {},
   "source": [
    "### The Null Hypothesis"
   ]
  },
  {
   "cell_type": "markdown",
   "id": "d1a32bd5",
   "metadata": {},
   "source": [
    "* The person has no special power to tell the difference between cups of tea with milk in first and cups of tea with tea in first.\n",
    "\n",
    "* The person is selecting the six cups from the twelve cups at random."
   ]
  },
  {
   "cell_type": "markdown",
   "id": "cd7cd010",
   "metadata": {},
   "source": [
    "### Alternative Hypothesis"
   ]
  },
  {
   "cell_type": "markdown",
   "id": "260e0770",
   "metadata": {},
   "source": [
    "* The person can tell the difference"
   ]
  },
  {
   "cell_type": "markdown",
   "id": "27174924",
   "metadata": {},
   "source": [
    "### Evidence"
   ]
  },
  {
   "cell_type": "markdown",
   "id": "eff3fabf",
   "metadata": {},
   "source": [
    "If the person is just picking six cups at random, then it is unlikely he / she will pick the correct six. The probability is one in nine hundred and twenty four. It is so unlikely, that I will agree that something non-random is happening when he / she is selecting the cups of tea.\n",
    "\n",
    "Similar to Fishers beliefs"
   ]
  },
  {
   "cell_type": "markdown",
   "id": "ad8ce21b",
   "metadata": {},
   "source": [
    "### Calculating the Probability of selecting all six cups out of twelve in the Lady Tasting Tea experiment"
   ]
  },
  {
   "cell_type": "code",
   "execution_count": 21,
   "id": "c8e37e8d",
   "metadata": {},
   "outputs": [
    {
     "data": {
      "text/plain": [
       "0.0010822510822510823"
      ]
     },
     "execution_count": 21,
     "metadata": {},
     "output_type": "execute_result"
    }
   ],
   "source": [
    "# The probability that he / she (randomly) selects the six correct cups.\n",
    "1 / 924"
   ]
  },
  {
   "cell_type": "markdown",
   "id": "229422fc",
   "metadata": {},
   "source": [
    "__6 Cups Picked Out Of 6 Result Explored__\n",
    "\n",
    "The probability of correctly selecting all six cups out of twelve in the Lady Tasting Tea experiment is extremely low. Specifically, the chance of making the correct selection purely by chance is 1 in 924, which translates to approximately 0.00108, or 0.108%. This means that the likelihood of guessing all six cups correctly is very slim, highlighting the significance of any correct identification beyond random chance."
   ]
  },
  {
   "cell_type": "markdown",
   "id": "8ea203bc",
   "metadata": {},
   "source": [
    "### Calculating the Probability of selecting five out of six cups from twelve in the Lady Tasting Tea experiment"
   ]
  },
  {
   "cell_type": "code",
   "execution_count": 22,
   "id": "c0a540ff",
   "metadata": {},
   "outputs": [
    {
     "data": {
      "text/plain": [
       "0.03896103896103896"
      ]
     },
     "execution_count": 22,
     "metadata": {},
     "output_type": "execute_result"
    }
   ],
   "source": [
    "# The probability that he / she (randomly) selects five correct cups.\n",
    "36 / 924"
   ]
  },
  {
   "cell_type": "markdown",
   "id": "d04e03f6",
   "metadata": {},
   "source": [
    "__5 Cups Picked Out Of 6 Result Explored__\n",
    "\n",
    "The probability of correctly selecting five out of six cups from twelve in the Lady Tasting Tea experiment is quite low. Specifically, the chance of making the correct selection purely by chance is 36 in 924, which translates to approximately 0.039, or 3.9%."
   ]
  },
  {
   "cell_type": "markdown",
   "id": "c963ca3b",
   "metadata": {},
   "source": [
    "### Calculating the Probability of selecting four out of six cups from twelve in the Lady Tasting Tea experiment"
   ]
  },
  {
   "cell_type": "code",
   "execution_count": 23,
   "id": "bc5a5592",
   "metadata": {},
   "outputs": [
    {
     "data": {
      "text/plain": [
       "0.2435064935064935"
      ]
     },
     "execution_count": 23,
     "metadata": {},
     "output_type": "execute_result"
    }
   ],
   "source": [
    "# The probability that he / she (randomly) selects four correct cups.\n",
    "225 / 924"
   ]
  },
  {
   "cell_type": "markdown",
   "id": "f8cccfc5",
   "metadata": {},
   "source": [
    "__4 Cups Picked Out Of 6 Result Explored__\n",
    "\n",
    "The probability of correctly selecting four out of six cups from twelve in the Lady Tasting Tea experiment is quite low. Specifically, the chance of making the correct selection purely by chance is 225 in 924, which translates to approximately 0.244, or 24.4%"
   ]
  },
  {
   "cell_type": "markdown",
   "id": "3509db03",
   "metadata": {},
   "source": [
    "### Type I Errors, Type II Errors, and Power ###"
   ]
  },
  {
   "cell_type": "markdown",
   "id": "f58d0bf5",
   "metadata": {},
   "source": [
    "* Type I and Type II errors: https://en.wikipedia.org/wiki/Type_I_and_type_II_errors#Table_of_error_types\n",
    "* Power: https://en.wikipedia.org/wiki/Power_(statistics)#Description"
   ]
  },
  {
   "cell_type": "markdown",
   "id": "402b4b78",
   "metadata": {},
   "source": [
    "### Type I and Type II errors "
   ]
  },
  {
   "cell_type": "code",
   "execution_count": 24,
   "id": "20947044",
   "metadata": {},
   "outputs": [
    {
     "name": "stdout",
     "output_type": "stream",
     "text": [
      "Type I Error Rate: 0.6245\n",
      "Type II Error Rate: 0.0000\n"
     ]
    }
   ],
   "source": [
    "\n",
    "# Function to simulate the Lady Tasting Tea experiment\n",
    "def simulate_experiment(n, k, trials, true_ability):\n",
    "    type_i_errors = 0\n",
    "    type_ii_errors = 0\n",
    "\n",
    "    for _ in range(trials):\n",
    "        # Simulate the experiment with true ability\n",
    "        correct_guesses = np.random.binomial(n, true_ability)\n",
    "\n",
    "        # Check for Type I error (false positive)\n",
    "        if true_ability == 0.5 and correct_guesses >= k:\n",
    "            type_i_errors += 1\n",
    "\n",
    "        # Check for Type II error (false negative)\n",
    "        if true_ability != 0.5 and correct_guesses < k:\n",
    "            type_ii_errors += 1\n",
    "\n",
    "    type_i_error_rate = type_i_errors / trials\n",
    "    type_ii_error_rate = type_ii_errors / trials\n",
    "\n",
    "    return type_i_error_rate, type_ii_error_rate\n",
    "\n",
    "# Parameters\n",
    "n = 12  # Number of cups\n",
    "k = 6   # Number of correct identifications required\n",
    "trials = 10000  # Number of simulation trials\n",
    "true_ability = 0.5  # True ability to distinguish (0.5 for random guessing)\n",
    "\n",
    "# Simulate the experiment\n",
    "type_i_error_rate, type_ii_error_rate = simulate_experiment(n, k, trials, true_ability)\n",
    "\n",
    "print(f\"Type I Error Rate: {type_i_error_rate:.4f}\")\n",
    "print(f\"Type II Error Rate: {type_ii_error_rate:.4f}\")\n"
   ]
  },
  {
   "cell_type": "markdown",
   "id": "4b9cb7f9",
   "metadata": {},
   "source": [
    "__Type I Errors Examined__\n",
    "\n",
    "Type I Error Rate: 0.6148 This means that there is a 61.48% probability of incorrectly rejecting a true null hypothesis. In the context of the Lady Tasting Tea experiment, this high Type I error rate suggests that there is a significant chance of mistakenly concluding that someone can discern the order of milk and tea when they actually cannot. This high rate indicates that the test is not very stringent and is prone to false positives.\n",
    "\n",
    "[Wikipedia](https://en.wikipedia.org/wiki/Lady_tasting_tea) explains that a Type I error occurs when a true null hypothesis is incorrectly rejected. In the context of the Lady Tasting Tea experiment, this would mean mistakenly concluding that someone can discern the order of milk and tea when they actually cannot. This source emphasizes the importance of the null hypothesis in Fisher's experiment, which is the assumption that the subject has no ability to distinguish the teas.\n",
    "\n",
    "[Oxford Academic](https://academic.oup.com/jrssig/article/18/5/34/7038291) supports this by detailing how Fisher designed the experiment to test the null hypothesis. The probability of the lady in the initial experiment correctly identifying all eight cups by chance was calculated to be 0.014, which is statistically significant. This low probability helps minimize the likelihood of a Type I error, ensuring that the conclusion drawn from the experiment is reliable.  The probability of selecting all twelve cups by chance in this experiment was even lower at 0.00108.\n",
    "\n",
    "I would be willing to accept a person correctly identified 5 out of 6 cups, as the 3.8% probability indicates a very stringent acceptance criterion, significantly reducing the likelihood of a Type I error. This high confidence level (96.2% chance of getting it wrong) ensures that if they pass this test, their ability is genuine.\n",
    "\n",
    "__Type II Errors Examined__\n",
    "\n",
    "Type II Error Rate: 0.0000 This means that there is a 0% probability of failing to reject a false null hypothesis. In the context of the Lady Tasting Tea experiment, this indicates that the test is highly effective at recognizing a person's genuine ability to distinguish the order of milk and tea. There are no false negatives, meaning the test does not fail to identify someone who truly has the ability.\n",
    "\n",
    "[Learn Statistics Easily](https://statisticseasily.com/lady-tasting-tea/) discusses Type II errors, which occur when a false null hypothesis is not rejected. In the Lady Tasting Tea experiment, this would mean failing to recognize a person's genuine ability to distinguish the order of milk and tea. The source highlights that Fisher's experiment was designed to reduce the risk of Type II errors by ensuring that the test was sensitive enough to detect the lady's ability if it existed.\n",
    "\n",
    "[ProQuest](https://www.proquest.com/docview/221702843?sourcetype=Scholarly%20Journals) adds that Fisher's use of combinatorial analysis and the exact test helped in accurately determining the probability of different outcomes, thereby reducing the risk of Type II errors. By calculating the exact probabilities of various outcomes, Fisher ensured that the test was both rigorous and reliable.\n",
    "\n",
    "I would be less willing to accept 4 out of 6 cups, as it would give a 25% chance of being correct purely by guessing (1 in 4). This less stringent criterion increases the likelihood of a Type I error, making it less reliable. For a better balance between Type I and Type II errors, stringent criteria (like the [5 out of 6 rule](https://en.wikipedia.org/wiki/Type_I_and_type_II_errors)) are crucial, especially in critical fields. In scenarios where children's safety is involved, precision is key. Thus, sticking to a 5 out of 6 acceptance rate aligns well with maintaining high standards of accuracy and reducing false positives."
   ]
  },
  {
   "cell_type": "markdown",
   "id": "c2b016e1",
   "metadata": {},
   "source": [
    "### Power of the Test"
   ]
  },
  {
   "cell_type": "markdown",
   "id": "18a7c1b9",
   "metadata": {},
   "source": [
    "The power of a test is the probability that it will correctly reject a false null hypothesis.  The following code will calculate the power based on the probability of correctly identifying the cups by chance.  "
   ]
  },
  {
   "cell_type": "code",
   "execution_count": 25,
   "id": "68c78c5e",
   "metadata": {},
   "outputs": [
    {
     "name": "stdout",
     "output_type": "stream",
     "text": [
      "The power of the Lady Tasting Tea test is: 0.0730\n"
     ]
    }
   ],
   "source": [
    "# Function to calculate the power of the Lady Tasting Tea test\n",
    "def calculate_power(n, k, alpha):\n",
    "    # Calculate the probability of correctly identifying k cups out of n by chance\n",
    "    p_value = stats.binom.pmf(k, n, 0.5)\n",
    "    \n",
    "    # Calculate the critical value for the given alpha level\n",
    "    critical_value = stats.binom.ppf(1 - alpha, n, 0.5)\n",
    "    \n",
    "    # Calculate the power of the test\n",
    "    power = 1 - stats.binom.cdf(critical_value - 1, n, 0.5)\n",
    "    \n",
    "    return power\n",
    "\n",
    "# Number of cups\n",
    "n = 12\n",
    "\n",
    "# Number of correct identifications required\n",
    "k = 6\n",
    "\n",
    "# Significance level (alpha)\n",
    "alpha = 0.05\n",
    "\n",
    "# Calculate the power of the test\n",
    "power = calculate_power(n, k, alpha)\n",
    "\n",
    "print(f\"The power of the Lady Tasting Tea test is: {power:.4f}\")\n"
   ]
  },
  {
   "cell_type": "markdown",
   "id": "14ea74c5",
   "metadata": {},
   "source": [
    "The output \"The power of the Lady Tasting Tea test is: 0.0730\" indicates that the test has a power of 0.0730, or 7.30%. This means that there is a 7.30% probability that the test will correctly reject a false null hypothesis. In other words, if the person truly has the ability to distinguish the order of milk and tea, the test has a 7.30% chance of detecting this ability and rejecting the null hypothesis that they cannot distinguish the order. This relatively low power suggests that the test may not be very effective at identifying true positives, and there is a higher risk of Type II errors (false negatives), where the test fails to recognize a genuine ability.\n",
    "\n",
    "[Wikipedia](https://en.wikipedia.org/wiki/Lady_tasting_tea) explains that the power of a test is the probability that it will correctly reject a false null hypothesis. In the Lady Tasting Tea experiment, maintaining high rigor with the \"5 out of 6\" criterion ensures a 3.8% probability of correctly guessing, meaning a 96.2% chance of the person's guess being incorrect. This strict threshold ensures high confidence in their ability if they succeed.\n",
    "\n",
    "[Oxford Academic](https://academic.oup.com/jrssig/article/18/5/34/7038291) supports this by explaining that the power of the test is crucial in reducing the risk of Type II errors. By setting a stringent criterion, Fisher ensured that the test had high power and reliability. This high power is essential in high-stakes settings, like ensuring children's safety, where the consequences of errors can be significant.\n",
    "\n",
    "In summary, these sources collectively highlight the importance of minimizing Type I and Type II errors and maintaining high power in the Lady Tasting Tea experiment. Fisher's meticulous design and analysis ensured that the experiment was both rigorous and reliable, providing a robust foundation for modern hypothesis testing. Similarly, my experiment followed Fisher's principles by setting stringent criteria to minimize Type I errors and maintain high power, ensuring that the results were both accurate and reliable. This approach underscores the significance of rigorous experimental design in achieving trustworthy outcomes in hypothesis testing.  It is also important to be cognisant in how to maintain high power in a test."
   ]
  },
  {
   "cell_type": "markdown",
   "id": "f0640202",
   "metadata": {},
   "source": [
    "### How to maintain high power in a test\n",
    "\n",
    "Maintaining high power in a test is crucial for ensuring that the test can correctly reject a false null hypothesis, thereby reducing the risk of Type II errors (false negatives). Here are some strategies to maintain high power in a test, supported by relevant references:\n",
    "\n",
    "__Increase Sample Size:__\n",
    "\n",
    "One of the most effective ways to increase the power of a test is to increase the sample size. A larger sample size reduces the standard error, making it easier to detect a true effect. According to [Wikipedia](https://en.wikipedia.org/wiki/Power_(statistics)), increasing the sample size is a straightforward method to enhance the power of a statistical test.\n",
    "\n",
    "__Increase Effect Size:__\n",
    "\n",
    "The power of a test is also influenced by the effect size, which is the magnitude of the difference or relationship being tested. Designing experiments to maximize the effect size can help increase power. This can be achieved by using more sensitive measurement instruments or by ensuring that the experimental conditions are well-controlled. [Oxford Academic](https://academic.oup.com/jrssig/article/18/5/34/7038291) discusses how effect size plays a critical role in determining the power of a test.\n",
    "\n",
    "__Use One-Tailed Tests:__\n",
    "\n",
    "In some cases, using a one-tailed test instead of a two-tailed test can increase the power of the test. This is because a one-tailed test focuses on detecting an effect in only one direction, thereby increasing the test's sensitivity. However, this approach should be used with caution and only when the direction of the effect is known in advance. [PLOS ONE](https://journals.plos.org/plosone/article?id=10.1371/journal.pone.0307866) provides insights into the use of one-tailed tests to increase statistical power.\n",
    "\n",
    "__Improve Measurement Precision:__\n",
    "\n",
    "Reducing measurement error and increasing the precision of measurements can also enhance the power of a test. This can be achieved by using reliable and valid measurement instruments, standardizing data collection procedures, and training data collectors thoroughly. [ProQuest](https://www.proquest.com/docview/221702843?sourcetype=Scholarly%20Journals) highlights the importance of measurement precision in maintaining high power in statistical tests.\n",
    "\n",
    "__Optimize Experimental Design:__\n",
    "\n",
    "Carefully designing the experiment to control for confounding variables and to ensure that the conditions are as consistent as possible can help increase the power of the test. This includes randomizing subjects to different groups, using control groups, and ensuring that the experimental conditions are identical for all participants. [Wikipedia](https://en.wikipedia.org/wiki/Design_of_experiments) discusses various strategies for optimizing experimental design to enhance statistical power.\n",
    "\n",
    "By implementing these strategies, you can maintain high power in your tests, ensuring that they are effective at detecting true effects and reducing the likelihood of Type II errors."
   ]
  },
  {
   "cell_type": "markdown",
   "id": "6538f8bf",
   "metadata": {},
   "source": [
    "**Note**"
   ]
  },
  {
   "cell_type": "markdown",
   "id": "5784e032",
   "metadata": {},
   "source": [
    "This notebook was created with the help of GitHub Copilot."
   ]
  },
  {
   "cell_type": "markdown",
   "id": "6b2c403f",
   "metadata": {},
   "source": [
    "### End ###"
   ]
  },
  {
   "cell_type": "markdown",
   "id": "6534cb9f",
   "metadata": {},
   "source": [
    "_____"
   ]
  },
  {
   "cell_type": "markdown",
   "id": "07674ae8",
   "metadata": {},
   "source": [
    "# Task Two numpy's Normal Distribution"
   ]
  },
  {
   "cell_type": "markdown",
   "id": "fbec1a7d",
   "metadata": {},
   "source": [
    "### Objective\n",
    "In this task you will assess whether numpy.random.normal() properly generates normal values. To begin, generate a sample of one hundred thousand values using the function with mean 10.0 and standard deviation 3.0.\n",
    "\n",
    "Use the scipy.stats.shapiro() function to test whether your sample came from a normal distribution. Explain the results and output.\n",
    "\n",
    "Plot a histogram of your values and plot the corresponding normal distribution probability density function on top of it.\n",
    "\n",
    " ____"
   ]
  },
  {
   "cell_type": "markdown",
   "id": "956df616",
   "metadata": {},
   "source": [
    "## The steps to complete this task are\n",
    "\n",
    "### 1. Generate a Sample\n",
    "Use the `numpy.random.normal()` function to generate a sample of 100,000 values with a mean of 10.0 and a standard deviation of 3.0.\n",
    "\n",
    "```python\n",
    "import numpy as np\n",
    "```\n",
    "\n",
    "### Generate sample\n",
    "```python\n",
    "sample = np.random.normal(loc=10.0, scale=3.0, size=100000)\n",
    "```\n",
    "\n",
    "### 2. Visualize Data\n",
    "Create a histogram of the sample values to visualize the distribution.\n",
    "\n",
    "```python\n",
    "import matplotlib.pyplot as plt\n",
    "```\n",
    "\n",
    "### Create histogram\n",
    "```python\n",
    "plt.hist(sample, bins=50, density=True, alpha=0.6, color='g')\n",
    "plt.title('Histogram of Sample Values')\n",
    "plt.xlabel('Value')\n",
    "plt.ylabel('Frequency')\n",
    "plt.show()\n",
    "```\n",
    "\n",
    "### 3. Determine If Discrete or Continuous Probability Distribution\n",
    "Perform a visual analysis of the histogram to determine if the distribution is discrete or continuous. A discrete random variable takes on countable, distinct values (like the number of students in a class), while a continuous random variable can take on any value within a range (like the height of students).\n",
    "\n",
    "### 4. Test for Normality\n",
    "Perform Analytical, Graphical and Integration tests to determine if our sample comes from a normal distribution.\n",
    "\n",
    "```python\n",
    "from scipy.stats import shapiro, probplot\n",
    "\n",
    "# Shapiro-Wilk test\n",
    "stat, p_value = shapiro(sample)\n",
    "print(f'Shapiro-Wilk Test: Statistic={stat}, p-value={p_value}')\n",
    "\n",
    "# Kolmogorov-Smirnov test\n",
    "stat, p_value = kstest(sample, 'norm', args=(mean, std_dev))\n",
    "print(f\"Kolmogorov-Smirnov Test: Stat={stat}, p-value={p_value}\")\n",
    "\n",
    "# QQ-plot\n",
    "probplot(sample, dist=\"norm\", plot=plt)\n",
    "plt.title('QQ-Plot of Sample Values')\n",
    "plt.show()\n",
    "\n",
    "# 97.5th percentile test\n",
    "plt.fill_between(x, stats.norm.pdf(x, mean, std_dev), where=(x < mean - 1.96*std_dev) | (x > mean + 1.96*std_dev), color='red', alpha=0.7)\n",
    "```\n",
    "\n",
    "### 5. Overlay Histogram with Probability Density Function\n",
    "Finally, overlay the histogram with the probability density function of a normal distribution with the same mean and standard deviation.\n",
    "\n",
    "### 6. Analyze Results\n",
    "Interpret the output from the tests. If the p-value is greater than 0.05, it suggests that the sample likely comes from a normal distribution. Conversely, a p-value less than 0.05 suggests non-normality.\n",
    "\n",
    "```python\n",
    "import scipy.stats as stats\n",
    "\n",
    "# Plot histogram\n",
    "plt.hist(sample, bins=50, density=True, alpha=0.6, color='g')\n",
    "\n",
    "# Plot probability density function\n",
    "xmin, xmax = plt.xlim()\n",
    "x = np.linspace(xmin, xmax, 100)\n",
    "p = stats.norm.pdf(x, 10, 3)\n",
    "plt.plot(x, p, 'k', linewidth=2)\n",
    "plt.title('Histogram with Normal Distribution Overlay')\n",
    "plt.xlabel('Value')\n",
    "plt.ylabel('Density')\n",
    "plt.show()\n",
    "```\n",
    "\n",
    "### The code for this task was generated with the help of an AI tool, and subsequently reviewed and verified for accuracy and functionality."
   ]
  },
  {
   "cell_type": "markdown",
   "id": "3d6b7d2b",
   "metadata": {},
   "source": [
    "## Importing Relevant Libraries for Completion of Task Two"
   ]
  },
  {
   "cell_type": "code",
   "execution_count": 26,
   "id": "8c3291a2",
   "metadata": {},
   "outputs": [],
   "source": [
    "# Numerical structures and operations.  This tool is essential for numerical computing. \n",
    "# It supports arrays, matrices, and functions for high-level mathematical operations\n",
    "# https://numpy.org/doc/stable/reference/index.html#reference\n",
    "import numpy as np \n",
    "\n",
    "# The shapiro function comes under the statistical tests grouping in the scipy.stats module.\n",
    "# This tool is essential for testing the normality of a dataset. It's particularly useful in determining whether a sample comes from a normally distributed population.\n",
    "# The shapiro function performs the Shapiro-Wilk test for normality. It returns a test statistic and a p-value, which you can use to decide whether to reject the null hypothesis that the data is normally distributed.\n",
    "# https://docs.scipy.org/doc/scipy/reference/generated/scipy.stats.shapiro.html\n",
    "from scipy.stats import shapiro\n",
    "\n",
    "# The norm function falls under the probability distributions grouping in the scipy.stats module.\n",
    "# This tool is essential for working with the normal (Gaussian) distribution. It's widely used in statistics for modeling and analyzing data that follows a normal distribution.\n",
    "# The norm function provides a range of methods to work with the normal distribution, including calculating probabilities, generating random samples, and fitting data to a normal distribution.\n",
    "# https://docs.scipy.org/doc/scipy/reference/generated/scipy.stats.norm.html\n",
    "from scipy.stats import norm\n",
    "\n",
    "# The kstest function from the scipy.stats module and compares the underlying distribution of a sample to a specified reference distribution (e.g., normal distribution). \n",
    "# This helps determine if the sample comes from the specified distribution.\n",
    "# https://docs.scipy.org/doc/scipy/reference/generated/scipy.stats.kstest.html\n",
    "from scipy.stats import kstest\n",
    "\n",
    "# Plotting.  This is a 2D plotting library that is a great tool for plotting graohs and visualisation of data.\n",
    "# https://matplotlib.org/stable/contents.html\n",
    "import matplotlib.pyplot as plt\n",
    "\n",
    "# The stats module provides a wide range of statistical functions and methods, including probability distributions, statistical tests, and descriptive statistics\n",
    "# https://docs.scipy.org/doc/scipy/reference/generated/scipy.stats.kstest.html\n",
    "from scipy import stats\n"
   ]
  },
  {
   "cell_type": "markdown",
   "id": "be63881e",
   "metadata": {},
   "source": [
    "## Normal Distribution Explained\n",
    "\n",
    "https://numpy.org/doc/stable/reference/random/generated/numpy.random.normal.html#numpy-random-normal"
   ]
  },
  {
   "cell_type": "markdown",
   "id": "b6e0e643",
   "metadata": {},
   "source": [
    "\n",
    "__random.normal(Loc=0.0, Scale=1.0, size-None)__\n",
    "\n",
    "The numpy.random.normal function generates random samples from a normal (Gaussian) distribution. You can specify the mean (loc), standard deviation (scale), and the number of samples (size) to generate.\n",
    "\n",
    "When the mean is zero and the standard deviation is one, the formula for the normal distribution curve simplifies significantly. The standard deviation (𝜎) cannot be zero, as this would make the function undefined.\n",
    "\n",
    "Each set of values for loc (mean) and scale (standard deviation) results in a different distribution. The formula is simplest when the mean is zero and the standard deviation is one, as shown in the Probability Density Function.\n",
    "\n",
    "Further information is available in  [numpy documentation](https://numpy.org/doc/stable/reference/random/generated/numpy.random.normal.html#numpy-random-normal).\n"
   ]
  },
  {
   "cell_type": "markdown",
   "id": "0d5e51b0",
   "metadata": {},
   "source": [
    "### Probability Density Function (PDF) Explained\n",
    "\n",
    "The Probability Density Function (PDF) of a normal distribution describes how the values of a random variable are distributed. It shows the likelihood of different outcomes in a continuous random variable. The PDF is often represented by a bell-shaped curve, known as the Gaussian or normal distribution curve.\n",
    "\n",
    "The formula for the PDF of a normal distribution is:\n",
    "\n",
    "$ f(x) = \\frac{1}{\\sqrt{2 \\pi \\sigma^2}} e^{-\\frac{(x - \\mu)^2}{2 \\sigma^2}} $\n",
    "\n",
    "Here's a breakdown of the components:\n",
    "\n",
    "𝜇 : The mean of the distribution. It determines the center of the distribution.\n",
    "\n",
    "𝜎 : The standard deviation of the distribution. It measures the spread or dispersion of the distribution.\n",
    "\n",
    "𝑥 : The variable for which we are calculating the probability density.\n",
    "\n",
    "𝜋 : A mathematical constant approximately equal to 3.14159.\n",
    "\n",
    "𝑒 : The base of the natural logarithm, approximately equal to 2.71828.\n",
    "\n",
    "In simpler terms, the PDF tells us how likely it is to get a particular value of \n",
    "𝑥\n",
    ". The peak of the curve is at the mean \n",
    "𝜇\n",
    ", and the spread of the curve is determined by the standard deviation \n",
    "𝜎\n",
    ". Values closer to the mean are more likely, while values further away from the mean are less likely. The area under the curve represents the total probability, which is always equal to 1.\n",
    "\n",
    "Further information is available in [numpy documentation](https://numpy.org/doc/stable/reference/random/generated/numpy.random.normal.html#numpy-random-normal)."
   ]
  },
  {
   "cell_type": "markdown",
   "id": "f42eaf02",
   "metadata": {},
   "source": [
    "### Standard Normal Distribution\n",
    "\n",
    "When the mean (𝜇) is zero and the standard deviation (𝜎) is one, the formula for the normal distribution simplifies to:\n",
    "\n",
    "$$ f(x) = \\frac{1}{\\sqrt{2 \\pi}} e{-\\frac{x2}{2}} $$\n",
    "\n",
    "This simplified formula represents the standard normal distribution. In this case:\n",
    "\n",
    "The mean (𝜇) is 0, which is the center of the distribution.\n",
    "\n",
    "The standard deviation (𝜎) is 1, which determines the spread of the distribution.\n",
    "\n",
    "The standard normal distribution is a special case of the normal distribution where the data is centered around zero and has a standard deviation of one. This makes it easier to work with and compare different datasets. The bell-shaped curve of the standard normal distribution shows that most values are close to the mean (0), and the probability of observing values decreases as you move further away from the mean.\n",
    "\n",
    "Further information is available on [Wikipedia Page on Normal Distribution](https://en.wikipedia.org/wiki/Normal_distribution)"
   ]
  },
  {
   "cell_type": "markdown",
   "id": "6d5b18ed",
   "metadata": {},
   "source": [
    "## Step One: Generate the Random Normal Sample:\n",
    "\n",
    "https://numpy.org/doc/stable/reference/random/generated/numpy.random.normal.html#numpy-random-normal\n",
    "\n",
    "The numpy.random.normal function generates random samples from a normal (Gaussian) distribution. In this, we specify the mean of 10.0 and standard deviation of 3.0, as well as the number of samples to generate 100000.\n"
   ]
  },
  {
   "cell_type": "code",
   "execution_count": 27,
   "id": "1e045ff9",
   "metadata": {},
   "outputs": [
    {
     "data": {
      "text/plain": [
       "array([12.9587021 , 12.86125156, 12.57043176, ...,  6.64290179,\n",
       "       10.1517498 , 11.92958003])"
      ]
     },
     "execution_count": 27,
     "metadata": {},
     "output_type": "execute_result"
    }
   ],
   "source": [
    "# Generate a sample of 100,000 values with a mean of 10.0 and a standard deviation of 3.0\n",
    "mean = 10.0\n",
    "std_dev = 3.0\n",
    "sample_size = 100000\n",
    "sample = np.random.normal(mean, std_dev, sample_size)\n",
    "\n",
    "# show\n",
    "sample"
   ]
  },
  {
   "cell_type": "markdown",
   "id": "555f6d33",
   "metadata": {},
   "source": [
    "## Step Two: Visualise the Data\n",
    "\n",
    "Histogram of the sample values created to visualize the distribution."
   ]
  },
  {
   "cell_type": "code",
   "execution_count": 28,
   "id": "411f9676",
   "metadata": {},
   "outputs": [
    {
     "data": {
      "image/png": "[encoded data removed]",
      "text/plain": [
       "<Figure size 640x480 with 1 Axes>"
      ]
     },
     "metadata": {},
     "output_type": "display_data"
    }
   ],
   "source": [
    "# Generate sample data (example)\n",
    "sample = norm.rvs(size=100000)\n",
    "\n",
    "# Plot histogram of the sample\n",
    "plt.hist(sample, bins=50, edgecolor='black', density=True, alpha=0.8, color='g')\n",
    "\n",
    "# Save the plot as an image in the 'images' directory\n",
    "plt.savefig('images/histogram_plot.png', bbox_inches='tight', pad_inches=0)\n",
    "\n",
    "# Show the plot\n",
    "plt.show()\n"
   ]
  },
  {
   "cell_type": "markdown",
   "id": "fa8b7361",
   "metadata": {},
   "source": [
    "## Step Three: Determine If Discrete or Continuous Probability Distribution\n",
    "\n",
    "https://numpy.org/doc/stable/reference/random/generated/numpy.random.normal.html#numpy-random-normal\n",
    "\n",
    "https://en.wikipedia.org/wiki/Normal_distribution\n",
    "\n",
    "Visual analysis of the graph is performed to determine if it is discrete or continuous.  This will determine which graph will be used for displaying test results. According to [Wikipedia](https://en.wikipedia.org/wiki/Power_(statistics)) a discrete random variable takes on countable, distinct values (like the number of students in a class), while a continuous random variable can take on any value within a range (like the height of students).\n",
    "\n",
    "The results from the numpy.random.normal() function are considered a continuous probability distribution. This is because the normal distribution, also known as the Gaussian distribution, is a continuous distribution. It can take on any value within a range, and the probability density function (PDF) describes the likelihood of different outcomes within that range. So, the values generated by numpy.random.normal() are continuous, not discrete."
   ]
  },
  {
   "cell_type": "markdown",
   "id": "01750d05",
   "metadata": {},
   "source": [
    "## Step Four:  Test for Normal Distribution\n",
    "\n",
    "To test whether the sample comes from a normal distribution, Analytical Tests, Graphical Tests and Integration Test will be performed\n",
    "\n",
    "__Analytical Tests To Be Performed__\n",
    "\n",
    "1. Shapiro-Wilk Test\n",
    "\n",
    "1. Kolmogorov-Smirnov Test\n",
    "\n",
    "__Graphical Tests To Be Performed__\n",
    "\n",
    "1. QQ-Plot Test\n",
    "\n",
    "__Integration Test__\n",
    "\n",
    "97.5th Percentile Point Test to determine if 95% of the area under the normal distribution lies within 1.96 standard deviations away from the mean."
   ]
  },
  {
   "cell_type": "markdown",
   "id": "ae3aa669",
   "metadata": {},
   "source": [
    "### Analytical Tests Performed"
   ]
  },
  {
   "cell_type": "markdown",
   "id": "cea878d4",
   "metadata": {},
   "source": [
    "### Shapiro-Wilk Test\n",
    "\n",
    "https://docs.scipy.org/doc/scipy/reference/generated/scipy.stats.shapiro.html#shapiro\n",
    "\n",
    "https://en.wikipedia.org/wiki/Shapiro%E2%80%93Wilk_test"
   ]
  },
  {
   "cell_type": "markdown",
   "id": "695399bb",
   "metadata": {},
   "source": [
    "According to [Wikipedia](https://en.wikipedia.org/wiki/Shapiro%E2%80%93Wilk_test) The Shapiro-Wilk test is a statistical test used to assess the normality of a dataset. It tests the null hypothesis that the data was drawn from a normal distribution. The test calculates a test statistic (W) and a p-value, where a W value close to 1 indicates that the data is likely normally distributed. A small p-value (typically less than 0.05) suggests that the data significantly deviates from a normal distribution. This test is particularly useful for small to moderate sample sizes and is commonly used in various fields to validate the assumption of normality before applying parametric tests.  [docs.scipy.org](https://docs.scipy.org/doc/scipy/reference/generated/scipy.stats.shapiro.html) states that once we determine the sample is normally distributed, we can use the Shapiro-Wilk test to confirm it."
   ]
  },
  {
   "cell_type": "markdown",
   "id": "11cadcec",
   "metadata": {},
   "source": [
    "### Shapiro-Wilk Test (Sample Size 100000)"
   ]
  },
  {
   "cell_type": "code",
   "execution_count": 29,
   "id": "252ebfc2",
   "metadata": {},
   "outputs": [
    {
     "name": "stdout",
     "output_type": "stream",
     "text": [
      "Shapiro-Wilk Test: Stat=0.9999871119193435, p-value=0.9955031124635085\n"
     ]
    },
    {
     "name": "stderr",
     "output_type": "stream",
     "text": [
      "c:\\Users\\eCron\\anaconda3\\Lib\\site-packages\\scipy\\stats\\_axis_nan_policy.py:531: UserWarning: scipy.stats.shapiro: For N > 5000, computed p-value may not be accurate. Current N is 100000.\n",
      "  res = hypotest_fun_out(*samples, **kwds)\n"
     ]
    }
   ],
   "source": [
    "# Perform the Shapiro-Wilk test for normality\n",
    "stat, p_value = shapiro(sample[:100000])  # Shapiro test is sensitive to sample sizes > 5000.  For N > 5000 the W test statistic is accurate, but the p-value may not be\n",
    "print(f\"Shapiro-Wilk Test: Stat={stat}, p-value={p_value}\")\n",
    "\n"
   ]
  },
  {
   "cell_type": "markdown",
   "id": "397914c8",
   "metadata": {},
   "source": [
    "### Addressing the Error in Shapiro-Wilk Test\n",
    "\n",
    "The initial hapiro-Wilk test for normality had a sample size of 100,000 which caused a warning 'For N > 5000, computed p-value may not be accurate'.  From internet searches the following   \n",
    "\n",
    "Three options were avilable to this warning:\n",
    "\n",
    "- __Understanding the Warning:__ According to [library.fiveable.me](https://library.fiveable.me/key-terms/biostatistics/shapiro-wilk-test) The warning indicates that for sample sizes greater than 5000, the computed p-value may not be accurate. This is because the Shapiro-Wilk test is designed for smaller sample sizes.\n",
    "\n",
    "- __Alternative Approaches__ According to [The Stats Geek}(https://thestatsgeek.com/2013/09/28/the-t-test-and-robustness-to-non-normality/) For large sample sizes, consider using other normality tests that are more suitable for large datasets, such as the Anderson-Darling test or the Kolmogorov-Smirnov test.\n",
    "\n",
    "- __Code Adjustment:__ According to [Statology.org](https://www.statology.org/shapiro-wilk-test-r/) If you still want to use the Shapiro-Wilk test, you can reduce the sample size to below 5000 to ensure the accuracy of the p-value.\n",
    "\n",
    "__Solutions adopted:__  The Kolmogorov-Smirnov test was performed in addition to this test as it allows for a largr data set.  The code was also adjusted to a sample size of 5000 to ensure accuracy of the p-value."
   ]
  },
  {
   "cell_type": "markdown",
   "id": "d06eafb8",
   "metadata": {},
   "source": [
    "### Shapiro-Wilk Test (Sample Size 5000)"
   ]
  },
  {
   "cell_type": "code",
   "execution_count": 30,
   "id": "a5af673e",
   "metadata": {},
   "outputs": [
    {
     "name": "stdout",
     "output_type": "stream",
     "text": [
      "Shapiro-Wilk Test: Stat=0.9996506750165498, p-value=0.5573516993233274\n"
     ]
    }
   ],
   "source": [
    "# Perform the Shapiro-Wilk test for normality\n",
    "stat, p_value = shapiro(sample[:5000])  # Shapiro test is sensitive to sample sizes > 5000.  For N > 5000 the W test statistic is accurate, but the p-value may not be\n",
    "print(f\"Shapiro-Wilk Test: Stat={stat}, p-value={p_value}\")"
   ]
  },
  {
   "cell_type": "markdown",
   "id": "5e66dbe9",
   "metadata": {},
   "source": [
    "### Results of Shapiro-Wilk Tests"
   ]
  },
  {
   "cell_type": "markdown",
   "id": "9bd6b290",
   "metadata": {},
   "source": [
    "The result of the two Shapiro-Wilk tests provides two key pieces of information: the test statistic and the p-value.\n",
    "\n",
    "https://www.statology.org/shapiro-wilk-test-r/\n",
    "\n",
    "Test Statistic for sample size 100000 is 0.9999839874974682 and for sample size 5000 is 0.999609080222308: Both values are very close to 1, which indicates that the sample data is very similar to a normal distribution. The closer the test statistic is to 1, the more likely it is that the data follows a normal distribution.\n",
    "\n",
    "p-value for sample size 100000 is 0.4731862517551135 and for sample size 5000 is 0.44001705249674594.  As previously stated the more accurate p-value is for sample sizes of 5000.\n",
    "\n",
    "__Impact of Sample Size:__ The p-value for the larger sample size (100,000) is slightly higher than that for the smaller sample size (5,000). This difference is expected because the Shapiro-Wilk test is sensitive to large sample sizes, and the accuracy of the p-value may decrease as the sample size increases.\n",
    "\n",
    "__Consistency:__ Despite the difference in sample sizes, both p-values are above the common significance level of 0.05, indicating that the data is likely to be normally distributed in both cases.\n"
   ]
  },
  {
   "cell_type": "markdown",
   "id": "10b3dd51",
   "metadata": {},
   "source": [
    "### Kolmogorov-Smirnov Test\n",
    "\n",
    "- https://en.wikipedia.org/wiki/Kolmogorov%E2%80%93Smirnov_test\n",
    "- https://www.statisticshowto.com/kolmogorov-smirnov-test/\n",
    "\n",
    "\n",
    "The Kolmogorov-Smirnov (K-S) test is a nonparametric test used to determine the goodness of fit of two distributions. It can be applied as a one-sample test to compare a sample with a reference distribution or as a two-sample test to compare two samples. The test measures the maximum distance between the empirical cumulative distribution functions (CDFs) of the sample(s) and the reference distribution or between the two samples. A larger test statistic indicates a greater difference between the distributions. The p-value indicates the probability that the observed data could have occurred under the null hypothesis, with a small p-value suggesting significant differences between the distributions."
   ]
  },
  {
   "cell_type": "code",
   "execution_count": 31,
   "id": "1e85d61d",
   "metadata": {},
   "outputs": [
    {
     "name": "stdout",
     "output_type": "stream",
     "text": [
      "Kolmogorov-Smirnov Test: Stat=0.002349312465911524, p-value=0.6382120000562594\n"
     ]
    }
   ],
   "source": [
    "mean = 10.0\n",
    "std_dev = 3.0\n",
    "sample_size = 100000\n",
    "sample = np.random.normal(mean, std_dev, sample_size)\n",
    "\n",
    "# Perform Kolmogorov-Smirnov test for normality\n",
    "stat, p_value = kstest(sample, 'norm', args=(mean, std_dev))\n",
    "print(f\"Kolmogorov-Smirnov Test: Stat={stat}, p-value={p_value}\")\n"
   ]
  },
  {
   "cell_type": "markdown",
   "id": "edef42d3",
   "metadata": {},
   "source": [
    "### Result of Kilmogorov-Smirnov Test"
   ]
  },
  {
   "cell_type": "markdown",
   "id": "0c1077ad",
   "metadata": {},
   "source": [
    "The output of the Kolmogorov-Smirnov (KS) test provides two key pieces of information: the test statistic and the p-value.\n",
    "\n",
    "Test Statistic (Stat=0.0020569702698385872): This value measures the maximum difference between the empirical distribution function of the sample and the cumulative distribution function of the reference distribution. A smaller test statistic indicates that the sample distribution is very close to the normal distribution.\n",
    "\n",
    "p-value (p-value=0.790466950842835): The p-value indicates the probability of observing the test results under the null hypothesis, which in this case is that the sample comes from the specified normal distribution. A p-value greater than 0.05 suggests that there is no significant evidence to reject the null hypothesis. In this case, the p-value is 0.790466950842835, which is much greater than 0.05. This indicates that the sample data likely comes from the specified normal distribution."
   ]
  },
  {
   "cell_type": "markdown",
   "id": "2f6d84e3",
   "metadata": {},
   "source": [
    "## Graphical Tests"
   ]
  },
  {
   "cell_type": "markdown",
   "id": "1d4c64f2",
   "metadata": {},
   "source": [
    "### QQPLOT Test\n",
    "\n",
    "A Q-Q (Quantile-Quantile) plot tests whether a dataset follows a specified distribution, typically a normal distribution.\n",
    "\n",
    "\n",
    "https://www.statsmodels.org/stable/generated/statsmodels.graphics.gofplots.qqplot.html"
   ]
  },
  {
   "cell_type": "code",
   "execution_count": 32,
   "id": "574acd5b",
   "metadata": {},
   "outputs": [
    {
     "data": {
      "image/png": "[encoded data removed]",
      "text/plain": [
       "<Figure size 640x480 with 1 Axes>"
      ]
     },
     "metadata": {},
     "output_type": "display_data"
    }
   ],
   "source": [
    "# Create an empty plot \n",
    "fig, ax = plt.subplots() \n",
    "\n",
    "# Create a Q-Q plot \n",
    "stats.probplot(sample, dist='norm', plot=ax) \n",
    "\n",
    "# Save the plot as an image in the 'images' directory \n",
    "plt.savefig('images/qq_plot.png', bbox_inches='tight', pad_inches=0) \n",
    "\n",
    "# Show the plot (optional) \n",
    "plt.show()"
   ]
  },
  {
   "cell_type": "markdown",
   "id": "85db58b1",
   "metadata": {},
   "source": [
    "__Here's what the plot tells us:__\n",
    "\n",
    "**Q-Q Plot Creation:**\n",
    "\n",
    "The stats.probplot function creates the Q-Q plot by comparing the quantiles of the sample data (sample) to the quantiles of a normal distribution (dist='norm').\n",
    "\n",
    "**Visual Assessment:**\n",
    "\n",
    "In the Q-Q plot, if the sample data follows a normal distribution, the points will lie approximately along the reference line (a straight diagonal line). Deviations from this line indicate departures from normality.\n",
    "\n",
    "**Interpretation:**\n",
    "\n",
    "The points closely follow the reference line, so it suggests that the sample data is normally distributed.\n",
    "\n",
    "The points does not deviate significantly from the line, if they did, it would indicates that the sample data does not follow a normal distribution."
   ]
  },
  {
   "cell_type": "markdown",
   "id": "958ee39b",
   "metadata": {},
   "source": [
    "## Integration Test"
   ]
  },
  {
   "cell_type": "markdown",
   "id": "27b27dc7",
   "metadata": {},
   "source": [
    "### 97.5th Projectile Point Test\n",
    "\n",
    "https://en.wikipedia.org/wiki/97.5th_percentile_point\n",
    "\n",
    "https://acutecaretesting.org/en/articles/reference-intervals-and-percentiles-implications-for-the-healthy-patient\n",
    "\n",
    "The 97.5th percentile point is crucial in statistics, particularly in the context of normal distributions and confidence intervals. Here’s why it’s important:\n",
    "\n",
    "__Confidence Intervals:__\n",
    "\n",
    "The 97.5th percentile point is used to construct 95% confidence intervals. In a normal distribution, 95% of the data lies within approximately 1.96 standard deviations from the mean. This means that the 2.5th percentile and the 97.5th percentile mark the boundaries of this interval. These intervals are widely used in scientific research to estimate the range within which a population parameter lies with a certain level of confidence.\n",
    "\n",
    "__Hypothesis Testing:__\n",
    "\n",
    "In hypothesis testing, the 97.5th percentile point is used to determine critical values for two-tailed tests. For example, if you are testing a hypothesis at a 5% significance level, you would reject the null hypothesis if your test statistic falls in the top 2.5% or bottom 2.5% of the distribution. This helps in making decisions about the validity of the null hypothesis.\n",
    "\n",
    "__Statistical Significance:__\n",
    "\n",
    "The 97.5th percentile point helps in identifying statistically significant results. If a test statistic exceeds this point, it indicates that the observed effect is unlikely to have occurred by chance, thus providing evidence against the null hypothesis.\n",
    "\n",
    "__Medical and Scientific Research:__\n",
    "\n",
    "In medical and scientific research, the 97.5th percentile is often used to define reference ranges for clinical measurements. For instance, if a patient's test result falls outside the 2.5th to 97.5th percentile range, it may indicate an abnormal condition.\n",
    "\n",
    "__In summary__, the 97.5th percentile point is a key concept in statistics for constructing confidence intervals, conducting hypothesis tests, determining statistical significance, and defining reference ranges in research.\n",
    "\n"
   ]
  },
  {
   "cell_type": "code",
   "execution_count": 33,
   "id": "0aee0700",
   "metadata": {},
   "outputs": [
    {
     "data": {
      "image/png": "[encoded data removed]",
      "text/plain": [
       "<Figure size 640x480 with 1 Axes>"
      ]
     },
     "metadata": {},
     "output_type": "display_data"
    }
   ],
   "source": [
    "# Generate a sample of 100,000 values with a mean of 10.0 and a standard deviation of 3.0\n",
    "mean = 10.0\n",
    "std_dev = 3.0\n",
    "sample_size = 100000\n",
    "sample = np.random.normal(mean, std_dev, sample_size)\n",
    "\n",
    "# Create a blank plot\n",
    "fig, ax = plt.subplots()\n",
    "\n",
    "# X values\n",
    "x = np.linspace(mean - 4*std_dev, mean + 4*std_dev, 100000)\n",
    "\n",
    "# Plot the normal distribution\n",
    "plt.plot(x, stats.norm.pdf(x, mean, std_dev))\n",
    "\n",
    "# Shade in the 97.5th percentile\n",
    "plt.fill_between(x, stats.norm.pdf(x, mean, std_dev), where=(x < mean - 1.96*std_dev) | (x > mean + 1.96*std_dev), color='red', alpha=0.7)\n",
    "\n",
    "# Add titles and labels\n",
    "plt.title('Normal Distribution with 97.5th Percentile')\n",
    "plt.xlabel('X values')\n",
    "plt.ylabel('Probability Density')\n",
    "\n",
    "# Save the plot as an image in the 'images' directory\n",
    "plt.savefig('images/normal_distribution_97.5th_percentile.png', bbox_inches='tight', pad_inches=0)\n",
    "\n",
    "# Show the plot\n",
    "plt.show()\n"
   ]
  },
  {
   "cell_type": "markdown",
   "id": "e0e86718",
   "metadata": {},
   "source": [
    "The output of running the code provided was a plot of a normal distribution with a mean of 10.0 and a standard deviation of 3.0. The plot included the following features:\n",
    "\n",
    "__Normal Distribution Curve:__\n",
    "\n",
    "The plot shows the probability density function (PDF) of the normal distribution. The curve is bell-shaped, centered around the mean (10.0), and spreads out according to the standard deviation (3.0).\n",
    "\n",
    "__Shaded Area:__\n",
    "\n",
    "The shaded areas represent the 97.5th percentile of the distribution. Specifically, it highlights the regions beyond 1.96 standard deviations from the mean on both sides. This corresponds to the tails of the distribution, where the probability of observing values is very low.\n",
    "\n",
    "__My Interpretation:__\n",
    "\n",
    "The shaded regions indicate the extreme values that fall outside the central 95% of the distribution. In a normal distribution, approximately 95% of the data lies within 1.96 standard deviations from the mean, while the remaining 5% is split between the two tails (2.5% in each tail).\n",
    "\n",
    "The test results, including the Shapiro-Wilk test, the Kolmogorov-Smirnov test and the QQ-Plot, suggest that the sample data is normally distributed."
   ]
  },
  {
   "cell_type": "markdown",
   "id": "555cc7bf",
   "metadata": {},
   "source": [
    "## Step Five: Overlay Histogram with Probability Density Function"
   ]
  },
  {
   "cell_type": "markdown",
   "id": "791119fe",
   "metadata": {},
   "source": [
    "Overlaying the histogram with the probability density function (PDF) of a normal distribution with the same mean and standard deviation is important for several reasons:\n",
    "\n",
    "__Visual Comparison:__\n",
    "\n",
    "According to [the normal pdf](https://courses.washington.edu/psy524a/_book/the-normal-pdf.html), it allows you to visually compare the sample data distribution to the theoretical normal distribution. This helps in assessing how closely the sample data follows the expected normal distribution.\n",
    "\n",
    "__Identify Deviations:__\n",
    "\n",
    "[real statistics](https://real-statistics.com/tests-normality-and-symmetry/histogram-with-normal-curve-overlay/) states by overlaying the PDF, you can easily spot any deviations or anomalies in the sample data. If the histogram closely follows the PDF curve, it suggests that the sample data is normally distributed. Significant deviations might indicate that the data does not follow a normal distribution.\n",
    "\n",
    "__Understand Data Spread:__\n",
    "\n",
    "[SAS Blogs](https://blogs.sas.com/content/iml/2013/04/24/overlay-density-curve-on-a-histogram.html) states the PDF provides a clear representation of the mean and standard deviation, showing how the data is spread around the mean. This helps in understanding the central tendency and variability of the data.\n",
    "\n",
    "__Enhanced Interpretation:__\n",
    "\n",
    "[Statistics By Jim](https://statisticsbyjim.com/basics/assessing-normality-histograms-probability-plots/) states overlaying the PDF enhances the interpretation of the histogram by providing a reference distribution. This makes it easier to explain and understand the characteristics of the sample data in relation to the normal distribution.\n",
    "\n",
    "__Statistical Analysis:__\n",
    "\n",
    "[ChartExpo](https://chartexpo.com/blog/histogram) discusses statistical analyses and states for many statistical analyses, assuming normality is crucial. Overlaying the PDF helps in verifying this assumption visually before proceeding with further statistical tests.\n",
    "\n",
    "Overlaying the histogram with the PDF of a normal distribution is completed as it provides a comprehensive visual tool to assess the normality of the sample data, identify deviations, and understand the data's spread and central tendency."
   ]
  },
  {
   "cell_type": "markdown",
   "id": "f3b7ea73",
   "metadata": {},
   "source": [
    "https://matplotlib.org/stable/api/_as_gen/matplotlib.pyplot.hist.html#matplotlib-pyplot-hist\n",
    "\n",
    "https://numpy.org/doc/stable/reference/generated/numpy.histogram.html#numpy-histogram"
   ]
  },
  {
   "cell_type": "markdown",
   "id": "9af76f4e",
   "metadata": {},
   "source": [
    "### Plot histogram of the sample"
   ]
  },
  {
   "cell_type": "code",
   "execution_count": 34,
   "id": "9c275412",
   "metadata": {},
   "outputs": [
    {
     "data": {
      "image/png": "[encoded data removed]",
      "text/plain": [
       "<Figure size 640x480 with 1 Axes>"
      ]
     },
     "metadata": {},
     "output_type": "display_data"
    }
   ],
   "source": [
    "# Plot histogram of the sample\n",
    "plt.hist(sample, bins=50, edgecolor='black', density=True, alpha=0.8, color='g')\n",
    "\n",
    "# Plot the corresponding normal distribution\n",
    "xmin, xmax = plt.xlim()\n",
    "x = np.linspace(xmin, xmax, 100)\n",
    "p = norm.pdf(x, mean, std_dev)\n",
    "plt.plot(x, p, 'k', linewidth=2)\n",
    "title = f\"Fit results: mean = {mean}, std = {std_dev}\"\n",
    "plt.title(title)\n",
    "\n",
    "plt.show()"
   ]
  },
  {
   "cell_type": "markdown",
   "id": "ea2b9b8e",
   "metadata": {},
   "source": [
    "## Step six: Analyze Results:\n",
    "\n",
    "__Visual Analysis__\n",
    "The histogram shows a roughly bell-shaped curve, indicating that the data can be assumed to be normally distributed.\n",
    "\n",
    "__Analytical Tests__\n",
    "We performed the Shapiro-Wilk Test and the Kolmogorov-Smirnov Test. The Shapiro-Wilk Test was performed twice with different sample sizes to address test warnings. According [Statology.org](https://www.statology.org/shapiro-wilk-test-r/) the p-value of the smaller sample was more accurate.  All tests returned p-values greater than 0.05, suggesting that the sample likely comes from a normal distribution. However, larger sample sizes can affect p-values and potentially lead to incorrect null hypothesis conclusions. Therefore, graphical tests are also performed in conjunction with these analytical tests.\n",
    "\n",
    "__Graphical Tests__\n",
    "To handle the large sample size of 100,000, we used a QQ-Plot. The QQ-Plot indicated that nearly all points, except for the beginning and the end, lie on the line, further supporting the normality of the data.\n",
    "\n",
    "__97.5th Percentile Point Test__\n",
    "We performed an integration test to determine if the data plotted was within the 95% interval. The shaded area represented the 2.5% of the distribution that lies outside the 97.5th percentile. This means that 95% of the area under the normal distribution was within approximately 1.96 standard deviations away from the mean, providing strong evidence that the data is normally distributed.\n",
    "\n",
    "__Overlay Histogram with Probability Density Function__ The histogram showed that the curve of the normal distribution roughly corresponds to the data's distribution. \n",
    "\n",
    "__Conclusion__\n",
    "Based on the results of the visual, analytical, and graphical tests, we can conclude that the sample is likely normally distributed."
   ]
  },
  {
   "cell_type": "markdown",
   "id": "10c4e8fe",
   "metadata": {},
   "source": [
    "**Note**"
   ]
  },
  {
   "cell_type": "markdown",
   "id": "afbe3c77",
   "metadata": {},
   "source": [
    "This notebook was created with the help of GitHub Copilot.\n",
    "\n",
    "This task verified and visualised normal distributions using Python"
   ]
  },
  {
   "cell_type": "markdown",
   "id": "8ed52fa4",
   "metadata": {},
   "source": [
    "### End ###"
   ]
  },
  {
   "cell_type": "markdown",
   "id": "e6a1c90d",
   "metadata": {},
   "source": [
    "_____"
   ]
  },
  {
   "cell_type": "markdown",
   "id": "a961917b",
   "metadata": {},
   "source": [
    "# Task 3 t-Test Calculation"
   ]
  },
  {
   "cell_type": "markdown",
   "id": "8389120a",
   "metadata": {},
   "source": [
    "### Objective\n",
    "\n",
    "This task involves analyzing a dataset containing resting heart rates for patients before and after a two-week exercise program. The dataset is as follows:\n",
    "\n",
    "| Patient ID | 0  | 1  | 2  | 3  | 4  | 5  | 6  | 7  | 8  | 9  |\n",
    "|------------|----|----|----|----|----|----|----|----|----|----|\n",
    "| Before     | 63 | 68 | 70 | 64 | 74 | 67 | 70 | 57 | 66 | 65 |\n",
    "| After      | 64 | 64 | 68 | 64 | 73 | 70 | 72 | 54 | 61 | 63 |\n",
    "\n",
    "\n",
    "Calculate the t-statistic based on this data set, using Python. Compare it to the value given by scipy.stats. Explain your work and list any sources used.\n",
    "\n",
    "_____\n"
   ]
  },
  {
   "cell_type": "markdown",
   "id": "c332c6bf",
   "metadata": {},
   "source": [
    "## The steps to complete this task are:\n",
    "\n",
    "### 1. Calculate the Differences:\n",
    "\n",
    "- Compute the differences between the \"Before\" and \"After\" values for each patient.\n",
    "\n",
    "### 2. Compute Mean and Standard Deviation:\n",
    "\n",
    "- Calculate the mean and standard deviation of the differences.\n",
    "\n",
    "### 3. Use the formula for the t-statistic:\n",
    "\n",
    "$$ t = \\frac{\\bar{d}}{s_d / \\sqrt{n}} $$\n",
    "\n",
    "where:\n",
    "\n",
    "- $\\bar{d}$ is the mean of the differences,\n",
    "\n",
    "- $s_d$ is the standard deviation of the differences,\n",
    "\n",
    "- $n$ is the number of observations.\n",
    "\n",
    "### 4. Verify with scipy.stats:\n",
    "\n",
    "- Use scipy.stats to verify the calculated t-statistic.\n",
    "\n",
    "### 5. Explain and Document:\n",
    "\n",
    "- Explain the calculations and compare the results. List any sources used.\n",
    "\n",
    "\n",
    "By following these steps, we will determine the effectiveness of the exercise program on resting heart rates and validate our calculations using Python's statistical tools.\n",
    "\n",
    "### The code for this task was generated with the help of an AI tool, and subsequently reviewed and verified for accuracy and functionality."
   ]
  },
  {
   "cell_type": "markdown",
   "id": "8cc5cf64",
   "metadata": {},
   "source": [
    "## Importing Relevant Libraries for Completion of Task Three"
   ]
  },
  {
   "cell_type": "code",
   "execution_count": 35,
   "id": "348d601b",
   "metadata": {},
   "outputs": [],
   "source": [
    "# Importing relevant Libraries for Completion of Task Three\n",
    "\n",
    "# Numerical structures and operations.  This tool is essential for numerical computing. \n",
    "# It supports arrays, matrices, and functions for high-level mathematical operations\n",
    "# https://numpy.org/doc/stable/reference/index.html#reference\n",
    "import numpy as np \n",
    "\n",
    "# The stats function comes under the statistical tests grouping in the scipy.stats module.\n",
    "# This tool is essential for testing the normality of a dataset. It's particularly useful in determining whether a sample comes from a normally distributed population.\n",
    "# The stats function performs a range of statistical tests, including the Shapiro-Wilk test for normality, the Kolmogorov-Smirnov test for normality, and many others.\n",
    "# https://docs.scipy.org/doc/scipy/reference/stats.html\n",
    "from scipy.stats import stats\n",
    "\n",
    "# Plotting.  This is a 2D plotting library that is a great tool for plotting graohs and visualisation of data.\n",
    "# https://matplotlib.org/stable/contents.html\n",
    "import matplotlib.pyplot as plt\n",
    "\n",
    "# The code from scipy.stats import ttest_rel is necessary for performing a paired t-test, which is a statistical test used to compare the means of two related groups\n",
    "# https://docs.scipy.org/doc/scipy/reference/generated/scipy.stats.ttest_rel.html\n",
    "from scipy.stats import ttest_rel"
   ]
  },
  {
   "cell_type": "markdown",
   "id": "c0e1ccdd",
   "metadata": {},
   "source": [
    "### Data Preparation\n",
    "\n",
    "We will use the numpy.array function to create arrays for the \"Before\" and \"After\" heart rates of the patients\n",
    "\n",
    "https://numpy.org/doc/stable/reference/generated/numpy.array.html\n",
    "\n"
   ]
  },
  {
   "cell_type": "code",
   "execution_count": 36,
   "id": "64dad936",
   "metadata": {},
   "outputs": [],
   "source": [
    "# Data Preparation\n",
    "# https://numpy.org/doc/stable/reference/generated/numpy.array.html\n",
    "before = np.array([63, 68, 70, 64, 74, 67, 70, 57, 66, 65])\n",
    "after = np.array([64, 64, 68, 64, 73, 70, 72, 54, 61, 63])\n"
   ]
  },
  {
   "cell_type": "markdown",
   "id": "101cbe3b",
   "metadata": {},
   "source": [
    "## Step One: Calculate Differences\n",
    "\n",
    "We will calculate the differences between the \"Before\" and \"After\" values for each patient using the numpy.subtract function. The result will be stored in the differences array.\n",
    "\n",
    "https://numpy.org/doc/stable/reference/generated/numpy.subtract.html"
   ]
  },
  {
   "cell_type": "code",
   "execution_count": 37,
   "id": "5be3b2b5",
   "metadata": {},
   "outputs": [],
   "source": [
    "# Calculate the differences\n",
    "# https://numpy.org/doc/stable/reference/generated/numpy.subtract.html\n",
    "# This code calculates the difference between the heart rates before and after the exercise program for each patient. The result is stored in the differences array.\n",
    "differences = before - after"
   ]
  },
  {
   "cell_type": "markdown",
   "id": "12a6ae47",
   "metadata": {},
   "source": [
    "## Step Two: Compute the mean and standard deviation of the differences\n",
    "\n",
    "In this step, we will calculate the mean and standard deviation of the differences between the heart rates before and after the exercise program. These calculations are essential for understanding the central tendency and variability of the differences, which will help us in further statistical analysis.\n",
    "\n",
    "__Mean of the Differences:__\n",
    "\n",
    "The mean (average) of the differences is calculated using the numpy.mean function. This value represents the central tendency of the differences, giving us an idea of the average change in heart rates due to the exercise program.\n",
    "\n",
    "__Standard Deviation of the Differences:__\n",
    "\n",
    "The standard deviation of the differences is calculated using the numpy.std function with the parameter ddof=1 to compute the sample standard deviation. This value measures the spread or variability of the differences, indicating how much the differences vary from the mean\n",
    "\n",
    "https://numpy.org/doc/stable/reference/generated/numpy.mean.html\n",
    "https://numpy.org/doc/stable/reference/generated/numpy.std.html"
   ]
  },
  {
   "cell_type": "code",
   "execution_count": 38,
   "id": "6a4d5280",
   "metadata": {},
   "outputs": [],
   "source": [
    "# Compute the mean and standard deviation of the differences\n",
    "# https://numpy.org/doc/stable/reference/generated/numpy.mean.html\n",
    "# https://numpy.org/doc/stable/reference/generated/numpy.std.html\n",
    "\n",
    "mean_diff = np.mean(differences) # mean_diff: This calculates the mean (average) of the differences.\n",
    "std_diff = np.std(differences, ddof=1)  # std_diff: This calculates the standard deviation of the differences. The ddof=1 parameter is used to calculate the sample standard deviation.\n",
    "n = len(differences) # n: This stores the number of observations (patients)."
   ]
  },
  {
   "cell_type": "markdown",
   "id": "bd02f4da",
   "metadata": {},
   "source": [
    "## Step Three: Calculate the t-statistic\n",
    "\n",
    "In this step, we will calculate the t-statistic, which is a measure used in hypothesis testing to determine if there is a significant difference between the means of two groups. The t-statistic helps us understand whether the observed differences in heart rates before and after the exercise program are statistically significant.\n",
    "\n",
    "https://numpy.org/doc/stable/reference/generated/numpy.sqrt.html"
   ]
  },
  {
   "cell_type": "code",
   "execution_count": 39,
   "id": "f4dc2f01",
   "metadata": {},
   "outputs": [
    {
     "name": "stdout",
     "output_type": "stream",
     "text": [
      "Calculated t-statistic: 1.3372274824806283\n"
     ]
    }
   ],
   "source": [
    "# Calculate the t-statistic\n",
    "# https://numpy.org/doc/stable/reference/generated/numpy.sqrt.html\n",
    "# The code calculates the t-statistic by dividing the mean of the differences by the standard deviation of the differences, adjusted for the number of observations.\n",
    "t_statistic = mean_diff / (std_diff / np.sqrt(n)) \n",
    "print(f\"Calculated t-statistic: {t_statistic}\")"
   ]
  },
  {
   "cell_type": "markdown",
   "id": "105cd602",
   "metadata": {},
   "source": [
    "## Step Four: Use scipy.stats to verify the t-statistic\n",
    "\n",
    "In this step, we will use the scipy.stats module to verify the t-statistic. This verification ensures the accuracy of our calculations and provides a reliable method to cross-check our results."
   ]
  },
  {
   "cell_type": "code",
   "execution_count": 40,
   "id": "c259d926",
   "metadata": {},
   "outputs": [
    {
     "name": "stdout",
     "output_type": "stream",
     "text": [
      "scipy.stats t-statistic: 1.337227482480628, p-value: 0.21396011317404623\n"
     ]
    }
   ],
   "source": [
    "# Use scipy.stats to verify the t-statistic\n",
    "# https://docs.scipy.org/doc/scipy/reference/generated/scipy.stats.ttest_rel.html\n",
    "t_statistic_scipy, p_value = ttest_rel(before, after)\n",
    "print(f\"scipy.stats t-statistic: {t_statistic_scipy}, p-value: {p_value}\")\n",
    "\n"
   ]
  },
  {
   "cell_type": "markdown",
   "id": "ee90e144",
   "metadata": {},
   "source": [
    "## Step Five: Explain and Document"
   ]
  },
  {
   "cell_type": "markdown",
   "id": "9f1bd40b",
   "metadata": {},
   "source": [
    "### Initial Analysis of values\n",
    "\n",
    "__t-statistic:__ The t-statistic calculated using the scipy.stats.ttest_rel function is 1.3372274824806283. This value is essentially the same as our manually calculated t-statistic, confirming the accuracy of our manual calculation.\n",
    "\n",
    "A t-statistic of 1.337 suggests that the mean difference between the before and after heart rates is 1.337 standard deviations away from zero.\n",
    "\n",
    "__p-value:__ The p-value is 0.21396011317404623. The p-value measures the probability that the observed differences between the before and after heart rates occurred by chance. In this context, a p-value of approximately 0.214 indicates that there is a 21.4% chance that the differences observed are due to random variation rather than a true effect of the exercise program.\n",
    "\n",
    "A p-value of 0.214 is greater than the common significance level of 0.05, indicating that the observed differences are not statistically significant. This means we do not have enough evidence to reject the null hypothesis, which states that there is no difference in heart rates before and after the exercise program.\n",
    "\n",
    "__Summary:__ Both the manually calculated t-statistic and the one from scipy.stats are the same, and the p-value suggests that the changes in heart rates are not statistically significant.\n",
    "\n",
    "Further information on the paired t-test and its interpretation is available in [SciPy documentation](https://docs.scipy.org/doc/scipy/reference/generated/scipy.stats.ttest_rel.html) and [Statistics by Jim.](https://statisticsbyjim.com/hypothesis-testing/paired-t-test/)"
   ]
  },
  {
   "cell_type": "markdown",
   "id": "ba6d5180",
   "metadata": {},
   "source": [
    "### Further Analysis Utilising Charts\n",
    "\n",
    "In this section, we will visualize the dataset containing resting heart rates for patients before and after a two-week exercise program using various charts. Visualizing the data helps us understand the distribution and differences in heart rates more intuitively."
   ]
  },
  {
   "cell_type": "markdown",
   "id": "5f61609b",
   "metadata": {},
   "source": [
    "### Bar Chart\n",
    "\n",
    "We will start with a bar chart to compare the heart rates before and after the exercise program side by side. This chart will provide a clear visual representation of the changes in heart rates for each patient.\n",
    "\n",
    "Here's the code to create the bar chart:"
   ]
  },
  {
   "cell_type": "code",
   "execution_count": 41,
   "id": "f7fd9031",
   "metadata": {},
   "outputs": [
    {
     "data": {
      "image/png": "[encoded data removed]",
      "text/plain": [
       "<Figure size 640x480 with 1 Axes>"
      ]
     },
     "metadata": {},
     "output_type": "display_data"
    }
   ],
   "source": [
    "# Bar Chart Will Show Before And After Side By Side\n",
    "# https://matplotlib.org/stable/api/_as_gen/matplotlib.pyplot.bar.html\n",
    "x = np.arange(len(before))\n",
    "width = 0.35  # the width of the bars\n",
    "\n",
    "fig, ax = plt.subplots()\n",
    "bars_before = ax.bar(x - width/2, before, width, label='Before', color='blue', alpha=0.7)\n",
    "bars_after = ax.bar(x + width/2, after, width, label='After', color='green', alpha=0.7)\n",
    "\n",
    "# Add some text for labels, title and custom x-axis tick labels, etc.\n",
    "ax.set_xlabel('Patient ID')\n",
    "ax.set_ylabel('Heart Rate')\n",
    "ax.set_title('Heart Rates Before and After Exercise Program')\n",
    "ax.set_xticks(x)\n",
    "ax.set_xticklabels(range(len(before)))\n",
    "ax.legend()\n",
    "\n",
    "# Save the plot as an image in the 'images' directory\n",
    "plt.savefig('images/heart_rates_comparison.png', bbox_inches='tight', pad_inches=0)\n",
    "\n",
    "# Display the plot\n",
    "plt.show()\n"
   ]
  },
  {
   "cell_type": "markdown",
   "id": "e46e3156",
   "metadata": {},
   "source": [
    "### Line Plot\n",
    "\n",
    "The line plot adds a different perspective to the data visualization by connecting the data points with lines, which helps in identifying trends and patterns over time. While the bar chart provides a clear comparison of heart rates before and after the exercise program for each patient, the line plot allows us to see the progression and changes in heart rates more fluidly"
   ]
  },
  {
   "cell_type": "code",
   "execution_count": 42,
   "id": "646770e2",
   "metadata": {},
   "outputs": [
    {
     "data": {
      "image/png": "[encoded data removed]",
      "text/plain": [
       "<Figure size 640x480 with 1 Axes>"
      ]
     },
     "metadata": {},
     "output_type": "display_data"
    }
   ],
   "source": [
    "# Line Plot will display the before and after heart rates for each patient\n",
    "# https://matplotlib.org/stable/api/_as_gen/matplotlib.pyplot.plot.html\n",
    "\n",
    "# Create a Figure and Plot Data:\n",
    "plt.figure() \n",
    "\n",
    "# Create scatter plots \n",
    "plt.scatter(range(len(before)), before, color='blue', label='Before') \n",
    "plt.scatter(range(len(after)), after, color='green', label='After') \n",
    "\n",
    "# Set titles and labels \n",
    "plt.xlabel('Patient ID') \n",
    "plt.ylabel('Heart Rate') \n",
    "plt.title('Heart Rates Before and After Exercise Program') \n",
    "plt.legend() \n",
    "\n",
    "# Save the plot as an image in the 'images' directory \n",
    "plt.savefig('images/heart_rates_comparison_scatter_plot.png', bbox_inches='tight', pad_inches=0) \n",
    "\n",
    "# Show the plot \n",
    "plt.show()\n"
   ]
  },
  {
   "cell_type": "markdown",
   "id": "0fac8969",
   "metadata": {},
   "source": [
    "### Scatter Plot\n",
    "\n",
    "https://matplotlib.org/stable/api/_as_gen/matplotlib.pyplot.scatter.html\n",
    "\n",
    "A scatter plot adds several valuable insights to the analysis of heart rates before and after the exercise program:\n",
    "\n",
    "__Individual Data Points:__\n",
    "\n",
    "Unlike bar charts or line plots, scatter plots display individual data points, making it easier to see the distribution and density of the data.\n",
    "\n",
    "__Relationship Identification:__\n",
    "\n",
    "Scatter plots are excellent for identifying relationships or correlations between two variables. In this case, it helps us see if there is a positive, negative, or no correlation between the heart rates before and after the exercise program.\n",
    "\n",
    "__Outlier Detection:__\n",
    "\n",
    "Scatter plots help in spotting outliers or anomalies in the data. Outliers are data points that deviate significantly from the overall pattern, and identifying them can be crucial for data analysis.\n",
    "\n",
    "__Trend Visualization:__\n",
    "\n",
    "By adding a trend line (e.g., a regression line), scatter plots can help visualize the overall trend in the data, providing insights into the general direction of the relationship between variables.\n",
    "\n",
    "__Clustering:__\n",
    "\n",
    "Scatter plots can reveal clusters or groups within the data, indicating that certain subsets of data points share similar characteristics."
   ]
  },
  {
   "cell_type": "code",
   "execution_count": 43,
   "id": "f943d1e3",
   "metadata": {},
   "outputs": [
    {
     "data": {
      "image/png": "[encoded data removed]",
      "text/plain": [
       "<Figure size 640x480 with 1 Axes>"
      ]
     },
     "metadata": {},
     "output_type": "display_data"
    }
   ],
   "source": [
    "# Scatter Plot will display the before and after heart rates for each patient plotted against each other\n",
    "# https://matplotlib.org/stable/api/_as_gen/matplotlib.pyplot.scatter.html\n",
    "plt.figure()\n",
    "plt.scatter(range(len(before)), before, color='blue', label='Before')\n",
    "plt.scatter(range(len(after)), after, color='green', label='After')\n",
    "plt.xlabel('Patient ID')\n",
    "plt.ylabel('Heart Rate')\n",
    "plt.title('Heart Rates Before and After Exercise Program')\n",
    "plt.legend()\n",
    "plt.show()\n"
   ]
  },
  {
   "cell_type": "markdown",
   "id": "c6a6a83c",
   "metadata": {},
   "source": [
    "### Histogram\n",
    "\n",
    "https://matplotlib.org/stable/api/_as_gen/matplotlib.pyplot.hist.html\n",
    "\n",
    "A histogram adds several valuable insights to the analysis of heart rates before and after the exercise program:\n",
    "\n",
    "__Distribution Visualization:__\n",
    "\n",
    "A histogram provides a visual representation of the distribution of the data. It shows how the heart rates are spread across different intervals, helping us understand the frequency of various heart rate ranges.\n",
    "\n",
    "__Central Tendency and Spread:__\n",
    "\n",
    "By displaying the frequency of data points within specified intervals, a histogram helps us identify the central tendency (e.g., mean, median) and the spread (e.g., range, variance) of the heart rates.\n",
    "\n",
    "__Shape of the Distribution:__\n",
    "\n",
    "A histogram reveals the shape of the data distribution, whether it is normal (bell-shaped), skewed, bimodal, etc. This information is crucial for understanding the underlying characteristics of the data.\n",
    "\n",
    "__Comparison of Before and After:__\n",
    "\n",
    "By creating separate histograms for the \"Before\" and \"After\" heart rates, we can visually compare the distributions and observe any shifts or changes in the data due to the exercise program.\n",
    "\n"
   ]
  },
  {
   "cell_type": "code",
   "execution_count": 44,
   "id": "d58ab413",
   "metadata": {},
   "outputs": [
    {
     "data": {
      "image/png": "[encoded data removed]",
      "text/plain": [
       "<Figure size 1000x600 with 1 Axes>"
      ]
     },
     "metadata": {},
     "output_type": "display_data"
    }
   ],
   "source": [
    "# Histogram  will display the distribution of heart rates before and after the exercise program.\n",
    "plt.figure(figsize=(10, 6))\n",
    "\n",
    "# Histogram for 'before' data\n",
    "plt.hist(before, bins=10, color='blue', alpha=0.5, label='Before', edgecolor='black')\n",
    "\n",
    "# Histogram for 'after' data\n",
    "plt.hist(after, bins=10, color='green', alpha=0.5, label='After', edgecolor='black')\n",
    "\n",
    "# Add titles and labels\n",
    "plt.title('Histogram of Heart Rates Before and After Exercise Program')\n",
    "plt.xlabel('Heart Rate')\n",
    "plt.ylabel('Frequency')\n",
    "plt.legend()\n",
    "\n",
    "# Save the plot as an image in the 'images' directory \n",
    "plt.savefig('images/heart_rates_histogram.png', bbox_inches='tight', pad_inches=0)\n",
    "\n",
    "# Show the plot\n",
    "plt.show()\n"
   ]
  },
  {
   "cell_type": "markdown",
   "id": "f49fc7a3",
   "metadata": {},
   "source": [
    "### Box Plot\n",
    "\n",
    "https://matplotlib.org/stable/api/_as_gen/matplotlib.pyplot.boxplot.html\n",
    "\n",
    "A box plot adds several valuable insights to the analysis of heart rates before and after the exercise program:\n",
    "\n",
    "__Summary Statistics:__\n",
    "\n",
    "A box plot provides a visual summary of the data's central tendency and variability. It displays the median, quartiles, and potential outliers, giving a comprehensive overview of the data distribution.\n",
    "\n",
    "__Comparison of Distributions:__\n",
    "\n",
    "By creating separate box plots for the \"Before\" and \"After\" heart rates, we can visually compare the distributions and observe any shifts or changes in the data due to the exercise program.\n",
    "\n",
    "__Identification of Outliers:__\n",
    "\n",
    "Box plots highlight outliers, which are data points that fall significantly outside the interquartile range. Identifying outliers is crucial for understanding the data's variability and potential anomalies.\n",
    "\n",
    "__Understanding Spread and Skewness:__\n",
    "\n",
    "The length of the box and the whiskers in a box plot indicate the spread of the data. Additionally, the position of the median line within the box can reveal skewness in the data distribution.\n",
    "\n",
    "__Visualizing Range and Interquartile Range (IQR):__\n",
    "\n",
    "The box plot shows the range of the data (minimum to maximum) and the interquartile range (IQR), which is the range between the first quartile (Q1) and the third quartile (Q3). This helps in understanding the spread and concentration of the data"
   ]
  },
  {
   "cell_type": "code",
   "execution_count": 45,
   "id": "52e41ed2",
   "metadata": {},
   "outputs": [
    {
     "data": {
      "image/png": "[encoded data removed]",
      "text/plain": [
       "<Figure size 1000x600 with 1 Axes>"
      ]
     },
     "metadata": {},
     "output_type": "display_data"
    }
   ],
   "source": [
    "# Box Plot is useful as it shows the distribution of heart rates before and after the exercise program, as well as any outliers.\n",
    "plt.figure(figsize=(10, 6))\n",
    "plt.boxplot([before, after], labels=['Before', 'After'], patch_artist=True,\n",
    "            boxprops=dict(facecolor='lightblue', color='blue'),\n",
    "            medianprops=dict(color='red'))\n",
    "\n",
    "# Add titles and labels\n",
    "plt.title('Box Plot of Heart Rates Before and After Exercise Program')\n",
    "plt.xlabel('Condition')\n",
    "plt.ylabel('Heart Rate')\n",
    "\n",
    "# Save the Plot as an Image File in the images Directory\n",
    "plt.savefig('images/heart_rates_box_plot.png', bbox_inches='tight', pad_inches=0)\n",
    "\n",
    "# Show the plot\n",
    "plt.show()\n"
   ]
  },
  {
   "cell_type": "markdown",
   "id": "379bfc7e",
   "metadata": {},
   "source": [
    "## How the Charts Add to Our Initial Analysis\n",
    "\n",
    "### Bar Chart:\n",
    "\n",
    "Visual Comparison: The bar chart provides a side-by-side comparison of heart rates before and after the exercise program for each patient, making it easy to see individual changes.\n",
    "\n",
    "Clear Representation: It clearly shows the differences in heart rates, highlighting any significant changes or lack thereof.\n",
    "\n",
    "### Line Plot:\n",
    "\n",
    "Trend Visualization: The line plot connects the data points, making it easier to observe trends and patterns in the heart rates before and after the exercise program.\n",
    "\n",
    "Smooth Transitions: It provides a smooth transition between data points, helping to identify gradual changes or anomalies.\n",
    "\n",
    "### Scatter Plot:\n",
    "\n",
    "Relationship Identification: The scatter plot helps in identifying relationships or correlations between the heart rates before and after the exercise program.\n",
    "\n",
    "Outlier Detection: It highlights outliers or anomalies in the data, which can be crucial for further analysis.\n",
    "\n",
    "### Histogram:\n",
    "\n",
    "Distribution Visualization: The histogram shows the distribution of heart rates, helping us understand the frequency of various heart rate ranges.\n",
    "\n",
    "Shape of the Distribution: It reveals the shape of the data distribution, whether it is normal, skewed, or bimodal.\n",
    "\n",
    "## Box Plot:\n",
    "\n",
    "Summary Statistics: The box plot provides a visual summary of the data's central tendency and variability, displaying the median, quartiles, and potential outliers.\n",
    "\n",
    "Comparison of Distributions: It allows for a visual comparison of the distributions of heart rates before and after the exercise program, highlighting any shifts or changes.\n",
    "\n",
    "By using these various charts, we gained a comprehensive understanding of the data, allowing us to visualize the distribution, trends, and relationships in the heart rates before and after the exercise program. This enhanced our initial analysis and provided a deeper insights into the effectiveness of the exercise program.\n",
    "\n"
   ]
  },
  {
   "cell_type": "markdown",
   "id": "200c4eea",
   "metadata": {},
   "source": [
    "## Note"
   ]
  },
  {
   "cell_type": "markdown",
   "id": "e9e85875",
   "metadata": {},
   "source": [
    "This notebook was created with the help of GitHub Copilot.\n",
    "\n",
    "This task analysed a dataset containing resting heart rates for patients before and after embarking on a two-week exercise program.  A comparison was conducted on results."
   ]
  },
  {
   "cell_type": "markdown",
   "metadata": {},
   "source": [
    "___"
   ]
  },
  {
   "cell_type": "markdown",
   "id": "e2a869ab",
   "metadata": {},
   "source": [
    "# Task Four ANOVA\n"
   ]
  },
  {
   "cell_type": "markdown",
   "id": "0940317d",
   "metadata": {},
   "source": [
    "## Objective\n",
    "\n",
    "In this test we will estimate the probability of committing a type II error in specific circumstances. To begin, create a variable called no_type_ii and set it to 0.\n",
    "\n",
    "Now use a loop to perform the following test 10,000 times.\n",
    "\n",
    "Use numpy.random.normal to generate three samples with 100 values each. Give each a standard deviation of 0.1. Give the first sample a mean of 4.9, the second a mean of 5.0, and the third a mean of 5.1.\n",
    "\n",
    "Perform one-way anova on the three samples and add 1 to no_type_ii whenever a type II error occurs.\n",
    "\n",
    "Summarize and explain your results\n",
    "\n",
    " ____"
   ]
  },
  {
   "cell_type": "markdown",
   "id": "ccd9cede",
   "metadata": {},
   "source": [
    "## Assumptions\n",
    "\n",
    "According to [Laerd Statistics](https://statistics.laerd.com/spss-tutorials/one-way-anova-using-spss-statistics.php), When you choose to analyse your data using a one-way ANOVA, part of the process involves checking to make sure that the data you want to analyse can actually be analysed using a one-way ANOVA. You need to do this because it is only appropriate to use a one-way ANOVA if your data \"passes\" six assumptions that are required for a one-way ANOVA to give you a valid result.  The following outlines each assumption and states whether this test meets each assumption.\n",
    "\n",
    "__Assumption #1: Dependent Variable__\n",
    "\n",
    "Requirement: The dependent variable should be measured at the interval or ratio level (i.e., continuous).\n",
    "\n",
    "Our Test: The dependent variable in our test is the sample data generated using numpy.random.normal, which is continuous. Therefore, this assumption is met.\n",
    "\n",
    "__Assumption #2: Independent Variable__\n",
    "\n",
    "Requirement: The independent variable should consist of two or more categorical, independent groups.\n",
    "\n",
    "Our Test: The independent variable in your test consists of three groups with means of 4.9, 5.0, and 5.1. These groups are independent and categorical. Therefore, this assumption is met.\n",
    "\n",
    "__Assumption #3: Independence of Observations__\n",
    "\n",
    "Requirement: There should be no relationship between the observations in each group or between the groups themselves.\n",
    "\n",
    "Our Test: The samples are generated independently using numpy.random.normal, ensuring no relationship between observations in different groups. Therefore, this assumption is met.\n",
    "\n",
    "__Assumption #4: No Significant Outliers__\n",
    "\n",
    "Requirement: There should be no significant outliers that could affect the results.\n",
    "\n",
    "Our Test:: Since the data is generated using a normal distribution with a small standard deviation, significant outliers are unlikely. However, it is good practice to check for outliers in real-world data. For this test, we can assume this assumption is reasonably met.\n",
    "\n",
    "__Assumption #5: Normality__\n",
    "\n",
    "Requirement: The dependent variable should be approximately normally distributed for each category of the independent variable.\n",
    "\n",
    "Our Test: The samples are generated from a normal distribution using numpy.random.normal, so this assumption is met.\n",
    "\n",
    "__Assumption #6: Homogeneity of Variances__\n",
    "\n",
    "Requirement: There needs to be homogeneity of variances across the groups.\n",
    "\n",
    "Our Test: Given that the samples are generated with the same standard deviation (0.1), this assumption is met. However, in practice, you would use Levene's test to confirm this.  Instead we would use the Welch ANOVA test for this part."
   ]
  },
  {
   "cell_type": "markdown",
   "id": "0148c7bc",
   "metadata": {},
   "source": [
    "## Steps to complete task four\n",
    "\n",
    "In this test, we will estimate the probability of committing a type II error in specific circumstances.\n",
    "\n",
    "__Step One: Initialize Variables__\n",
    "\n",
    "- Create a variable called no_type_ii and set it to 0.\n",
    "\n",
    "- Setting no_type_ii to 0 ensures we have a counter to track the number of type II errors.\n",
    "\n",
    "__Step Two: Loop Execution:__\n",
    "\n",
    "- Use a loop to perform the following test 10,000 times.\n",
    "\n",
    "- Running the test 10,000 times provides a robust estimate of the probability of committing a type II error.\n",
    "\n",
    "__Step Three: Generate Samples__\n",
    "\n",
    "- Use numpy.random.normal to generate three samples with 100 values each.\n",
    "\n",
    "- numpy.random.normal allows us to create normally distributed samples with specified means and standard deviations.\n",
    "\n",
    "- Assign a standard deviation of 0.1 to each sample.\n",
    "\n",
    "- Set the means of the samples to 4.9, 5.0, and 5.1, respectively.\n",
    "\n",
    "__Step Four: Perform One-Way ANOVA__\n",
    "\n",
    "- Conduct a one-way ANOVA on the three samples.\n",
    "\n",
    "- Performing one-way ANOVA helps us determine if there are significant differences between the means of the samples.\n",
    "\n",
    "- Increment no_type_ii by 1 whenever a type II error occurs.\n",
    "\n",
    "__Step Five: Summarize Results__\n",
    "\n",
    "- Summarize and explain the results obtained from the test.\n",
    "\n",
    "- Summarizing the results helps in understanding the frequency and probability of type II errors in the given context.\n",
    "\n",
    "__Relevant Documentation to completing this task__\n",
    "\n",
    "**NumPy Documentation:** For generating random samples using numpy.random.normal.\n",
    "\n",
    "- [NumPy Random Normal](https://numpy.org/doc/stable/reference/random/generated/numpy.random.normal.html)\n",
    "\n",
    "**ANOVA Test:** For performing one-way ANOVA.\n",
    "\n",
    "- [SciPy ANOVA Documentation](https://docs.scipy.org/doc/scipy/reference/generated/scipy.stats.f_oneway.html)\n",
    "\n",
    "**Type II Error:** Understanding type II errors in hypothesis testing.\n",
    "\n",
    "- [Type II Error Explanation](https://en.wikipedia.org/wiki/Type_I_and_type_II_errors)\n",
    "\n",
    "### The code for this task was generated with the help of an AI tool, and subsequently reviewed and verified for accuracy and functionality."
   ]
  },
  {
   "cell_type": "markdown",
   "id": "5aa64e66",
   "metadata": {},
   "source": [
    "## Importing Relevant Libraries for Completion of Task Four"
   ]
  },
  {
   "cell_type": "code",
   "execution_count": 46,
   "id": "2b58a1e0",
   "metadata": {},
   "outputs": [],
   "source": [
    "# Numerical structures and operations.  This tool is essential for numerical computing. \n",
    "# It supports arrays, matrices, and functions for high-level mathematical operations\n",
    "# https://numpy.org/doc/stable/reference/index.html#reference\n",
    "import numpy as np\n",
    "\n",
    "# f_oneway is used to perform a one-way ANOVA test to compare the means of multiple groups \n",
    "# and determine if there are significant differences between them\n",
    "# https://docs.scipy.org/doc/scipy/reference/generated/scipy.stats.f_oneway.html\n",
    "from scipy.stats import f_oneway\n",
    "\n",
    "# Levene is used to perform Levene's test for homogeneity of variances, which tests the null hypothesis that all input samples are from populations with equal variances.\n",
    "# https://www.spss-tutorials.com/levenes-test-in-spss/\n",
    "from scipy.stats import levene\n",
    "\n"
   ]
  },
  {
   "cell_type": "markdown",
   "id": "89cbba48",
   "metadata": {},
   "source": [
    "## Levene's test\n",
    "\n",
    "\n",
    "According to [Laerd Statistics](https://statistics.laerd.com/spss-tutorials/one-way-anova-using-spss-statistics.php) to confirm the assumption of homogeneity of variances in our data, we should use Levene's test. Levene's test checks whether the variances across different groups are equal, which is a crucial assumption for performing a one-way ANOVA. If Levene's test indicates that the variances are not equal, we may need to use an alternative test, such as the Welch ANOVA, which does not assume equal variances."
   ]
  },
  {
   "cell_type": "code",
   "execution_count": 47,
   "id": "f118e10f",
   "metadata": {},
   "outputs": [
    {
     "name": "stdout",
     "output_type": "stream",
     "text": [
      "Levene's test statistic: 1.9209678240460903\n",
      "p-value: 0.1482805330220347\n",
      "Fail to reject the null hypothesis - variances are equal.\n"
     ]
    }
   ],
   "source": [
    "\n",
    "# Generate sample data\n",
    "sample1 = np.random.normal(4.9, 0.5, 100)\n",
    "sample2 = np.random.normal(5.0, 0.5, 100)\n",
    "sample3 = np.random.normal(5.1, 0.5, 100)\n",
    "\n",
    "# Perform Levene's test\n",
    "stat, p_value = levene(sample1, sample2, sample3, center='mean')\n",
    "\n",
    "# Print the results\n",
    "print(f\"Levene's test statistic: {stat}\")\n",
    "print(f\"p-value: {p_value}\")\n",
    "\n",
    "# Interpret the results\n",
    "if p_value > 0.05:\n",
    "    print(\"Fail to reject the null hypothesis - variances are equal.\")\n",
    "else:\n",
    "    print(\"Reject the null hypothesis - variances are not equal.\")\n"
   ]
  },
  {
   "cell_type": "markdown",
   "id": "2ead03bc",
   "metadata": {},
   "source": [
    "## Code to complete task four\n",
    "\n",
    " Standard Deviation of 0.1 assigned to each sample"
   ]
  },
  {
   "cell_type": "code",
   "execution_count": 48,
   "id": "9fcc4466",
   "metadata": {},
   "outputs": [
    {
     "name": "stdout",
     "output_type": "stream",
     "text": [
      "Number of type II errors: 0\n",
      "Probability of committing a type II error: 0.0\n"
     ]
    }
   ],
   "source": [
    "\n",
    "# Step One: Initialize Variables\n",
    "# This code sets up a variable called no_type_ii and initializes it to 0. \n",
    "# This variable will be used to keep track of the number of type II errors that occur during the test. \n",
    "# Each time a type II error is detected, this counter will be incremented by 1.\n",
    "# Initialize the variable to count type II errors\n",
    "no_type_ii = 0\n",
    "\n",
    "# Step Two: Loop Execution\n",
    "# Code to perform the test 10,000 times\n",
    "for _ in range(10000):\n",
    "\n",
    "# Step Three: Generate Samples\n",
    "# Code to generate three samples with 100 values each\n",
    "    sample1 = np.random.normal(4.9, 0.1, 100)\n",
    "    sample2 = np.random.normal(5.0, 0.1, 100)\n",
    "    sample3 = np.random.normal(5.1, 0.1, 100)\n",
    "    \n",
    "# Step Four: Perform One-Way ANOVA\n",
    "# Code to perform one-way ANOVA\n",
    "    stat, p_value = f_oneway(sample1, sample2, sample3)\n",
    "\n",
    "# Check for type II error (failing to reject the null hypothesis when it is false)\n",
    "    if p_value > 0.05:\n",
    "        no_type_ii += 1\n",
    "\n",
    "# Step Five: Summarize and explain the results \n",
    "print(f\"Number of type II errors: {no_type_ii}\") \n",
    "print(f\"Probability of committing a type II error: {no_type_ii / 10000}\")\n"
   ]
  },
  {
   "cell_type": "markdown",
   "id": "8e89e54b",
   "metadata": {},
   "source": [
    "### Summarize Results with Standard Deviation 0.1\n",
    "\n",
    "The results of the test indicate that there were no type II errors observed in the 10,000 iterations. This means that in every test, the one-way ANOVA correctly identified significant differences between the means of the three samples. Consequently, the probability of committing a type II error, which is the likelihood of failing to reject the null hypothesis when it is false, is 0.0. This outcome suggests that the test conditions (sample size, means, and standard deviation) were such that the differences between the groups were always detected as significant.\n",
    "\n",
    "In this case, the absence of type II errors indicates that the chosen parameters (means of 4.9, 5.0, and 5.1 with a standard deviation of 0.1) made it easy to detect differences between the groups, leading to a robust test performance.\n",
    "\n",
    "[Statistics LibreTexts](https://stats.libretexts.org/Courses/Rio_Hondo_College/Math_130%3A_Statistics/08%3A_Hypothesis_Testing_with_One_Sample/8.05%3A_Hypothesis_Test_on_a_Single_Standard_Deviation) states the role of standard deviation in hypothesis testing is crucial for understanding the variability in data and ensuring accurate results. In this test, the standard deviation of 0.1 was used to generate three samples with means of 4.9, 5.0, and 5.1. This small standard deviation made the differences between the sample means very clear, leading to no type II errors in the 10,000 iterations. The standard deviation has relevance in the following contexts;\n",
    "\n",
    "__Variability Measurement__\n",
    "\n",
    "The standard deviation measures the spread of data points around the mean. In this test, a small standard deviation of 0.1 meant that the data points were closely clustered around their respective means, making it easier to detect differences between the groups.\n",
    "\n",
    "__Hypothesis Testing__\n",
    "\n",
    "The hypothesis test on a single standard deviation helps determine if the observed variability in a sample is consistent with a specified population standard deviation. In this case, the small standard deviation ensured that the variability within each sample was low, leading to clear distinctions between the sample means.\n",
    "\n",
    "__Test Conditions__\n",
    "\n",
    "The chosen parameters (means of 4.9, 5.0, and 5.1 with a standard deviation of 0.1) created conditions where the differences between the groups were always detected as significant. This resulted in no type II errors, as the one-way ANOVA consistently identified significant differences between the means.\n",
    "\n",
    "__Robust Test Performance__\n",
    "\n",
    "The absence of type II errors indicates that the test was robust under the given conditions. The small standard deviation played a key role in this robustness by minimizing the overlap between the distributions of the samples, making it easier to detect significant differences.\n"
   ]
  },
  {
   "cell_type": "markdown",
   "id": "ce5ddd28",
   "metadata": {},
   "source": [
    "## Consideration of Higher Standard Deviations"
   ]
  },
  {
   "cell_type": "markdown",
   "id": "1210f75d",
   "metadata": {},
   "source": [
    "When performing a test, it is wise to consider different standard deviations to ensure the robustness and accuracy of our analysis.\n",
    "\n",
    "[Laerd Statistics](https://statistics.laerd.com/spss-tutorials/one-way-anova-using-spss-statistics.php) state 'when analyzing your data using a one-way ANOVA, it is crucial to check for homogeneity of variances. This can be done using Levene's test. If your data fails this assumption, you may need to use a different statistical test, such as the Welch ANOVA, which does not assume equal variances'.\n",
    "\n",
    "[Math is Fun](https://www.mathsisfun.com/data/standard-normal-distribution.html) state 'Standard deviation is a measure of the amount of variation or dispersion in a set of values. A low standard deviation indicates that the values tend to be close to the mean, while a high standard deviation indicates that the values are spread out over a wider range.\n",
    "\n",
    "[Statology](https://www.statology.org/how-to-compare-standard-deviations/) state 'Comparing standard deviations helps in understanding the variability in data. Different levels of variability can impact the results of statistical tests, making it important to consider appropriate standard deviations for accurate analysis.'\n",
    "\n",
    "[Bookdown](https://bookdown.org/kevin_davisross/probsim-book/normal-distributions.html) state 'Normal distributions and the role of standard deviation in statistical analysis are crucial for understanding data variability. Adjusting standard deviations can provide a more realistic measure of variability and help in making informed decisions.'\n",
    "\n",
    "Considering different standard deviations can lead to a better understanding of the variability in our data and ensure that our statistical tests are robust and accurate. This approach helps in identifying the conditions under which type II errors are more likely to occur and provides a balanced analysis.  On those basis, a one-way ANOVA test was performed with a standard deviation of 0.5."
   ]
  },
  {
   "cell_type": "markdown",
   "id": "a8cf2fbd",
   "metadata": {},
   "source": [
    " ## Performing one-way ANOVA Test with a Standard Deviation of 0.5"
   ]
  },
  {
   "cell_type": "code",
   "execution_count": 49,
   "id": "439c0958",
   "metadata": {},
   "outputs": [
    {
     "name": "stdout",
     "output_type": "stream",
     "text": [
      "Number of type II errors: 2877\n",
      "Probability of committing a type II error: 0.2877\n"
     ]
    }
   ],
   "source": [
    "# Initialize the variable to count type II errors\n",
    "no_type_ii = 0\n",
    "\n",
    "# Perform the test 10,000 times\n",
    "for _ in range(10000):\n",
    "    # Generate three samples with 100 values each\n",
    "    sample1 = np.random.normal(4.9, 0.5, 100)  # Increased standard deviation\n",
    "    sample2 = np.random.normal(5.0, 0.5, 100)\n",
    "    sample3 = np.random.normal(5.1, 0.5, 100)\n",
    "    \n",
    "    # Perform one-way ANOVA\n",
    "    stat, p_value = f_oneway(sample1, sample2, sample3)\n",
    "\n",
    "    # Check for type II error (failing to reject the null hypothesis when it is false)\n",
    "    if p_value > 0.05:\n",
    "        no_type_ii += 1\n",
    "\n",
    "# Summarize and explain the results \n",
    "print(f\"Number of type II errors: {no_type_ii}\") \n",
    "print(f\"Probability of committing a type II error: {no_type_ii / 10000}\")\n"
   ]
  },
  {
   "cell_type": "markdown",
   "id": "96d3b41e",
   "metadata": {},
   "source": [
    "## Interpretation of Results with Standard Deviation 0.5"
   ]
  },
  {
   "cell_type": "markdown",
   "id": "057e9bf2",
   "metadata": {},
   "source": [
    "### Number of Type II Errors: 2939\n",
    "\n",
    "This means that out of the 10,000 tests conducted, there were 2939 instances where the test failed to reject the null hypothesis when it was actually false. In other words, the test did not detect a significant difference between the groups in these cases, even though a difference existed.\n",
    "\n",
    "### Probability of Committing a Type II Error: 0.2939\n",
    "\n",
    "This probability is calculated by dividing the number of type II errors (2939) by the total number of tests (10,000). The result, 0.2939, indicates that there is approximately a 29.39% chance of committing a type II error under the given test conditions.\n",
    "\n",
    "According to [Statology](https://www.statology.org/how-to-compare-standard-deviations/) there is a need to carefully consider the standard deviation and other test conditions to balance the detection of true differences and the risk of type II errors.\n",
    "\n",
    "__High Variability Impact:__ The relatively high probability of type II errors suggests that the test conditions, including the standard deviation of 0.5, introduced enough variability to make it challenging to detect significant differences between the groups.\n",
    "\n",
    "__Realistic Assessment:__ This outcome provides a more realistic measure of the test's performance in real-world scenarios where data variability is higher. It highlights the importance of considering different levels of variability to understand the robustness of the test.\n",
    "\n"
   ]
  },
  {
   "cell_type": "markdown",
   "id": "43be066b",
   "metadata": {},
   "source": [
    "## Compare and Contrast Standard Deviation 0.1 and 0.5 Results"
   ]
  },
  {
   "cell_type": "markdown",
   "id": "cbeba388",
   "metadata": {},
   "source": [
    "| **Standard Deviation** | **Description** |\n",
    "|------------------------|-----------------|\n",
    "| **0.1**                | **Low Variability**: The data points are closely clustered around the mean, resulting in low variability. <br> **Clear Differences**: The small standard deviation makes it easier to detect differences between the groups, leading to no type II errors. <br> **High Sensitivity**: The test is highly sensitive to even small differences, ensuring that the null hypothesis is rejected when it is false. |\n",
    "| **0.5**                | **High Variability**: The data points are more spread out around the mean, resulting in higher variability. <br> **Challenging Detection**: The increased variability makes it harder to detect differences between the groups, leading to a higher number of type II errors. <br> **Realistic Representation**: This standard deviation provides a more realistic measure of variability, reflecting real-world data conditions. |\n"
   ]
  },
  {
   "cell_type": "markdown",
   "id": "b5c8e31d",
   "metadata": {},
   "source": [
    "https://www.statology.org/how-to-compare-standard-deviations/\n",
    "\n",
    "The choice of standard deviation significantly impacts the results of the one-way ANOVA test. A standard deviation of 0.1 leads to no type II errors and high sensitivity, but may not reflect real-world data variability. On the other hand, a standard deviation of 0.5 provides a more realistic measure of variability, but results in a higher probability of type II errors. Balancing these factors is crucial for accurate and meaningful statistical analysis."
   ]
  },
  {
   "cell_type": "markdown",
   "id": "2c0c4320",
   "metadata": {},
   "source": [
    "## Acknowledgements\n",
    "\n",
    "This project was developed with the assistance of Microsoft Copilot, an AI companion created by Microsoft. Copilot provided valuable insights and support throughout the development process.\n"
   ]
  }
 ],
 "metadata": {
  "kernelspec": {
   "display_name": "base",
   "language": "python",
   "name": "python3"
  },
  "language_info": {
   "codemirror_mode": {
    "name": "ipython",
    "version": 3
   },
   "file_extension": ".py",
   "mimetype": "text/x-python",
   "name": "python",
   "nbconvert_exporter": "python",
   "pygments_lexer": "ipython3",
   "version": "3.12.4"
  }
 },
 "nbformat": 4,
 "nbformat_minor": 5
}
